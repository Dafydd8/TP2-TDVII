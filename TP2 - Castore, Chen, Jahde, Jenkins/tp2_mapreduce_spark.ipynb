{
  "nbformat": 4,
  "nbformat_minor": 0,
  "metadata": {
    "colab": {
      "provenance": []
    },
    "kernelspec": {
      "name": "python3",
      "display_name": "Python 3"
    },
    "language_info": {
      "name": "python"
    }
  },
  "cells": [
    {
      "cell_type": "code",
      "execution_count": null,
      "metadata": {
        "id": "1kDjNXuStYbO"
      },
      "outputs": [],
      "source": [
        "from pyspark import SparkConf, SparkContext\n",
        "\n",
        "conf = SparkConf().setMaster(\"local\").setAppName(\"TP2\")\n",
        "\n",
        "\n",
        "sc = SparkContext(conf = conf)"
      ]
    },
    {
      "cell_type": "code",
      "source": [
        "from pyspark.sql import SparkSession\n",
        "\n",
        "spark = SparkSession.builder \\\n",
        "    .appName(\"TP2-TDVII\") \\\n",
        "    .getOrCreate()"
      ],
      "metadata": {
        "id": "H3MNDEVXtqW5"
      },
      "execution_count": null,
      "outputs": []
    },
    {
      "cell_type": "markdown",
      "source": [
        "# 2. Map Reduce Spark"
      ],
      "metadata": {
        "id": "QGrkwqhLA5gl"
      }
    },
    {
      "cell_type": "markdown",
      "source": [
        "### 1. Para cada provincia, calcular cuantos efectores de salud hay"
      ],
      "metadata": {
        "id": "8Ab2B74ft5ry"
      }
    },
    {
      "cell_type": "code",
      "source": [
        "import pandas as pd\n",
        "\n",
        "url = 'https://raw.githubusercontent.com/Dafydd8/TP2-TDVII/main/data/csvs/efectordesalud.csv'\n",
        "df_efectordesalud = pd.read_csv(url, delimiter=',')"
      ],
      "metadata": {
        "id": "gxdoj5nl2FxA"
      },
      "execution_count": null,
      "outputs": []
    },
    {
      "cell_type": "code",
      "source": [
        "efectoresdesalud = []\n",
        "\n",
        "for index, row in df_efectordesalud.iterrows():\n",
        "  cod_refes = row['cod_refes']\n",
        "  nombre = row['nombre']\n",
        "  id_prov = row['id_prov']\n",
        "  nivel = row['nivel']\n",
        "  efectoresdesalud.append((cod_refes, nombre, id_prov, nivel))"
      ],
      "metadata": {
        "id": "b1REYt4Pq8n2"
      },
      "execution_count": null,
      "outputs": []
    },
    {
      "cell_type": "code",
      "source": [
        "url = 'https://raw.githubusercontent.com/Dafydd8/TP2-TDVII/main/data/csvs/provincia.csv'\n",
        "df_provincia = pd.read_csv(url, delimiter=',')"
      ],
      "metadata": {
        "id": "3FJyODxusInS"
      },
      "execution_count": null,
      "outputs": []
    },
    {
      "cell_type": "code",
      "source": [
        "provincias = []\n",
        "\n",
        "for index, row in df_provincia.iterrows():\n",
        "  id_prov = row['id_prov']\n",
        "  nombre = row['nombre']\n",
        "  poblacion_total = row['poblacion_total']\n",
        "  provincias.append((id_prov, nombre, poblacion_total))"
      ],
      "metadata": {
        "id": "fedzm2yZwAZ7"
      },
      "execution_count": null,
      "outputs": []
    },
    {
      "cell_type": "code",
      "source": [
        "rdd_efectores = sc.parallelize(efectoresdesalud)\n",
        "rdd_provincias = sc.parallelize(provincias)\n",
        "\n",
        "efectores_por_prov = rdd_efectores.map(lambda x: (x[2], 1)) # (id_prov, 1)\n",
        "prov_nombre = rdd_provincias.map(lambda x: (x[0], x[1])) # (id_prov, nombre)\n",
        "red = efectores_por_prov.reduceByKey(lambda a, b: a + b) # (id_prov, cantidad de efectores)\n",
        "\n",
        "joined = red.join(prov_nombre) # (id_prov, (cantidad de efectores, nombre))\n",
        "res = joined.map(lambda x: (x[1][1], x[1][0])) # (nombre, cantidad de efectores)\n",
        "\n",
        "print(\"Provincia, Cantidad de efectores de salud\")\n",
        "for k, v in res.collect():\n",
        "  print(f\"{k}, {v}\")"
      ],
      "metadata": {
        "id": "XtS1k0ALujWI",
        "colab": {
          "base_uri": "https://localhost:8080/"
        },
        "outputId": "2bd7e297-5dcd-4ce8-c139-c4bb8cd6e6bf"
      },
      "execution_count": null,
      "outputs": [
        {
          "output_type": "stream",
          "name": "stdout",
          "text": [
            "Provincia, Cantidad de efectores de salud\n",
            "CABA, 3\n",
            "Santa Fe, 3\n",
            "Tucumán, 2\n",
            "Entre Ríos, 4\n",
            "Santiago del Estero, 3\n",
            "Neuquén, 2\n",
            "San Juan, 1\n",
            "Formosa, 4\n",
            "La Rioja, 1\n",
            "Chaco, 4\n",
            "La Pampa, 1\n",
            "Tierra del Fuego, 1\n",
            "Buenos Aires, 4\n",
            "Córdoba, 3\n",
            "Mendoza, 1\n",
            "Salta, 4\n",
            "Corrientes, 3\n",
            "Misiones, 3\n",
            "Río Negro, 2\n",
            "San Luis, 3\n",
            "Jujuy, 5\n",
            "Catamarca, 1\n",
            "Chubut, 5\n",
            "Santa Cruz, 2\n"
          ]
        }
      ]
    },
    {
      "cell_type": "markdown",
      "source": [
        "### 2. Promedio de edad por provincia"
      ],
      "metadata": {
        "id": "HO-BQ4iNyoV3"
      }
    },
    {
      "cell_type": "code",
      "source": [
        "url = 'https://raw.githubusercontent.com/Dafydd8/TP2-TDVII/main/data/csvs/persona.csv'\n",
        "df_persona = pd.read_csv(url, delimiter=',')"
      ],
      "metadata": {
        "id": "oCoZ0Cl2xklb"
      },
      "execution_count": null,
      "outputs": []
    },
    {
      "cell_type": "code",
      "source": [
        "personas = []\n",
        "\n",
        "for index, row in df_persona.iterrows():\n",
        "  id_prov = row['id_provincia']\n",
        "  fecha = row['fecha_nacimiento']\n",
        "  personas.append((id_prov, fecha))"
      ],
      "metadata": {
        "id": "hRhJpeqGycdt"
      },
      "execution_count": null,
      "outputs": []
    },
    {
      "cell_type": "code",
      "source": [
        "from datetime import datetime\n",
        "\n",
        "rdd = sc.parallelize(personas)\n",
        "\n",
        "hoy = datetime.now()\n",
        "\n",
        "edades = rdd.map(lambda x: (\n",
        "    x[0],  # id_provincia\n",
        "    (hoy.year - datetime.strptime(x[1], \"%Y-%m-%d\").year -\n",
        "    ((hoy.month, hoy.day) < (datetime.strptime(x[1], \"%Y-%m-%d\").month, datetime.strptime(x[1], \"%Y-%m-%d\").day)), 1)\n",
        "))\n",
        "\n",
        "datos = edades.reduceByKey(lambda a, b: (a[0]+b[0], a[1]+b[1])) # sumo por un lado las edades, y por el otro las apariciones\n",
        "\n",
        "avg = datos.mapValues(lambda x: x[0] / x[1])\n",
        "joined = avg.join(rdd_provincias)\n",
        "avg_final = joined.map(lambda x: (x[1][1], x[1][0]))\n",
        "\n",
        "for nombre, edad in sorted(avg_final.collect()):\n",
        "    print(f\"{nombre}: {edad}\")"
      ],
      "metadata": {
        "colab": {
          "base_uri": "https://localhost:8080/"
        },
        "id": "TqdlSNAj1DIe",
        "outputId": "8d4a5c40-5932-4a57-bb40-497ccc8bf161"
      },
      "execution_count": null,
      "outputs": [
        {
          "output_type": "stream",
          "name": "stdout",
          "text": [
            "Buenos Aires: 42.388888888888886\n",
            "CABA: 51.6\n",
            "Catamarca: 49.642857142857146\n",
            "Chaco: 36.526315789473685\n",
            "Chubut: 39.0\n",
            "Corrientes: 48.36842105263158\n",
            "Córdoba: 46.705882352941174\n",
            "Entre Ríos: 61.1\n",
            "Formosa: 59.94117647058823\n",
            "Jujuy: 55.833333333333336\n",
            "La Pampa: 50.294117647058826\n",
            "La Rioja: 40.0\n",
            "Mendoza: 54.375\n",
            "Misiones: 39.5\n",
            "Neuquén: 43.42857142857143\n",
            "Río Negro: 48.388888888888886\n",
            "Salta: 34.09090909090909\n",
            "San Juan: 39.0\n",
            "San Luis: 40.13333333333333\n",
            "Santa Cruz: 47.25\n",
            "Santa Fe: 36.611111111111114\n",
            "Santiago del Estero: 49.54545454545455\n",
            "Tucumán: 48.15384615384615\n"
          ]
        }
      ]
    },
    {
      "cell_type": "markdown",
      "source": [
        "### 3. Cuántos HCE gestionan recetas digitales"
      ],
      "metadata": {
        "id": "Q_z9tRiL4t2w"
      }
    },
    {
      "cell_type": "code",
      "source": [
        "url = 'https://raw.githubusercontent.com/Dafydd8/TP2-TDVII/main/data/csvs/hce.csv'\n",
        "df_hce = pd.read_csv(url, delimiter=',')"
      ],
      "metadata": {
        "id": "lgcqGPz84uVq"
      },
      "execution_count": null,
      "outputs": []
    },
    {
      "cell_type": "code",
      "source": [
        "hce = []\n",
        "\n",
        "for index, row in df_hce.iterrows():\n",
        "  g = row['generacion_receta_digital']\n",
        "  hce.append(g)\n"
      ],
      "metadata": {
        "id": "45NV0cdT4x-7"
      },
      "execution_count": null,
      "outputs": []
    },
    {
      "cell_type": "code",
      "source": [
        "rdd = sc.parallelize(hce)\n",
        "mapeo = rdd.map(lambda x: (x, 1))\n",
        "conteo = mapeo.reduceByKey(lambda a, b: a+b)\n",
        "for i, j in sorted(conteo.collect()):\n",
        "    print(f\"{i}: {j}\")"
      ],
      "metadata": {
        "colab": {
          "base_uri": "https://localhost:8080/"
        },
        "id": "U3EcffVD6Hpf",
        "outputId": "fb04a416-e08f-4e56-e5cc-635f2d8f43ea"
      },
      "execution_count": null,
      "outputs": [
        {
          "output_type": "stream",
          "name": "stdout",
          "text": [
            "Genera: 24\n",
            "No genera: 21\n"
          ]
        }
      ]
    },
    {
      "cell_type": "markdown",
      "source": [
        "### 4. Proporción de personas registradas en el sistema de salud"
      ],
      "metadata": {
        "id": "k0iarq157DPM"
      }
    },
    {
      "cell_type": "code",
      "source": [
        "# Cantidad de personas por provincia\n",
        "personas_rdd = sc.parallelize(personas)\n",
        "registradas = personas_rdd.map(lambda x: (x[0], 1)) # (id_prov, 1)\n",
        "conteo = registradas.reduceByKey(lambda a, b: a+b) # (id_prov, cantidad de personas)\n",
        "\n",
        "prov_rdd = sc.parallelize(provincias)\n",
        "prov_poblacion_total = prov_rdd.map(lambda x: (x[0], x[2])) # (id_prov, poblacion_total)\n",
        "prov_nombre = prov_rdd.map(lambda x: (x[0], x[1])) # (id_prov, nombre)\n",
        "join_rdd = prov_poblacion_total.join(conteo) # (id_prov, (poblacion total, cantidad de personas))\n",
        "\n",
        "proporcion_rdd = join_rdd.mapValues(lambda x: round(x[1] / x[0], 6))  # proporción con 6 decimales\n",
        "proporcion_join = proporcion_rdd.join(prov_nombre) # (id_prov, (proporcion, nombre))\n",
        "res = proporcion_join.map(lambda x: (x[1][1], x[1][0])) # (nombre, proporcion)\n",
        "\n",
        "print(f\"Provincia - Proporción registrada\")\n",
        "for prov, prop in res.collect():\n",
        "    print(f\"{prov} - {prop*100}%\")\n",
        "\n",
        "print(\"\\nNOTA: Hay pocas personas registradas respecto a la poblacion de las provicias, por eso los numeros tan chicos\")"
      ],
      "metadata": {
        "colab": {
          "base_uri": "https://localhost:8080/"
        },
        "id": "rO5ViGAd7nDq",
        "outputId": "a655c7b3-1682-4489-d59f-f007388a07b6"
      },
      "execution_count": null,
      "outputs": [
        {
          "output_type": "stream",
          "name": "stdout",
          "text": [
            "Provincia - Proporción registrada\n",
            "Tucumán - 0.0007999999999999999%\n",
            "Neuquén - 0.0019000000000000002%\n",
            "La Rioja - 0.0042%\n",
            "Córdoba - 0.00039999999999999996%\n",
            "Corrientes - 0.0017%\n",
            "San Luis - 0.0028%\n",
            "Chubut - 0.0019000000000000002%\n",
            "Santa Fe - 0.0005%\n",
            "Santiago del Estero - 0.001%\n",
            "Formosa - 0.003%\n",
            "La Pampa - 0.004699999999999999%\n",
            "Buenos Aires - 9.999999999999999e-05%\n",
            "Salta - 0.0007999999999999999%\n",
            "Río Negro - 0.0024000000000000002%\n",
            "Catamarca - 0.0033000000000000004%\n",
            "CABA - 0.0005%\n",
            "Entre Ríos - 0.0007%\n",
            "San Juan - 0.0021%\n",
            "Chaco - 0.0015999999999999999%\n",
            "Mendoza - 0.0007999999999999999%\n",
            "Misiones - 0.0014%\n",
            "Jujuy - 0.0015%\n",
            "Santa Cruz - 0.0059%\n",
            "\n",
            "NOTA: Hay pocas personas registradas respecto a la poblacion de las provicias, por eso los numeros tan chicos\n"
          ]
        }
      ]
    },
    {
      "cell_type": "markdown",
      "source": [
        "\n",
        "\n",
        "---\n",
        "\n",
        "\n",
        "# 3. Spark\n"
      ],
      "metadata": {
        "id": "mVu6100PAz_o"
      }
    },
    {
      "cell_type": "markdown",
      "source": [
        "### Cargamos las tablas"
      ],
      "metadata": {
        "id": "1UZdLklcbeMp"
      }
    },
    {
      "cell_type": "code",
      "source": [
        "import requests\n",
        "path = 'https://raw.githubusercontent.com/Dafydd8/TP2-TDVII/main/data/csvs/problema.csv'\n",
        "req = requests.get(path)\n",
        "url_content = req.content\n",
        "\n",
        "csv_file_name = 'problema.csv'\n",
        "csv_file = open(csv_file_name, 'wb')\n",
        "\n",
        "csv_file.write(url_content)\n",
        "csv_file.close()\n",
        "\n",
        "df_problema = spark.read.csv(csv_file_name, header=True, inferSchema=True)\n",
        "df_problema.createOrReplaceTempView(\"problema\")\n",
        "# df_problema.printSchema()\n",
        "df_problema.show(5)"
      ],
      "metadata": {
        "id": "eIn1RSCE9qOA",
        "colab": {
          "base_uri": "https://localhost:8080/"
        },
        "outputId": "809be36e-deb8-42e7-b39e-24293668fedc"
      },
      "execution_count": null,
      "outputs": [
        {
          "output_type": "stream",
          "name": "stdout",
          "text": [
            "+------------+---------+-----------------+--------------------+\n",
            "|cod_problema|cod_refes|             tipo|         descripcion|\n",
            "+------------+---------+-----------------+--------------------+\n",
            "|           1|       11|  Infraestructura|Techo con filtrac...|\n",
            "|           2|       21|  Infraestructura|Baños en mal esta...|\n",
            "|           3|        3|     Conectividad|Internet inestabl...|\n",
            "|           4|       14|FaltaDispositivos|Falta de termómet...|\n",
            "|           5|        9|     Conectividad|No hay señal Wi-F...|\n",
            "+------------+---------+-----------------+--------------------+\n",
            "only showing top 5 rows\n",
            "\n"
          ]
        }
      ]
    },
    {
      "cell_type": "code",
      "source": [
        "path = 'https://raw.githubusercontent.com/Dafydd8/TP2-TDVII/main/data/csvs/efectortercernivel.csv'\n",
        "req = requests.get(path)\n",
        "url_content = req.content\n",
        "\n",
        "csv_file_name = 'efectortercernivel.csv'\n",
        "csv_file = open(csv_file_name, 'wb')\n",
        "\n",
        "csv_file.write(url_content)\n",
        "csv_file.close()\n",
        "\n",
        "df_efectortercernivel = spark.read.csv(csv_file_name, header=True, inferSchema=True)\n",
        "\n",
        "df_efectortercernivel.createOrReplaceTempView(\"efectortercernivel\")\n",
        "df_efectortercernivel.show(5)"
      ],
      "metadata": {
        "id": "G1vtlaN1DGxQ",
        "colab": {
          "base_uri": "https://localhost:8080/"
        },
        "outputId": "055b3322-96b5-403b-d68c-2273cb905721"
      },
      "execution_count": null,
      "outputs": [
        {
          "output_type": "stream",
          "name": "stdout",
          "text": [
            "+---------+--------------------+\n",
            "|cod_refes|                tipo|\n",
            "+---------+--------------------+\n",
            "|        3|Instituto Especia...|\n",
            "|        8|     Alta Tecnología|\n",
            "|        9|     Alta Tecnología|\n",
            "|       14|     Alta Tecnología|\n",
            "|       15|Instituto Especia...|\n",
            "+---------+--------------------+\n",
            "only showing top 5 rows\n",
            "\n"
          ]
        }
      ]
    },
    {
      "cell_type": "code",
      "source": [
        "path = 'https://raw.githubusercontent.com/Dafydd8/TP2-TDVII/main/data/csvs/efectordesalud.csv'\n",
        "req = requests.get(path)\n",
        "url_content = req.content\n",
        "\n",
        "csv_file_name = 'efectordesalud.csv'\n",
        "csv_file = open(csv_file_name, 'wb')\n",
        "\n",
        "csv_file.write(url_content)\n",
        "csv_file.close()\n",
        "\n",
        "df_efectordesalud = spark.read.csv(csv_file_name, header=True, inferSchema=True)\n",
        "\n",
        "df_efectordesalud.createOrReplaceTempView(\"efectordesalud\")\n",
        "df_efectordesalud.show(5)"
      ],
      "metadata": {
        "colab": {
          "base_uri": "https://localhost:8080/"
        },
        "id": "RPXOheqSafq4",
        "outputId": "5ee5c1a5-6668-47fc-fff2-62356c503aa6"
      },
      "execution_count": null,
      "outputs": [
        {
          "output_type": "stream",
          "name": "stdout",
          "text": [
            "+---------+--------------------+-------+-------------+\n",
            "|cod_refes|              nombre|id_prov|        nivel|\n",
            "+---------+--------------------+-------+-------------+\n",
            "|        1|  Centro Médico Roig|      1| Primer Nivel|\n",
            "|        2|Posta Sanitaria C...|      2| Primer Nivel|\n",
            "|        3|Posta Sanitaria T...|      2| Tercer Nivel|\n",
            "|        4|Posta Sanitaria M...|      3|Segundo Nivel|\n",
            "|        5|    Hospital Benítez|      3|Segundo Nivel|\n",
            "+---------+--------------------+-------+-------------+\n",
            "only showing top 5 rows\n",
            "\n"
          ]
        }
      ]
    },
    {
      "cell_type": "code",
      "source": [
        "path = 'https://raw.githubusercontent.com/Dafydd8/TP2-TDVII/main/data/csvs/provincia.csv'\n",
        "req = requests.get(path)\n",
        "url_content = req.content\n",
        "\n",
        "csv_file_name = 'provincia.csv'\n",
        "csv_file = open(csv_file_name, 'wb')\n",
        "\n",
        "csv_file.write(url_content)\n",
        "csv_file.close()\n",
        "\n",
        "df_prov = spark.read.csv(csv_file_name, header=True, inferSchema=True)\n",
        "\n",
        "df_prov.createOrReplaceTempView(\"provincia\")\n",
        "df_prov.show(5)"
      ],
      "metadata": {
        "colab": {
          "base_uri": "https://localhost:8080/"
        },
        "id": "iXlhDYA0cCK7",
        "outputId": "345eb585-40ac-433e-9a43-1f616eaae8a7"
      },
      "execution_count": null,
      "outputs": [
        {
          "output_type": "stream",
          "name": "stdout",
          "text": [
            "+-------+------------+---------------+\n",
            "|id_prov|      nombre|poblacion_total|\n",
            "+-------+------------+---------------+\n",
            "|      1|Buenos Aires|       17523996|\n",
            "|      2|        CABA|        3121707|\n",
            "|      3|     Córdoba|        3840905|\n",
            "|      4|    Santa Fe|        3544908|\n",
            "|      5|     Mendoza|        2014533|\n",
            "+-------+------------+---------------+\n",
            "only showing top 5 rows\n",
            "\n"
          ]
        }
      ]
    },
    {
      "cell_type": "markdown",
      "source": [
        "### **Consultas**"
      ],
      "metadata": {
        "id": "wuQx3d9AbOjX"
      }
    },
    {
      "cell_type": "code",
      "source": [
        "query = \"\\\n",
        "  select *\\\n",
        "  from problema\\\n",
        "\"\n",
        "\n",
        "res = spark.sql(query)\n",
        "res.show(5)"
      ],
      "metadata": {
        "colab": {
          "base_uri": "https://localhost:8080/"
        },
        "id": "DKnPUd9ICPBO",
        "outputId": "981387b5-aa7e-464c-fe83-1ca45f859178"
      },
      "execution_count": null,
      "outputs": [
        {
          "output_type": "stream",
          "name": "stdout",
          "text": [
            "+------------+---------+-----------------+--------------------+\n",
            "|cod_problema|cod_refes|             tipo|         descripcion|\n",
            "+------------+---------+-----------------+--------------------+\n",
            "|           1|       11|  Infraestructura|Techo con filtrac...|\n",
            "|           2|       21|  Infraestructura|Baños en mal esta...|\n",
            "|           3|        3|     Conectividad|Internet inestabl...|\n",
            "|           4|       14|FaltaDispositivos|Falta de termómet...|\n",
            "|           5|        9|     Conectividad|No hay señal Wi-F...|\n",
            "+------------+---------+-----------------+--------------------+\n",
            "only showing top 5 rows\n",
            "\n"
          ]
        }
      ]
    },
    {
      "cell_type": "markdown",
      "source": [
        "#### 1. Cantidad de efectores de salud que tienen problemas por nivel."
      ],
      "metadata": {
        "id": "SuSk0RlbBHGJ"
      }
    },
    {
      "cell_type": "code",
      "source": [
        "query = \"\"\"\n",
        "  SELECT e.nivel, COUNT(DISTINCT e.cod_refes) as cant_efectores_con_problemas\n",
        "  FROM efectordesalud e\n",
        "    JOIN problema p ON e.cod_refes = p.cod_refes\n",
        "  GROUP BY e.nivel\n",
        "  ORDER BY cant_efectores_con_problemas DESC\n",
        "\"\"\"\n",
        "result = spark.sql(query)\n",
        "result.show()\n"
      ],
      "metadata": {
        "id": "iYdP9RysBJP8",
        "colab": {
          "base_uri": "https://localhost:8080/"
        },
        "outputId": "874e1cd5-cf2d-43f2-888c-056cc1a6b18b"
      },
      "execution_count": null,
      "outputs": [
        {
          "output_type": "stream",
          "name": "stdout",
          "text": [
            "+-------------+----------------------------+\n",
            "|        nivel|cant_efectores_con_problemas|\n",
            "+-------------+----------------------------+\n",
            "|Segundo Nivel|                           7|\n",
            "| Primer Nivel|                           4|\n",
            "| Tercer Nivel|                           3|\n",
            "+-------------+----------------------------+\n",
            "\n"
          ]
        }
      ]
    },
    {
      "cell_type": "markdown",
      "source": [
        "#### 2. Cantidad de problemas de cada tipo por provincia"
      ],
      "metadata": {
        "id": "kQ8yuCfPBIUr"
      }
    },
    {
      "cell_type": "code",
      "source": [
        "query = \"\"\"\n",
        "  SELECT\n",
        "    pr.nombre provincia\n",
        "    , p.tipo\n",
        "    , COUNT(*) cantidad\n",
        "  FROM problema p\n",
        "    JOIN efectordesalud e ON p.cod_refes = e.cod_refes\n",
        "      JOIN provincia pr ON e.id_prov = pr.id_prov\n",
        "  GROUP BY pr.nombre, p.tipo\n",
        "  ORDER BY provincia, cantidad DESC\n",
        "\"\"\"\n",
        "result = spark.sql(query)\n",
        "result.show()"
      ],
      "metadata": {
        "colab": {
          "base_uri": "https://localhost:8080/"
        },
        "id": "8DTjr77-ciFh",
        "outputId": "96bbc22b-c327-432e-c06a-e1c799c75340"
      },
      "execution_count": null,
      "outputs": [
        {
          "output_type": "stream",
          "name": "stdout",
          "text": [
            "+------------+-----------------+--------+\n",
            "|   provincia|             tipo|cantidad|\n",
            "+------------+-----------------+--------+\n",
            "|Buenos Aires|     Conectividad|       3|\n",
            "|Buenos Aires|  Infraestructura|       2|\n",
            "|        CABA|     Conectividad|       1|\n",
            "|     Córdoba|  Infraestructura|       2|\n",
            "|  Entre Ríos|FaltaDispositivos|       1|\n",
            "|  Entre Ríos|  Infraestructura|       1|\n",
            "|     Mendoza|  Infraestructura|       1|\n",
            "|       Salta|FaltaDispositivos|       2|\n",
            "|       Salta|     Conectividad|       1|\n",
            "|    Santa Fe|FaltaDispositivos|       1|\n",
            "|     Tucumán|     Conectividad|       2|\n",
            "|     Tucumán|  Infraestructura|       1|\n",
            "|     Tucumán|FaltaDispositivos|       1|\n",
            "+------------+-----------------+--------+\n",
            "\n"
          ]
        }
      ]
    },
    {
      "cell_type": "markdown",
      "source": [
        "#### 3. Cantidad de problemas por provincia, por habitante"
      ],
      "metadata": {
        "id": "NfWPW88mi1uq"
      }
    },
    {
      "cell_type": "code",
      "source": [
        "query = \"\"\"\n",
        "  SELECT pr.nombre provincia,\n",
        "        COUNT(p.cod_problema) cantidad_problemas,\n",
        "        pr.poblacion_total,\n",
        "        (ROUND(COUNT(p.cod_problema) / pr.poblacion_total, 6)) problemas_por_habitante\n",
        "  FROM problema p\n",
        "  JOIN efectordesalud e ON p.cod_refes = e.cod_refes\n",
        "  JOIN provincia pr ON e.id_prov = pr.id_prov\n",
        "  GROUP BY pr.nombre, pr.poblacion_total\n",
        "  ORDER BY problemas_por_habitante DESC\n",
        "\"\"\"\n",
        "result = spark.sql(query)\n",
        "result.show()"
      ],
      "metadata": {
        "colab": {
          "base_uri": "https://localhost:8080/"
        },
        "id": "fMruux4IiGiL",
        "outputId": "ce26d77e-8ba3-4396-8244-41780058dc40"
      },
      "execution_count": null,
      "outputs": [
        {
          "output_type": "stream",
          "name": "stdout",
          "text": [
            "+------------+------------------+---------------+-----------------------+\n",
            "|   provincia|cantidad_problemas|poblacion_total|problemas_por_habitante|\n",
            "+------------+------------------+---------------+-----------------------+\n",
            "|       Salta|                 3|        1440672|                 2.0E-6|\n",
            "|     Tucumán|                 4|        1703186|                 2.0E-6|\n",
            "|  Entre Ríos|                 2|        1385961|                 1.0E-6|\n",
            "|     Córdoba|                 2|        3840905|                 1.0E-6|\n",
            "|    Santa Fe|                 1|        3544908|                    0.0|\n",
            "|Buenos Aires|                 5|       17523996|                    0.0|\n",
            "|        CABA|                 1|        3121707|                    0.0|\n",
            "|     Mendoza|                 1|        2014533|                    0.0|\n",
            "+------------+------------------+---------------+-----------------------+\n",
            "\n"
          ]
        }
      ]
    }
  ]
}