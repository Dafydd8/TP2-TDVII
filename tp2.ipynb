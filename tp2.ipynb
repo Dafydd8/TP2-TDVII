{
 "cells": [
  {
   "cell_type": "code",
   "execution_count": 38,
   "id": "2977b0e8",
   "metadata": {},
   "outputs": [
    {
     "name": "stdout",
     "output_type": "stream",
     "text": [
      "Requirement already satisfied: redis in c:\\users\\dafyd\\miniconda3\\envs\\td7\\lib\\site-packages (6.2.0)\n"
     ]
    }
   ],
   "source": [
    "# Instalar el cliente de Redis\n",
    "!pip install redis"
   ]
  },
  {
   "cell_type": "code",
   "execution_count": 39,
   "id": "278f65e3",
   "metadata": {},
   "outputs": [
    {
     "data": {
      "text/plain": [
       "True"
      ]
     },
     "execution_count": 39,
     "metadata": {},
     "output_type": "execute_result"
    }
   ],
   "source": [
    "import redis\n",
    "\n",
    "# Conexión a Redis local\n",
    "r = redis.Redis(host='localhost', port=6380, decode_responses=True)\n",
    "# Decodifica automáticamente las respuestas de Redis para que no devuelva siempre bytes.\n",
    "\n",
    "# Probar la conexión\n",
    "r.ping()"
   ]
  },
  {
   "cell_type": "markdown",
   "id": "a5e363d4",
   "metadata": {},
   "source": [
    "## 1"
   ]
  },
  {
   "cell_type": "markdown",
   "id": "b14b8bc2",
   "metadata": {},
   "source": [
    "Comenzamos cargando personas (de la entidad Persona) como json asociados a una clave interna"
   ]
  },
  {
   "cell_type": "code",
   "execution_count": 40,
   "id": "a7746407",
   "metadata": {},
   "outputs": [
    {
     "name": "stdout",
     "output_type": "stream",
     "text": [
      "{'nombre': 'Lidia', 'apellido': 'Padilla', 'segundo_nombre': 'NULL', 'segundo_apellido': 'Paredes', 'tipo_documento': 'LC', 'numero_documento': 30690283, 'sexo': 'X', 'fecha_nacimiento': '1997-03-07', 'id_provincia': 1, 'cobertura_medica': 'Mixta'}\n"
     ]
    }
   ],
   "source": [
    "import json\n",
    "\n",
    "lidia = {\n",
    "    \"nombre\": \"Lidia\",\n",
    "    \"apellido\": \"Padilla\",\n",
    "    \"segundo_nombre\": \"NULL\",\n",
    "    \"segundo_apellido\": \"Paredes\",\n",
    "    \"tipo_documento\": \"LC\",\n",
    "    \"numero_documento\": 30690283,\n",
    "    \"sexo\": \"X\",\n",
    "    \"fecha_nacimiento\": \"1997-03-07\",\n",
    "    \"id_provincia\": 1,\n",
    "    \"cobertura_medica\": \"Mixta\"\n",
    "}\n",
    "\n",
    "r.set(\"persona:1000\", json.dumps(lidia)) # Guarda la persona como un JSON en Redis\n",
    "\n",
    "# Recuperacion del JSON desde Redis y conversion a un diccionacion de Python.\n",
    "lidia_recuperada = json.loads(r.get(\"persona:1000\"))\n",
    "print(lidia_recuperada)"
   ]
  },
  {
   "cell_type": "markdown",
   "id": "90837e69",
   "metadata": {},
   "source": [
    "Editamos info de Lidia (porque por ejemplo se cambió de tipo de cobertura médica)"
   ]
  },
  {
   "cell_type": "code",
   "execution_count": 41,
   "id": "ae51fa70",
   "metadata": {},
   "outputs": [
    {
     "name": "stdout",
     "output_type": "stream",
     "text": [
      "{'nombre': 'Lidia', 'apellido': 'Padilla', 'segundo_nombre': 'NULL', 'segundo_apellido': 'Paredes', 'tipo_documento': 'LC', 'numero_documento': 30690283, 'sexo': 'X', 'fecha_nacimiento': '1997-03-07', 'id_provincia': 1, 'cobertura_medica': 'CPE'}\n"
     ]
    }
   ],
   "source": [
    "lidia_recuperada['cobertura_medica'] = 'CPE'\n",
    "r.set(\"persona:1000\", json.dumps(lidia_recuperada))  # Actualiza el JSON en Redis\n",
    "\n",
    "# Recuperar la persona actualizada\n",
    "lidia_actualizada = json.loads(r.get(\"persona:1000\"))\n",
    "print(lidia_actualizada)"
   ]
  },
  {
   "cell_type": "markdown",
   "id": "0f59de05",
   "metadata": {},
   "source": [
    "Ahora, cargamos a varias personas desde un archivo JSON (generado de nuestra tabla Persona) a un hash de Personas"
   ]
  },
  {
   "cell_type": "code",
   "execution_count": 42,
   "id": "08530a58",
   "metadata": {},
   "outputs": [
    {
     "name": "stdout",
     "output_type": "stream",
     "text": [
      "<class 'list'>\n",
      "{'nombre': 'Lidia', 'apellido': 'Padilla', 'segundo_nombre': 'NULL', 'segundo_apellido': 'Paredes', 'tipo_documento': 'LC', 'numero_documento': 30690283, 'sexo': 'X', 'fecha_nacimiento': '1997-03-07', 'id_provincia': 1, 'cobertura_medica': 'CPE'}\n",
      "{'nombre': 'Susana', 'apellido': 'Granados', 'segundo_nombre': 'NULL', 'segundo_apellido': 'NULL', 'tipo_documento': 'LC', 'numero_documento': 10200509, 'sexo': 'M', 'fecha_nacimiento': '1954-07-11', 'id_provincia': 1, 'cobertura_medica': 'CPE'}\n",
      "{'nombre': 'Rufino', 'apellido': 'Coello', 'segundo_nombre': 'NULL', 'segundo_apellido': 'NULL', 'tipo_documento': 'DNI', 'numero_documento': 35688920, 'sexo': 'M', 'fecha_nacimiento': '1983-08-10', 'id_provincia': 1, 'cobertura_medica': 'Mixta'}\n",
      "{'nombre': 'Pascuala', 'apellido': 'Cabo', 'segundo_nombre': 'NULL', 'segundo_apellido': 'NULL', 'tipo_documento': 'LE', 'numero_documento': 17946521, 'sexo': 'X', 'fecha_nacimiento': '2001-05-09', 'id_provincia': 1, 'cobertura_medica': 'CPE'}\n",
      "{'nombre': 'Basilio', 'apellido': 'Mateo', 'segundo_nombre': 'Celestina', 'segundo_apellido': 'Pedrosa', 'tipo_documento': 'DNI', 'numero_documento': 31535749, 'sexo': 'F', 'fecha_nacimiento': '2012-09-27', 'id_provincia': 1, 'cobertura_medica': 'Mixta'}\n"
     ]
    }
   ],
   "source": [
    "import requests\n",
    "\n",
    "url = \"https://raw.githubusercontent.com/Dafydd8/TP2-TDVII/main/data/persona.json\"\n",
    "\n",
    "response = requests.get(url)\n",
    "response.raise_for_status()\n",
    "\n",
    "# Parsear el contenido como JSON\n",
    "personas = response.json()\n",
    "\n",
    "print(type(personas))\n",
    "for persona in personas[:5]: # Imprimir las primeras 5 personas\n",
    "    print(persona)\n"
   ]
  },
  {
   "cell_type": "code",
   "execution_count": 43,
   "id": "1c78f1a8",
   "metadata": {},
   "outputs": [],
   "source": [
    "i = 0\n",
    "for persona in personas:\n",
    "   s = \"persona:100\"+str(i)\n",
    "   i += 1\n",
    "   r.hset(\"personas\", s, json.dumps(persona)) # personas es el \"titulo\" del hash/diccionario"
   ]
  },
  {
   "cell_type": "markdown",
   "id": "88d8399a",
   "metadata": {},
   "source": [
    "Extraemos dos personas para chequear que están bien cargadas"
   ]
  },
  {
   "cell_type": "code",
   "execution_count": 44,
   "id": "71181762",
   "metadata": {},
   "outputs": [
    {
     "name": "stdout",
     "output_type": "stream",
     "text": [
      "Persona 1: {'nombre': 'Lidia', 'apellido': 'Padilla', 'segundo_nombre': 'NULL', 'segundo_apellido': 'Paredes', 'tipo_documento': 'LC', 'numero_documento': 30690283, 'sexo': 'X', 'fecha_nacimiento': '1997-03-07', 'id_provincia': 1, 'cobertura_medica': 'CPE'}\n",
      "Persona 2: {'nombre': 'Susana', 'apellido': 'Granados', 'segundo_nombre': 'NULL', 'segundo_apellido': 'NULL', 'tipo_documento': 'LC', 'numero_documento': 10200509, 'sexo': 'M', 'fecha_nacimiento': '1954-07-11', 'id_provincia': 1, 'cobertura_medica': 'CPE'}\n"
     ]
    }
   ],
   "source": [
    "persona1 = json.loads(r.hget(\"personas\", \"persona:1000\"))\n",
    "persona2 = json.loads(r.hget(\"personas\", \"persona:1001\"))\n",
    "\n",
    "print(\"Persona 1:\", persona1)\n",
    "print(\"Persona 2:\", persona2)"
   ]
  },
  {
   "cell_type": "markdown",
   "id": "1746a598",
   "metadata": {},
   "source": [
    "Modificamos un atributo de una de las personas (id_provincia), y lo seteamos en el hash."
   ]
  },
  {
   "cell_type": "code",
   "execution_count": 45,
   "id": "e538d064",
   "metadata": {},
   "outputs": [
    {
     "name": "stdout",
     "output_type": "stream",
     "text": [
      "{'nombre': 'Lidia', 'apellido': 'Padilla', 'segundo_nombre': 'NULL', 'segundo_apellido': 'Paredes', 'tipo_documento': 'LC', 'numero_documento': 30690283, 'sexo': 'X', 'fecha_nacimiento': '1997-03-07', 'id_provincia': 2, 'cobertura_medica': 'CPE'}\n"
     ]
    }
   ],
   "source": [
    "persona1[\"id_provincia\"] = 2\n",
    "print(persona1)"
   ]
  },
  {
   "cell_type": "code",
   "execution_count": 46,
   "id": "94a152a5",
   "metadata": {},
   "outputs": [
    {
     "data": {
      "text/plain": [
       "0"
      ]
     },
     "execution_count": 46,
     "metadata": {},
     "output_type": "execute_result"
    }
   ],
   "source": [
    "r.hset(\"personas\", \"persona:1000\", json.dumps(persona1))"
   ]
  },
  {
   "cell_type": "markdown",
   "id": "f3f48e7d",
   "metadata": {},
   "source": [
    "Chequeamos que se haya modificado correctamente"
   ]
  },
  {
   "cell_type": "code",
   "execution_count": 47,
   "id": "9fbbf929",
   "metadata": {},
   "outputs": [
    {
     "name": "stdout",
     "output_type": "stream",
     "text": [
      "Persona 1: {'nombre': 'Lidia', 'apellido': 'Padilla', 'segundo_nombre': 'NULL', 'segundo_apellido': 'Paredes', 'tipo_documento': 'LC', 'numero_documento': 30690283, 'sexo': 'X', 'fecha_nacimiento': '1997-03-07', 'id_provincia': 2, 'cobertura_medica': 'CPE'}\n"
     ]
    }
   ],
   "source": [
    "p1 = json.loads(r.hget(\"personas\", \"persona:1000\"))\n",
    "\n",
    "print(\"Persona 1:\", p1)"
   ]
  },
  {
   "cell_type": "markdown",
   "id": "f1b2ba0b",
   "metadata": {},
   "source": [
    "Eliminamos una persona del hash"
   ]
  },
  {
   "cell_type": "code",
   "execution_count": 48,
   "id": "44a4876f",
   "metadata": {},
   "outputs": [
    {
     "data": {
      "text/plain": [
       "1"
      ]
     },
     "execution_count": 48,
     "metadata": {},
     "output_type": "execute_result"
    }
   ],
   "source": [
    "r.hdel(\"personas\", \"persona:1000\")  # Eliminar la persona 1"
   ]
  },
  {
   "cell_type": "markdown",
   "id": "4ac21305",
   "metadata": {},
   "source": [
    "Vemos que ya no devuelve nada al intentar extraerla..."
   ]
  },
  {
   "cell_type": "code",
   "execution_count": 49,
   "id": "23bf51a9",
   "metadata": {},
   "outputs": [],
   "source": [
    "r.hget(\"personas\", \"persona:1000\")"
   ]
  },
  {
   "cell_type": "markdown",
   "id": "515993bb",
   "metadata": {},
   "source": [
    "...y que no está en el hash."
   ]
  },
  {
   "cell_type": "code",
   "execution_count": 37,
   "id": "c3de753a",
   "metadata": {},
   "outputs": [
    {
     "name": "stdout",
     "output_type": "stream",
     "text": [
      "persona:1001: {\"nombre\": \"Susana\", \"apellido\": \"Granados\", \"segundo_nombre\": \"NULL\", \"segundo_apellido\": \"NULL\", \"tipo_documento\": \"LC\", \"numero_documento\": 10200509, \"sexo\": \"M\", \"fecha_nacimiento\": \"1954-07-11\", \"id_provincia\": 1, \"cobertura_medica\": \"CPE\"}\n",
      "persona:1002: {\"nombre\": \"Rufino\", \"apellido\": \"Coello\", \"segundo_nombre\": \"NULL\", \"segundo_apellido\": \"NULL\", \"tipo_documento\": \"DNI\", \"numero_documento\": 35688920, \"sexo\": \"M\", \"fecha_nacimiento\": \"1983-08-10\", \"id_provincia\": 1, \"cobertura_medica\": \"Mixta\"}\n",
      "persona:1003: {\"nombre\": \"Pascuala\", \"apellido\": \"Cabo\", \"segundo_nombre\": \"NULL\", \"segundo_apellido\": \"NULL\", \"tipo_documento\": \"LE\", \"numero_documento\": 17946521, \"sexo\": \"X\", \"fecha_nacimiento\": \"2001-05-09\", \"id_provincia\": 1, \"cobertura_medica\": \"CPE\"}\n",
      "persona:1004: {\"nombre\": \"Basilio\", \"apellido\": \"Mateo\", \"segundo_nombre\": \"Celestina\", \"segundo_apellido\": \"Pedrosa\", \"tipo_documento\": \"DNI\", \"numero_documento\": 31535749, \"sexo\": \"F\", \"fecha_nacimiento\": \"2012-09-27\", \"id_provincia\": 1, \"cobertura_medica\": \"Mixta\"}\n",
      "persona:1005: {\"nombre\": \"F\\u00e1tima\", \"apellido\": \"Su\\u00e1rez\", \"segundo_nombre\": \"Bernardino\", \"segundo_apellido\": \"NULL\", \"tipo_documento\": \"DNI\", \"numero_documento\": 24756872, \"sexo\": \"M\", \"fecha_nacimiento\": \"2008-02-14\", \"id_provincia\": 1, \"cobertura_medica\": \"Mixta\"}\n",
      "persona:1006: {\"nombre\": \"Ruy\", \"apellido\": \"Espada\", \"segundo_nombre\": \"NULL\", \"segundo_apellido\": \"NULL\", \"tipo_documento\": \"LC\", \"numero_documento\": 45592842, \"sexo\": \"F\", \"fecha_nacimiento\": \"2022-02-09\", \"id_provincia\": 1, \"cobertura_medica\": \"Mixta\"}\n",
      "persona:1007: {\"nombre\": \"Mayte\", \"apellido\": \"Bermudez\", \"segundo_nombre\": \"Marta\", \"segundo_apellido\": \"Garcia\", \"tipo_documento\": \"DNI\", \"numero_documento\": 24773979, \"sexo\": \"M\", \"fecha_nacimiento\": \"1983-09-01\", \"id_provincia\": 1, \"cobertura_medica\": \"CPE\"}\n",
      "persona:1008: {\"nombre\": \"Joaquina\", \"apellido\": \"Alsina\", \"segundo_nombre\": \"NULL\", \"segundo_apellido\": \"NULL\", \"tipo_documento\": \"LC\", \"numero_documento\": 28565407, \"sexo\": \"M\", \"fecha_nacimiento\": \"1947-05-29\", \"id_provincia\": 1, \"cobertura_medica\": \"Mixta\"}\n",
      "persona:1009: {\"nombre\": \"Rosendo\", \"apellido\": \"Alvarez\", \"segundo_nombre\": \"Germ\\u00e1n\", \"segundo_apellido\": \"NULL\", \"tipo_documento\": \"LE\", \"numero_documento\": 34690678, \"sexo\": \"M\", \"fecha_nacimiento\": \"2005-01-02\", \"id_provincia\": 1, \"cobertura_medica\": \"Mixta\"}\n",
      "persona:10010: {\"nombre\": \"Tere\", \"apellido\": \"Flores\", \"segundo_nombre\": \"Felix\", \"segundo_apellido\": \"NULL\", \"tipo_documento\": \"LC\", \"numero_documento\": 34850941, \"sexo\": \"F\", \"fecha_nacimiento\": \"1944-01-03\", \"id_provincia\": 1, \"cobertura_medica\": \"Mixta\"}\n",
      "persona:10011: {\"nombre\": \"Ana Bel\\u00e9n\", \"apellido\": \"Mayol\", \"segundo_nombre\": \"NULL\", \"segundo_apellido\": \"NULL\", \"tipo_documento\": \"LC\", \"numero_documento\": 35358092, \"sexo\": \"X\", \"fecha_nacimiento\": \"2012-06-15\", \"id_provincia\": 1, \"cobertura_medica\": \"CPE\"}\n",
      "persona:10012: {\"nombre\": \"N\\u00e9stor\", \"apellido\": \"Gabald\\u00f3n\", \"segundo_nombre\": \"NULL\", \"segundo_apellido\": \"NULL\", \"tipo_documento\": \"DNI\", \"numero_documento\": 36846983, \"sexo\": \"M\", \"fecha_nacimiento\": \"1984-11-26\", \"id_provincia\": 1, \"cobertura_medica\": \"Mixta\"}\n",
      "persona:10013: {\"nombre\": \"Edmundo\", \"apellido\": \"Marco\", \"segundo_nombre\": \"Macario\", \"segundo_apellido\": \"Alvarez\", \"tipo_documento\": \"DNI\", \"numero_documento\": 38190534, \"sexo\": \"F\", \"fecha_nacimiento\": \"1961-07-01\", \"id_provincia\": 1, \"cobertura_medica\": \"CPE\"}\n",
      "persona:10014: {\"nombre\": \"Celia\", \"apellido\": \"Exp\\u00f3sito\", \"segundo_nombre\": \"Atilio\", \"segundo_apellido\": \"NULL\", \"tipo_documento\": \"LE\", \"numero_documento\": 26935625, \"sexo\": \"F\", \"fecha_nacimiento\": \"2012-01-19\", \"id_provincia\": 1, \"cobertura_medica\": \"CPE\"}\n",
      "persona:10015: {\"nombre\": \"Luis\", \"apellido\": \"Blasco\", \"segundo_nombre\": \"Heliodoro\", \"segundo_apellido\": \"NULL\", \"tipo_documento\": \"DNI\", \"numero_documento\": 32352050, \"sexo\": \"X\", \"fecha_nacimiento\": \"1985-04-23\", \"id_provincia\": 1, \"cobertura_medica\": \"Mixta\"}\n",
      "persona:10016: {\"nombre\": \"Manuela\", \"apellido\": \"Camacho\", \"segundo_nombre\": \"NULL\", \"segundo_apellido\": \"Ad\\u00e1n\", \"tipo_documento\": \"DNI\", \"numero_documento\": 37588165, \"sexo\": \"M\", \"fecha_nacimiento\": \"1929-12-24\", \"id_provincia\": 1, \"cobertura_medica\": \"CPE\"}\n",
      "persona:10017: {\"nombre\": \"Guadalupe\", \"apellido\": \"Corominas\", \"segundo_nombre\": \"NULL\", \"segundo_apellido\": \"Ferrando\", \"tipo_documento\": \"LC\", \"numero_documento\": 29347081, \"sexo\": \"X\", \"fecha_nacimiento\": \"1942-12-07\", \"id_provincia\": 1, \"cobertura_medica\": \"CPE\"}\n",
      "persona:10018: {\"nombre\": \"Emilia\", \"apellido\": \"Tormo\", \"segundo_nombre\": \"Jordi\", \"segundo_apellido\": \"NULL\", \"tipo_documento\": \"LE\", \"numero_documento\": 48533838, \"sexo\": \"M\", \"fecha_nacimiento\": \"1937-01-16\", \"id_provincia\": 2, \"cobertura_medica\": \"CPE\"}\n",
      "persona:10019: {\"nombre\": \"Dimas\", \"apellido\": \"Bay\\u00f3n\", \"segundo_nombre\": \"Esteban\", \"segundo_apellido\": \"NULL\", \"tipo_documento\": \"LC\", \"numero_documento\": 42612017, \"sexo\": \"X\", \"fecha_nacimiento\": \"2003-09-02\", \"id_provincia\": 2, \"cobertura_medica\": \"CPE\"}\n",
      "persona:10020: {\"nombre\": \"Vidal\", \"apellido\": \"Larra\\u00f1aga\", \"segundo_nombre\": \"NULL\", \"segundo_apellido\": \"NULL\", \"tipo_documento\": \"LE\", \"numero_documento\": 40412182, \"sexo\": \"F\", \"fecha_nacimiento\": \"1951-07-24\", \"id_provincia\": 2, \"cobertura_medica\": \"Mixta\"}\n",
      "persona:10021: {\"nombre\": \"Patricio\", \"apellido\": \"Manzano\", \"segundo_nombre\": \"Ver\\u00f3nica\", \"segundo_apellido\": \"NULL\", \"tipo_documento\": \"LE\", \"numero_documento\": 26861052, \"sexo\": \"X\", \"fecha_nacimiento\": \"1949-02-14\", \"id_provincia\": 2, \"cobertura_medica\": \"CPE\"}\n",
      "persona:10022: {\"nombre\": \"Imelda\", \"apellido\": \"Carri\\u00f3n\", \"segundo_nombre\": \"Mar\\u00eda Dolores\", \"segundo_apellido\": \"NULL\", \"tipo_documento\": \"LE\", \"numero_documento\": 37476801, \"sexo\": \"F\", \"fecha_nacimiento\": \"2012-08-07\", \"id_provincia\": 2, \"cobertura_medica\": \"CPE\"}\n",
      "persona:10023: {\"nombre\": \"Benita\", \"apellido\": \"Parra\", \"segundo_nombre\": \"Charo\", \"segundo_apellido\": \"Sanmiguel\", \"tipo_documento\": \"LE\", \"numero_documento\": 31761832, \"sexo\": \"X\", \"fecha_nacimiento\": \"1933-12-16\", \"id_provincia\": 2, \"cobertura_medica\": \"Mixta\"}\n",
      "persona:10024: {\"nombre\": \"Irene\", \"apellido\": \"Carro\", \"segundo_nombre\": \"NULL\", \"segundo_apellido\": \"NULL\", \"tipo_documento\": \"DNI\", \"numero_documento\": 45843142, \"sexo\": \"F\", \"fecha_nacimiento\": \"1969-11-27\", \"id_provincia\": 2, \"cobertura_medica\": \"Mixta\"}\n",
      "persona:10025: {\"nombre\": \"Graciano\", \"apellido\": \"Posada\", \"segundo_nombre\": \"Clara\", \"segundo_apellido\": \"Iba\\u00f1ez\", \"tipo_documento\": \"DNI\", \"numero_documento\": 42428049, \"sexo\": \"M\", \"fecha_nacimiento\": \"1982-01-19\", \"id_provincia\": 2, \"cobertura_medica\": \"Mixta\"}\n",
      "persona:10026: {\"nombre\": \"Marianela\", \"apellido\": \"Salcedo\", \"segundo_nombre\": \"Eric\", \"segundo_apellido\": \"NULL\", \"tipo_documento\": \"DNI\", \"numero_documento\": 41924863, \"sexo\": \"X\", \"fecha_nacimiento\": \"1936-04-12\", \"id_provincia\": 2, \"cobertura_medica\": \"Mixta\"}\n",
      "persona:10027: {\"nombre\": \"Mamen\", \"apellido\": \"Iglesias\", \"segundo_nombre\": \"Natalia\", \"segundo_apellido\": \"Escobar\", \"tipo_documento\": \"LE\", \"numero_documento\": 32537332, \"sexo\": \"F\", \"fecha_nacimiento\": \"1944-12-07\", \"id_provincia\": 2, \"cobertura_medica\": \"CPE\"}\n",
      "persona:10028: {\"nombre\": \"Reinaldo\", \"apellido\": \"Flores\", \"segundo_nombre\": \"Miguela\", \"segundo_apellido\": \"NULL\", \"tipo_documento\": \"DNI\", \"numero_documento\": 42567061, \"sexo\": \"F\", \"fecha_nacimiento\": \"2004-11-24\", \"id_provincia\": 2, \"cobertura_medica\": \"CPE\"}\n",
      "persona:10029: {\"nombre\": \"Paola\", \"apellido\": \"Peir\\u00f3\", \"segundo_nombre\": \"Olimpia\", \"segundo_apellido\": \"Rodr\\u00edguez\", \"tipo_documento\": \"LE\", \"numero_documento\": 24715477, \"sexo\": \"X\", \"fecha_nacimiento\": \"2010-10-13\", \"id_provincia\": 2, \"cobertura_medica\": \"Mixta\"}\n",
      "persona:10030: {\"nombre\": \"Priscila\", \"apellido\": \"Santiago\", \"segundo_nombre\": \"Cristian\", \"segundo_apellido\": \"NULL\", \"tipo_documento\": \"DNI\", \"numero_documento\": 25137551, \"sexo\": \"X\", \"fecha_nacimiento\": \"1990-02-24\", \"id_provincia\": 2, \"cobertura_medica\": \"Mixta\"}\n",
      "persona:10031: {\"nombre\": \"Bruno\", \"apellido\": \"Corbacho\", \"segundo_nombre\": \"NULL\", \"segundo_apellido\": \"NULL\", \"tipo_documento\": \"LE\", \"numero_documento\": 32244812, \"sexo\": \"M\", \"fecha_nacimiento\": \"2013-07-16\", \"id_provincia\": 2, \"cobertura_medica\": \"Mixta\"}\n",
      "persona:10032: {\"nombre\": \"Chus\", \"apellido\": \"Tudela\", \"segundo_nombre\": \"Jesusa\", \"segundo_apellido\": \"NULL\", \"tipo_documento\": \"LC\", \"numero_documento\": 35982484, \"sexo\": \"M\", \"fecha_nacimiento\": \"1959-10-05\", \"id_provincia\": 2, \"cobertura_medica\": \"CPE\"}\n",
      "persona:10033: {\"nombre\": \"Belen\", \"apellido\": \"Rovira\", \"segundo_nombre\": \"Martina\", \"segundo_apellido\": \"NULL\", \"tipo_documento\": \"LE\", \"numero_documento\": 18960848, \"sexo\": \"X\", \"fecha_nacimiento\": \"1969-08-31\", \"id_provincia\": 3, \"cobertura_medica\": \"CPE\"}\n",
      "persona:10034: {\"nombre\": \"Jacobo\", \"apellido\": \"Caro\", \"segundo_nombre\": \"Virginia\", \"segundo_apellido\": \"Dominguez\", \"tipo_documento\": \"LC\", \"numero_documento\": 22752686, \"sexo\": \"X\", \"fecha_nacimiento\": \"1963-08-26\", \"id_provincia\": 3, \"cobertura_medica\": \"CPE\"}\n",
      "persona:10035: {\"nombre\": \"Chelo\", \"apellido\": \"Oliva\", \"segundo_nombre\": \"NULL\", \"segundo_apellido\": \"NULL\", \"tipo_documento\": \"LE\", \"numero_documento\": 31271437, \"sexo\": \"X\", \"fecha_nacimiento\": \"2002-10-13\", \"id_provincia\": 3, \"cobertura_medica\": \"Mixta\"}\n",
      "persona:10036: {\"nombre\": \"Rolando\", \"apellido\": \"Flor\", \"segundo_nombre\": \"NULL\", \"segundo_apellido\": \"NULL\", \"tipo_documento\": \"LC\", \"numero_documento\": 22305780, \"sexo\": \"X\", \"fecha_nacimiento\": \"2020-07-25\", \"id_provincia\": 3, \"cobertura_medica\": \"CPE\"}\n",
      "persona:10037: {\"nombre\": \"Rafaela\", \"apellido\": \"Ferrando\", \"segundo_nombre\": \"Nayara\", \"segundo_apellido\": \"NULL\", \"tipo_documento\": \"DNI\", \"numero_documento\": 45923585, \"sexo\": \"M\", \"fecha_nacimiento\": \"1976-05-21\", \"id_provincia\": 3, \"cobertura_medica\": \"Mixta\"}\n",
      "persona:10038: {\"nombre\": \"Juan Antonio\", \"apellido\": \"Belda\", \"segundo_nombre\": \"Octavia\", \"segundo_apellido\": \"NULL\", \"tipo_documento\": \"DNI\", \"numero_documento\": 32073936, \"sexo\": \"M\", \"fecha_nacimiento\": \"1979-02-27\", \"id_provincia\": 3, \"cobertura_medica\": \"Mixta\"}\n",
      "persona:10039: {\"nombre\": \"Leonel\", \"apellido\": \"Sastre\", \"segundo_nombre\": \"NULL\", \"segundo_apellido\": \"Corral\", \"tipo_documento\": \"LE\", \"numero_documento\": 39939234, \"sexo\": \"M\", \"fecha_nacimiento\": \"1945-10-30\", \"id_provincia\": 3, \"cobertura_medica\": \"Mixta\"}\n",
      "persona:10040: {\"nombre\": \"Bego\\u00f1a\", \"apellido\": \"Leal\", \"segundo_nombre\": \"NULL\", \"segundo_apellido\": \"Talavera\", \"tipo_documento\": \"LE\", \"numero_documento\": 12674103, \"sexo\": \"X\", \"fecha_nacimiento\": \"2018-10-09\", \"id_provincia\": 3, \"cobertura_medica\": \"Mixta\"}\n",
      "persona:10041: {\"nombre\": \"Rogelio\", \"apellido\": \"Pont\", \"segundo_nombre\": \"NULL\", \"segundo_apellido\": \"NULL\", \"tipo_documento\": \"LC\", \"numero_documento\": 16565261, \"sexo\": \"F\", \"fecha_nacimiento\": \"1964-07-11\", \"id_provincia\": 3, \"cobertura_medica\": \"CPE\"}\n",
      "persona:10042: {\"nombre\": \"Ramona\", \"apellido\": \"Adadia\", \"segundo_nombre\": \"NULL\", \"segundo_apellido\": \"NULL\", \"tipo_documento\": \"LC\", \"numero_documento\": 28345396, \"sexo\": \"M\", \"fecha_nacimiento\": \"1969-07-05\", \"id_provincia\": 3, \"cobertura_medica\": \"Mixta\"}\n",
      "persona:10043: {\"nombre\": \"Victoria\", \"apellido\": \"Zabala\", \"segundo_nombre\": \"NULL\", \"segundo_apellido\": \"NULL\", \"tipo_documento\": \"DNI\", \"numero_documento\": 41495897, \"sexo\": \"M\", \"fecha_nacimiento\": \"2016-01-24\", \"id_provincia\": 3, \"cobertura_medica\": \"Mixta\"}\n",
      "persona:10044: {\"nombre\": \"Epifanio\", \"apellido\": \"Puga\", \"segundo_nombre\": \"NULL\", \"segundo_apellido\": \"NULL\", \"tipo_documento\": \"LE\", \"numero_documento\": 17639844, \"sexo\": \"F\", \"fecha_nacimiento\": \"2002-04-18\", \"id_provincia\": 3, \"cobertura_medica\": \"Mixta\"}\n",
      "persona:10045: {\"nombre\": \"Aar\\u00f3n\", \"apellido\": \"Benavente\", \"segundo_nombre\": \"NULL\", \"segundo_apellido\": \"NULL\", \"tipo_documento\": \"LC\", \"numero_documento\": 39750273, \"sexo\": \"X\", \"fecha_nacimiento\": \"1964-06-30\", \"id_provincia\": 3, \"cobertura_medica\": \"CPE\"}\n",
      "persona:10046: {\"nombre\": \"Encarna\", \"apellido\": \"Fabra\", \"segundo_nombre\": \"NULL\", \"segundo_apellido\": \"NULL\", \"tipo_documento\": \"LE\", \"numero_documento\": 35095629, \"sexo\": \"X\", \"fecha_nacimiento\": \"1986-10-13\", \"id_provincia\": 3, \"cobertura_medica\": \"Mixta\"}\n",
      "persona:10047: {\"nombre\": \"Manuel\", \"apellido\": \"Perell\\u00f3\", \"segundo_nombre\": \"Fernando\", \"segundo_apellido\": \"Casares\", \"tipo_documento\": \"LE\", \"numero_documento\": 12150611, \"sexo\": \"X\", \"fecha_nacimiento\": \"1953-02-08\", \"id_provincia\": 3, \"cobertura_medica\": \"Mixta\"}\n",
      "persona:10048: {\"nombre\": \"Aitor\", \"apellido\": \"Casado\", \"segundo_nombre\": \"NULL\", \"segundo_apellido\": \"NULL\", \"tipo_documento\": \"LC\", \"numero_documento\": 24119603, \"sexo\": \"M\", \"fecha_nacimiento\": \"1956-01-23\", \"id_provincia\": 3, \"cobertura_medica\": \"Mixta\"}\n",
      "persona:10049: {\"nombre\": \"Abraham\", \"apellido\": \"Reguera\", \"segundo_nombre\": \"Manuela\", \"segundo_apellido\": \"Ant\\u00fanez\", \"tipo_documento\": \"LE\", \"numero_documento\": 40845168, \"sexo\": \"F\", \"fecha_nacimiento\": \"1942-02-10\", \"id_provincia\": 3, \"cobertura_medica\": \"CPE\"}\n",
      "persona:10050: {\"nombre\": \"Montserrat\", \"apellido\": \"Rodriguez\", \"segundo_nombre\": \"Mauricio\", \"segundo_apellido\": \"NULL\", \"tipo_documento\": \"DNI\", \"numero_documento\": 33725806, \"sexo\": \"F\", \"fecha_nacimiento\": \"1990-11-26\", \"id_provincia\": 4, \"cobertura_medica\": \"Mixta\"}\n",
      "persona:10051: {\"nombre\": \"Eva\", \"apellido\": \"Manuel\", \"segundo_nombre\": \"NULL\", \"segundo_apellido\": \"Guerra\", \"tipo_documento\": \"DNI\", \"numero_documento\": 27261390, \"sexo\": \"M\", \"fecha_nacimiento\": \"1960-05-03\", \"id_provincia\": 4, \"cobertura_medica\": \"Mixta\"}\n",
      "persona:10052: {\"nombre\": \"Dionisia\", \"apellido\": \"Artigas\", \"segundo_nombre\": \"NULL\", \"segundo_apellido\": \"NULL\", \"tipo_documento\": \"LE\", \"numero_documento\": 41330567, \"sexo\": \"M\", \"fecha_nacimiento\": \"1948-05-04\", \"id_provincia\": 4, \"cobertura_medica\": \"CPE\"}\n",
      "persona:10053: {\"nombre\": \"Amada\", \"apellido\": \"Vendrell\", \"segundo_nombre\": \"NULL\", \"segundo_apellido\": \"NULL\", \"tipo_documento\": \"DNI\", \"numero_documento\": 48360295, \"sexo\": \"X\", \"fecha_nacimiento\": \"1981-10-22\", \"id_provincia\": 4, \"cobertura_medica\": \"Mixta\"}\n",
      "persona:10054: {\"nombre\": \"Leoncio\", \"apellido\": \"Ribas\", \"segundo_nombre\": \"NULL\", \"segundo_apellido\": \"Rosales\", \"tipo_documento\": \"LE\", \"numero_documento\": 36884034, \"sexo\": \"M\", \"fecha_nacimiento\": \"2014-12-06\", \"id_provincia\": 4, \"cobertura_medica\": \"CPE\"}\n",
      "persona:10055: {\"nombre\": \"Flora\", \"apellido\": \"Blanca\", \"segundo_nombre\": \"NULL\", \"segundo_apellido\": \"NULL\", \"tipo_documento\": \"LC\", \"numero_documento\": 41038671, \"sexo\": \"X\", \"fecha_nacimiento\": \"1991-07-17\", \"id_provincia\": 4, \"cobertura_medica\": \"Mixta\"}\n",
      "persona:10056: {\"nombre\": \"Adolfo\", \"apellido\": \"Sosa\", \"segundo_nombre\": \"NULL\", \"segundo_apellido\": \"Font\", \"tipo_documento\": \"DNI\", \"numero_documento\": 23862025, \"sexo\": \"F\", \"fecha_nacimiento\": \"2017-09-29\", \"id_provincia\": 4, \"cobertura_medica\": \"CPE\"}\n",
      "persona:10057: {\"nombre\": \"Jose Antonio\", \"apellido\": \"Naranjo\", \"segundo_nombre\": \"Graciano\", \"segundo_apellido\": \"Solana\", \"tipo_documento\": \"LE\", \"numero_documento\": 19487371, \"sexo\": \"X\", \"fecha_nacimiento\": \"2015-11-25\", \"id_provincia\": 4, \"cobertura_medica\": \"CPE\"}\n",
      "persona:10058: {\"nombre\": \"Emperatriz\", \"apellido\": \"Saavedra\", \"segundo_nombre\": \"Josep\", \"segundo_apellido\": \"Pelayo\", \"tipo_documento\": \"LC\", \"numero_documento\": 45998241, \"sexo\": \"F\", \"fecha_nacimiento\": \"1992-04-10\", \"id_provincia\": 4, \"cobertura_medica\": \"CPE\"}\n",
      "persona:10059: {\"nombre\": \"Guiomar\", \"apellido\": \"Olmedo\", \"segundo_nombre\": \"NULL\", \"segundo_apellido\": \"Estrada\", \"tipo_documento\": \"LE\", \"numero_documento\": 37430598, \"sexo\": \"X\", \"fecha_nacimiento\": \"2007-04-26\", \"id_provincia\": 4, \"cobertura_medica\": \"CPE\"}\n",
      "persona:10060: {\"nombre\": \"Prudencia\", \"apellido\": \"Escalona\", \"segundo_nombre\": \"NULL\", \"segundo_apellido\": \"Ballester\", \"tipo_documento\": \"LE\", \"numero_documento\": 26472321, \"sexo\": \"M\", \"fecha_nacimiento\": \"2018-10-09\", \"id_provincia\": 4, \"cobertura_medica\": \"CPE\"}\n",
      "persona:10061: {\"nombre\": \"Javier\", \"apellido\": \"Mendiz\\u00e1bal\", \"segundo_nombre\": \"NULL\", \"segundo_apellido\": \"Jord\\u00e1\", \"tipo_documento\": \"LE\", \"numero_documento\": 18499444, \"sexo\": \"F\", \"fecha_nacimiento\": \"1970-09-04\", \"id_provincia\": 4, \"cobertura_medica\": \"Mixta\"}\n",
      "persona:10062: {\"nombre\": \"Pascuala\", \"apellido\": \"Bas\", \"segundo_nombre\": \"NULL\", \"segundo_apellido\": \"NULL\", \"tipo_documento\": \"LC\", \"numero_documento\": 25408483, \"sexo\": \"X\", \"fecha_nacimiento\": \"1930-11-27\", \"id_provincia\": 4, \"cobertura_medica\": \"Mixta\"}\n",
      "persona:10063: {\"nombre\": \"Montserrat\", \"apellido\": \"Ruano\", \"segundo_nombre\": \"Pepito\", \"segundo_apellido\": \"Aguirre\", \"tipo_documento\": \"LE\", \"numero_documento\": 17229189, \"sexo\": \"X\", \"fecha_nacimiento\": \"1975-12-06\", \"id_provincia\": 4, \"cobertura_medica\": \"Mixta\"}\n",
      "persona:10064: {\"nombre\": \"Jerem\\u00edas\", \"apellido\": \"Rivero\", \"segundo_nombre\": \"NULL\", \"segundo_apellido\": \"NULL\", \"tipo_documento\": \"LC\", \"numero_documento\": 17880929, \"sexo\": \"F\", \"fecha_nacimiento\": \"1995-08-24\", \"id_provincia\": 4, \"cobertura_medica\": \"CPE\"}\n",
      "persona:10065: {\"nombre\": \"Ferm\\u00edn\", \"apellido\": \"Palmer\", \"segundo_nombre\": \"Ofelia\", \"segundo_apellido\": \"Riera\", \"tipo_documento\": \"LE\", \"numero_documento\": 38307517, \"sexo\": \"X\", \"fecha_nacimiento\": \"1999-10-21\", \"id_provincia\": 4, \"cobertura_medica\": \"CPE\"}\n",
      "persona:10066: {\"nombre\": \"Dorotea\", \"apellido\": \"Guzman\", \"segundo_nombre\": \"NULL\", \"segundo_apellido\": \"NULL\", \"tipo_documento\": \"LC\", \"numero_documento\": 17411569, \"sexo\": \"X\", \"fecha_nacimiento\": \"1967-06-27\", \"id_provincia\": 4, \"cobertura_medica\": \"CPE\"}\n",
      "persona:10067: {\"nombre\": \"Serafina\", \"apellido\": \"Izaguirre\", \"segundo_nombre\": \"NULL\", \"segundo_apellido\": \"Aramburu\", \"tipo_documento\": \"LE\", \"numero_documento\": 45863546, \"sexo\": \"M\", \"fecha_nacimiento\": \"2010-12-08\", \"id_provincia\": 4, \"cobertura_medica\": \"Mixta\"}\n",
      "persona:10068: {\"nombre\": \"Flor\", \"apellido\": \"Roura\", \"segundo_nombre\": \"Fanny\", \"segundo_apellido\": \"Roman\", \"tipo_documento\": \"DNI\", \"numero_documento\": 32759845, \"sexo\": \"M\", \"fecha_nacimiento\": \"2003-12-24\", \"id_provincia\": 5, \"cobertura_medica\": \"Mixta\"}\n",
      "persona:10069: {\"nombre\": \"Benita\", \"apellido\": \"Mart\\u00ed\", \"segundo_nombre\": \"NULL\", \"segundo_apellido\": \"NULL\", \"tipo_documento\": \"LC\", \"numero_documento\": 44560924, \"sexo\": \"X\", \"fecha_nacimiento\": \"1977-11-20\", \"id_provincia\": 5, \"cobertura_medica\": \"Mixta\"}\n",
      "persona:10070: {\"nombre\": \"Jorge\", \"apellido\": \"Gisbert\", \"segundo_nombre\": \"Adolfo\", \"segundo_apellido\": \"NULL\", \"tipo_documento\": \"LE\", \"numero_documento\": 17804644, \"sexo\": \"X\", \"fecha_nacimiento\": \"1942-01-07\", \"id_provincia\": 5, \"cobertura_medica\": \"Mixta\"}\n",
      "persona:10071: {\"nombre\": \"Amparo\", \"apellido\": \"Duque\", \"segundo_nombre\": \"NULL\", \"segundo_apellido\": \"NULL\", \"tipo_documento\": \"DNI\", \"numero_documento\": 15576720, \"sexo\": \"M\", \"fecha_nacimiento\": \"1932-04-27\", \"id_provincia\": 5, \"cobertura_medica\": \"Mixta\"}\n",
      "persona:10072: {\"nombre\": \"Nazaret\", \"apellido\": \"Salda\\u00f1a\", \"segundo_nombre\": \"Ariadna\", \"segundo_apellido\": \"Nieto\", \"tipo_documento\": \"LC\", \"numero_documento\": 40613630, \"sexo\": \"X\", \"fecha_nacimiento\": \"1977-11-23\", \"id_provincia\": 5, \"cobertura_medica\": \"CPE\"}\n",
      "persona:10073: {\"nombre\": \"Duilio\", \"apellido\": \"Andr\\u00e9s\", \"segundo_nombre\": \"NULL\", \"segundo_apellido\": \"Iriarte\", \"tipo_documento\": \"LC\", \"numero_documento\": 40529142, \"sexo\": \"X\", \"fecha_nacimiento\": \"1947-07-24\", \"id_provincia\": 5, \"cobertura_medica\": \"Mixta\"}\n",
      "persona:10074: {\"nombre\": \"Dimas\", \"apellido\": \"Acosta\", \"segundo_nombre\": \"NULL\", \"segundo_apellido\": \"NULL\", \"tipo_documento\": \"LC\", \"numero_documento\": 15476006, \"sexo\": \"F\", \"fecha_nacimiento\": \"2019-10-31\", \"id_provincia\": 5, \"cobertura_medica\": \"Mixta\"}\n",
      "persona:10075: {\"nombre\": \"Fabiola\", \"apellido\": \"Gracia\", \"segundo_nombre\": \"NULL\", \"segundo_apellido\": \"Pacheco\", \"tipo_documento\": \"LE\", \"numero_documento\": 21546716, \"sexo\": \"X\", \"fecha_nacimiento\": \"1982-10-30\", \"id_provincia\": 5, \"cobertura_medica\": \"Mixta\"}\n",
      "persona:10076: {\"nombre\": \"Glauco\", \"apellido\": \"Vaquero\", \"segundo_nombre\": \"NULL\", \"segundo_apellido\": \"NULL\", \"tipo_documento\": \"LC\", \"numero_documento\": 21349218, \"sexo\": \"F\", \"fecha_nacimiento\": \"1942-09-24\", \"id_provincia\": 5, \"cobertura_medica\": \"CPE\"}\n",
      "persona:10077: {\"nombre\": \"H\\u00e9ctor\", \"apellido\": \"Quir\\u00f3s\", \"segundo_nombre\": \"NULL\", \"segundo_apellido\": \"NULL\", \"tipo_documento\": \"LC\", \"numero_documento\": 19941550, \"sexo\": \"M\", \"fecha_nacimiento\": \"2014-12-02\", \"id_provincia\": 5, \"cobertura_medica\": \"CPE\"}\n",
      "persona:10078: {\"nombre\": \"Mariana\", \"apellido\": \"Vizca\\u00edno\", \"segundo_nombre\": \"Carlota\", \"segundo_apellido\": \"NULL\", \"tipo_documento\": \"DNI\", \"numero_documento\": 24510169, \"sexo\": \"X\", \"fecha_nacimiento\": \"1979-06-29\", \"id_provincia\": 5, \"cobertura_medica\": \"Mixta\"}\n",
      "persona:10079: {\"nombre\": \"Mireia\", \"apellido\": \"Domingo\", \"segundo_nombre\": \"NULL\", \"segundo_apellido\": \"NULL\", \"tipo_documento\": \"LE\", \"numero_documento\": 21370272, \"sexo\": \"X\", \"fecha_nacimiento\": \"1932-01-18\", \"id_provincia\": 5, \"cobertura_medica\": \"CPE\"}\n",
      "persona:10080: {\"nombre\": \"Cloe\", \"apellido\": \"Grande\", \"segundo_nombre\": \"Alicia\", \"segundo_apellido\": \"NULL\", \"tipo_documento\": \"LC\", \"numero_documento\": 49051156, \"sexo\": \"F\", \"fecha_nacimiento\": \"1931-01-12\", \"id_provincia\": 5, \"cobertura_medica\": \"CPE\"}\n",
      "persona:10081: {\"nombre\": \"Priscila\", \"apellido\": \"Llamas\", \"segundo_nombre\": \"Marcia\", \"segundo_apellido\": \"Barber\\u00e1\", \"tipo_documento\": \"LC\", \"numero_documento\": 40725251, \"sexo\": \"M\", \"fecha_nacimiento\": \"2002-10-24\", \"id_provincia\": 5, \"cobertura_medica\": \"CPE\"}\n",
      "persona:10082: {\"nombre\": \"Yaiza\", \"apellido\": \"Valent\\u00edn\", \"segundo_nombre\": \"Silvestre\", \"segundo_apellido\": \"NULL\", \"tipo_documento\": \"LC\", \"numero_documento\": 29659992, \"sexo\": \"M\", \"fecha_nacimiento\": \"1969-03-29\", \"id_provincia\": 5, \"cobertura_medica\": \"CPE\"}\n",
      "persona:10083: {\"nombre\": \"Jose Angel\", \"apellido\": \"Rubio\", \"segundo_nombre\": \"NULL\", \"segundo_apellido\": \"Villena\", \"tipo_documento\": \"LC\", \"numero_documento\": 33549467, \"sexo\": \"M\", \"fecha_nacimiento\": \"1972-08-23\", \"id_provincia\": 5, \"cobertura_medica\": \"Mixta\"}\n",
      "persona:10084: {\"nombre\": \"Casemiro\", \"apellido\": \"Camps\", \"segundo_nombre\": \"Elo\\u00edsa\", \"segundo_apellido\": \"NULL\", \"tipo_documento\": \"LE\", \"numero_documento\": 30995006, \"sexo\": \"X\", \"fecha_nacimiento\": \"2022-08-01\", \"id_provincia\": 6, \"cobertura_medica\": \"CPE\"}\n",
      "persona:10085: {\"nombre\": \"Ana Bel\\u00e9n\", \"apellido\": \"Raya\", \"segundo_nombre\": \"NULL\", \"segundo_apellido\": \"NULL\", \"tipo_documento\": \"LE\", \"numero_documento\": 36686662, \"sexo\": \"M\", \"fecha_nacimiento\": \"1993-02-06\", \"id_provincia\": 6, \"cobertura_medica\": \"CPE\"}\n",
      "persona:10086: {\"nombre\": \"Aitana\", \"apellido\": \"Mar\\u00ed\", \"segundo_nombre\": \"Sabina\", \"segundo_apellido\": \"NULL\", \"tipo_documento\": \"LE\", \"numero_documento\": 26549977, \"sexo\": \"M\", \"fecha_nacimiento\": \"1952-08-27\", \"id_provincia\": 6, \"cobertura_medica\": \"CPE\"}\n",
      "persona:10087: {\"nombre\": \"Ruben\", \"apellido\": \"Abella\", \"segundo_nombre\": \"NULL\", \"segundo_apellido\": \"NULL\", \"tipo_documento\": \"DNI\", \"numero_documento\": 39582838, \"sexo\": \"F\", \"fecha_nacimiento\": \"2018-06-19\", \"id_provincia\": 6, \"cobertura_medica\": \"Mixta\"}\n",
      "persona:10088: {\"nombre\": \"Berto\", \"apellido\": \"Fabra\", \"segundo_nombre\": \"Malena\", \"segundo_apellido\": \"NULL\", \"tipo_documento\": \"LE\", \"numero_documento\": 17510863, \"sexo\": \"X\", \"fecha_nacimiento\": \"1959-08-04\", \"id_provincia\": 6, \"cobertura_medica\": \"Mixta\"}\n",
      "persona:10089: {\"nombre\": \"C\\u00e9sar\", \"apellido\": \"Gutierrez\", \"segundo_nombre\": \"NULL\", \"segundo_apellido\": \"NULL\", \"tipo_documento\": \"LE\", \"numero_documento\": 21072438, \"sexo\": \"F\", \"fecha_nacimiento\": \"2017-12-22\", \"id_provincia\": 6, \"cobertura_medica\": \"Mixta\"}\n",
      "persona:10090: {\"nombre\": \"Rufino\", \"apellido\": \"Barba\", \"segundo_nombre\": \"NULL\", \"segundo_apellido\": \"NULL\", \"tipo_documento\": \"LE\", \"numero_documento\": 34549464, \"sexo\": \"F\", \"fecha_nacimiento\": \"1976-06-09\", \"id_provincia\": 6, \"cobertura_medica\": \"Mixta\"}\n",
      "persona:10091: {\"nombre\": \"Leire\", \"apellido\": \"Llopis\", \"segundo_nombre\": \"NULL\", \"segundo_apellido\": \"NULL\", \"tipo_documento\": \"LE\", \"numero_documento\": 43041497, \"sexo\": \"M\", \"fecha_nacimiento\": \"1944-08-13\", \"id_provincia\": 6, \"cobertura_medica\": \"CPE\"}\n",
      "persona:10092: {\"nombre\": \"Perlita\", \"apellido\": \"Cordero\", \"segundo_nombre\": \"NULL\", \"segundo_apellido\": \"NULL\", \"tipo_documento\": \"LC\", \"numero_documento\": 27755710, \"sexo\": \"X\", \"fecha_nacimiento\": \"1930-08-05\", \"id_provincia\": 6, \"cobertura_medica\": \"CPE\"}\n",
      "persona:10093: {\"nombre\": \"Amarilis\", \"apellido\": \"Carre\\u00f1o\", \"segundo_nombre\": \"NULL\", \"segundo_apellido\": \"Vilar\", \"tipo_documento\": \"LC\", \"numero_documento\": 31392234, \"sexo\": \"X\", \"fecha_nacimiento\": \"1976-02-18\", \"id_provincia\": 6, \"cobertura_medica\": \"CPE\"}\n",
      "persona:10094: {\"nombre\": \"Yolanda\", \"apellido\": \"Cobo\", \"segundo_nombre\": \"Eleuterio\", \"segundo_apellido\": \"Arana\", \"tipo_documento\": \"LC\", \"numero_documento\": 26206949, \"sexo\": \"F\", \"fecha_nacimiento\": \"1937-06-09\", \"id_provincia\": 6, \"cobertura_medica\": \"Mixta\"}\n",
      "persona:10095: {\"nombre\": \"Rafael\", \"apellido\": \"Villalonga\", \"segundo_nombre\": \"NULL\", \"segundo_apellido\": \"Villaverde\", \"tipo_documento\": \"DNI\", \"numero_documento\": 16615449, \"sexo\": \"X\", \"fecha_nacimiento\": \"2010-08-30\", \"id_provincia\": 6, \"cobertura_medica\": \"CPE\"}\n",
      "persona:10096: {\"nombre\": \"Esmeralda\", \"apellido\": \"Marco\", \"segundo_nombre\": \"Trinidad\", \"segundo_apellido\": \"Solera\", \"tipo_documento\": \"DNI\", \"numero_documento\": 28912641, \"sexo\": \"F\", \"fecha_nacimiento\": \"1957-09-20\", \"id_provincia\": 6, \"cobertura_medica\": \"CPE\"}\n",
      "persona:10097: {\"nombre\": \"Nidia\", \"apellido\": \"Soria\", \"segundo_nombre\": \"NULL\", \"segundo_apellido\": \"NULL\", \"tipo_documento\": \"DNI\", \"numero_documento\": 19048980, \"sexo\": \"M\", \"fecha_nacimiento\": \"2017-05-15\", \"id_provincia\": 7, \"cobertura_medica\": \"Mixta\"}\n",
      "persona:10098: {\"nombre\": \"Lorenzo\", \"apellido\": \"Lled\\u00f3\", \"segundo_nombre\": \"Jes\\u00fas\", \"segundo_apellido\": \"NULL\", \"tipo_documento\": \"DNI\", \"numero_documento\": 40139047, \"sexo\": \"X\", \"fecha_nacimiento\": \"1966-05-22\", \"id_provincia\": 7, \"cobertura_medica\": \"Mixta\"}\n",
      "persona:10099: {\"nombre\": \"Adalberto\", \"apellido\": \"Miralles\", \"segundo_nombre\": \"Quique\", \"segundo_apellido\": \"Torrents\", \"tipo_documento\": \"DNI\", \"numero_documento\": 28933287, \"sexo\": \"M\", \"fecha_nacimiento\": \"1979-09-09\", \"id_provincia\": 7, \"cobertura_medica\": \"Mixta\"}\n",
      "persona:100100: {\"nombre\": \"Loreto\", \"apellido\": \"Posada\", \"segundo_nombre\": \"NULL\", \"segundo_apellido\": \"Royo\", \"tipo_documento\": \"DNI\", \"numero_documento\": 31399135, \"sexo\": \"F\", \"fecha_nacimiento\": \"2012-01-16\", \"id_provincia\": 7, \"cobertura_medica\": \"Mixta\"}\n",
      "persona:100101: {\"nombre\": \"Ramiro\", \"apellido\": \"Vega\", \"segundo_nombre\": \"Pastora\", \"segundo_apellido\": \"Gordillo\", \"tipo_documento\": \"DNI\", \"numero_documento\": 48448813, \"sexo\": \"M\", \"fecha_nacimiento\": \"1968-04-23\", \"id_provincia\": 7, \"cobertura_medica\": \"Mixta\"}\n",
      "persona:100102: {\"nombre\": \"Obdulia\", \"apellido\": \"Miralles\", \"segundo_nombre\": \"NULL\", \"segundo_apellido\": \"NULL\", \"tipo_documento\": \"LE\", \"numero_documento\": 20720561, \"sexo\": \"F\", \"fecha_nacimiento\": \"2001-10-21\", \"id_provincia\": 7, \"cobertura_medica\": \"Mixta\"}\n",
      "persona:100103: {\"nombre\": \"Amarilis\", \"apellido\": \"Valderrama\", \"segundo_nombre\": \"NULL\", \"segundo_apellido\": \"Zorrilla\", \"tipo_documento\": \"DNI\", \"numero_documento\": 12047830, \"sexo\": \"F\", \"fecha_nacimiento\": \"1954-01-23\", \"id_provincia\": 7, \"cobertura_medica\": \"CPE\"}\n",
      "persona:100104: {\"nombre\": \"Melchor\", \"apellido\": \"Fuente\", \"segundo_nombre\": \"NULL\", \"segundo_apellido\": \"NULL\", \"tipo_documento\": \"LE\", \"numero_documento\": 31271638, \"sexo\": \"F\", \"fecha_nacimiento\": \"2006-06-21\", \"id_provincia\": 7, \"cobertura_medica\": \"Mixta\"}\n",
      "persona:100105: {\"nombre\": \"Carina\", \"apellido\": \"P\\u00e9rez\", \"segundo_nombre\": \"NULL\", \"segundo_apellido\": \"NULL\", \"tipo_documento\": \"DNI\", \"numero_documento\": 37621111, \"sexo\": \"M\", \"fecha_nacimiento\": \"1962-11-07\", \"id_provincia\": 7, \"cobertura_medica\": \"Mixta\"}\n",
      "persona:100106: {\"nombre\": \"Severino\", \"apellido\": \"Andr\\u00e9s\", \"segundo_nombre\": \"NULL\", \"segundo_apellido\": \"NULL\", \"tipo_documento\": \"LC\", \"numero_documento\": 18137200, \"sexo\": \"F\", \"fecha_nacimiento\": \"2022-09-22\", \"id_provincia\": 7, \"cobertura_medica\": \"Mixta\"}\n",
      "persona:100107: {\"nombre\": \"Gabino\", \"apellido\": \"Ari\\u00f1o\", \"segundo_nombre\": \"Julio C\\u00e9sar\", \"segundo_apellido\": \"Vallejo\", \"tipo_documento\": \"DNI\", \"numero_documento\": 18630811, \"sexo\": \"M\", \"fecha_nacimiento\": \"2009-06-09\", \"id_provincia\": 7, \"cobertura_medica\": \"CPE\"}\n",
      "persona:100108: {\"nombre\": \"Basilio\", \"apellido\": \"Di\\u00e9guez\", \"segundo_nombre\": \"NULL\", \"segundo_apellido\": \"NULL\", \"tipo_documento\": \"LC\", \"numero_documento\": 29653701, \"sexo\": \"X\", \"fecha_nacimiento\": \"1936-09-02\", \"id_provincia\": 8, \"cobertura_medica\": \"CPE\"}\n",
      "persona:100109: {\"nombre\": \"Sandra\", \"apellido\": \"Carballo\", \"segundo_nombre\": \"NULL\", \"segundo_apellido\": \"NULL\", \"tipo_documento\": \"LE\", \"numero_documento\": 34360426, \"sexo\": \"X\", \"fecha_nacimiento\": \"1955-02-03\", \"id_provincia\": 8, \"cobertura_medica\": \"Mixta\"}\n",
      "persona:100110: {\"nombre\": \"Dorotea\", \"apellido\": \"Arana\", \"segundo_nombre\": \"Paulino\", \"segundo_apellido\": \"NULL\", \"tipo_documento\": \"DNI\", \"numero_documento\": 49408419, \"sexo\": \"X\", \"fecha_nacimiento\": \"2008-10-29\", \"id_provincia\": 8, \"cobertura_medica\": \"CPE\"}\n",
      "persona:100111: {\"nombre\": \"Aurelia\", \"apellido\": \"Marcos\", \"segundo_nombre\": \"NULL\", \"segundo_apellido\": \"NULL\", \"tipo_documento\": \"LC\", \"numero_documento\": 49804401, \"sexo\": \"F\", \"fecha_nacimiento\": \"1951-03-14\", \"id_provincia\": 8, \"cobertura_medica\": \"CPE\"}\n",
      "persona:100112: {\"nombre\": \"Te\\u00f3filo\", \"apellido\": \"Izaguirre\", \"segundo_nombre\": \"Vicente\", \"segundo_apellido\": \"NULL\", \"tipo_documento\": \"DNI\", \"numero_documento\": 23305827, \"sexo\": \"F\", \"fecha_nacimiento\": \"1999-03-22\", \"id_provincia\": 8, \"cobertura_medica\": \"CPE\"}\n",
      "persona:100113: {\"nombre\": \"Teobaldo\", \"apellido\": \"Aramburu\", \"segundo_nombre\": \"NULL\", \"segundo_apellido\": \"NULL\", \"tipo_documento\": \"LC\", \"numero_documento\": 14628766, \"sexo\": \"F\", \"fecha_nacimiento\": \"1970-08-05\", \"id_provincia\": 8, \"cobertura_medica\": \"Mixta\"}\n",
      "persona:100114: {\"nombre\": \"Marciano\", \"apellido\": \"Berm\\u00fadez\", \"segundo_nombre\": \"Griselda\", \"segundo_apellido\": \"Iba\\u00f1ez\", \"tipo_documento\": \"LE\", \"numero_documento\": 35703168, \"sexo\": \"X\", \"fecha_nacimiento\": \"1948-05-29\", \"id_provincia\": 8, \"cobertura_medica\": \"Mixta\"}\n",
      "persona:100115: {\"nombre\": \"Serafina\", \"apellido\": \"Pi\\u00f1eiro\", \"segundo_nombre\": \"Ruy\", \"segundo_apellido\": \"Villa\", \"tipo_documento\": \"LC\", \"numero_documento\": 33820880, \"sexo\": \"X\", \"fecha_nacimiento\": \"1961-06-13\", \"id_provincia\": 8, \"cobertura_medica\": \"Mixta\"}\n",
      "persona:100116: {\"nombre\": \"Visitaci\\u00f3n\", \"apellido\": \"Galv\\u00e1n\", \"segundo_nombre\": \"NULL\", \"segundo_apellido\": \"NULL\", \"tipo_documento\": \"LC\", \"numero_documento\": 12542899, \"sexo\": \"F\", \"fecha_nacimiento\": \"1955-03-26\", \"id_provincia\": 8, \"cobertura_medica\": \"Mixta\"}\n",
      "persona:100117: {\"nombre\": \"Lu\\u00eds\", \"apellido\": \"Cantero\", \"segundo_nombre\": \"Lidia\", \"segundo_apellido\": \"NULL\", \"tipo_documento\": \"LC\", \"numero_documento\": 27276512, \"sexo\": \"F\", \"fecha_nacimiento\": \"1952-11-23\", \"id_provincia\": 8, \"cobertura_medica\": \"Mixta\"}\n",
      "persona:100118: {\"nombre\": \"Renata\", \"apellido\": \"Serrano\", \"segundo_nombre\": \"Alfonso\", \"segundo_apellido\": \"NULL\", \"tipo_documento\": \"LE\", \"numero_documento\": 13180050, \"sexo\": \"F\", \"fecha_nacimiento\": \"1953-06-07\", \"id_provincia\": 9, \"cobertura_medica\": \"CPE\"}\n",
      "persona:100119: {\"nombre\": \"Rosalva\", \"apellido\": \"Mac\\u00edas\", \"segundo_nombre\": \"Cloe\", \"segundo_apellido\": \"Infante\", \"tipo_documento\": \"DNI\", \"numero_documento\": 49823873, \"sexo\": \"F\", \"fecha_nacimiento\": \"1961-10-24\", \"id_provincia\": 9, \"cobertura_medica\": \"Mixta\"}\n",
      "persona:100120: {\"nombre\": \"Concepci\\u00f3n\", \"apellido\": \"Neira\", \"segundo_nombre\": \"Alma\", \"segundo_apellido\": \"NULL\", \"tipo_documento\": \"LC\", \"numero_documento\": 22174960, \"sexo\": \"F\", \"fecha_nacimiento\": \"2003-06-14\", \"id_provincia\": 9, \"cobertura_medica\": \"CPE\"}\n",
      "persona:100121: {\"nombre\": \"Bernab\\u00e9\", \"apellido\": \"Borja\", \"segundo_nombre\": \"NULL\", \"segundo_apellido\": \"Berenguer\", \"tipo_documento\": \"LE\", \"numero_documento\": 21543665, \"sexo\": \"M\", \"fecha_nacimiento\": \"1930-08-29\", \"id_provincia\": 9, \"cobertura_medica\": \"CPE\"}\n",
      "persona:100122: {\"nombre\": \"Natividad\", \"apellido\": \"Murillo\", \"segundo_nombre\": \"NULL\", \"segundo_apellido\": \"NULL\", \"tipo_documento\": \"LC\", \"numero_documento\": 49769134, \"sexo\": \"X\", \"fecha_nacimiento\": \"1935-10-05\", \"id_provincia\": 9, \"cobertura_medica\": \"CPE\"}\n",
      "persona:100123: {\"nombre\": \"Maribel\", \"apellido\": \"Ariza\", \"segundo_nombre\": \"NULL\", \"segundo_apellido\": \"Olmo\", \"tipo_documento\": \"LE\", \"numero_documento\": 21993282, \"sexo\": \"M\", \"fecha_nacimiento\": \"1937-12-12\", \"id_provincia\": 9, \"cobertura_medica\": \"CPE\"}\n",
      "persona:100124: {\"nombre\": \"F\\u00e1tima\", \"apellido\": \"Figueras\", \"segundo_nombre\": \"NULL\", \"segundo_apellido\": \"Morillo\", \"tipo_documento\": \"LC\", \"numero_documento\": 47601718, \"sexo\": \"F\", \"fecha_nacimiento\": \"1954-01-06\", \"id_provincia\": 9, \"cobertura_medica\": \"Mixta\"}\n",
      "persona:100125: {\"nombre\": \"Luz\", \"apellido\": \"Bermejo\", \"segundo_nombre\": \"NULL\", \"segundo_apellido\": \"Gallardo\", \"tipo_documento\": \"LE\", \"numero_documento\": 45949365, \"sexo\": \"F\", \"fecha_nacimiento\": \"1968-12-13\", \"id_provincia\": 9, \"cobertura_medica\": \"CPE\"}\n",
      "persona:100126: {\"nombre\": \"Natalia\", \"apellido\": \"Cepeda\", \"segundo_nombre\": \"NULL\", \"segundo_apellido\": \"Tamarit\", \"tipo_documento\": \"LC\", \"numero_documento\": 38686751, \"sexo\": \"X\", \"fecha_nacimiento\": \"1992-03-12\", \"id_provincia\": 9, \"cobertura_medica\": \"Mixta\"}\n",
      "persona:100127: {\"nombre\": \"Aurelio\", \"apellido\": \"Galan\", \"segundo_nombre\": \"Vito\", \"segundo_apellido\": \"Alsina\", \"tipo_documento\": \"LC\", \"numero_documento\": 19760137, \"sexo\": \"F\", \"fecha_nacimiento\": \"1937-10-01\", \"id_provincia\": 9, \"cobertura_medica\": \"CPE\"}\n",
      "persona:100128: {\"nombre\": \"Arcelia\", \"apellido\": \"Campos\", \"segundo_nombre\": \"Socorro\", \"segundo_apellido\": \"NULL\", \"tipo_documento\": \"DNI\", \"numero_documento\": 20839551, \"sexo\": \"X\", \"fecha_nacimiento\": \"2007-10-19\", \"id_provincia\": 9, \"cobertura_medica\": \"CPE\"}\n",
      "persona:100129: {\"nombre\": \"Pl\\u00e1cido\", \"apellido\": \"Navarro\", \"segundo_nombre\": \"Francisca\", \"segundo_apellido\": \"Carrasco\", \"tipo_documento\": \"LE\", \"numero_documento\": 42297707, \"sexo\": \"F\", \"fecha_nacimiento\": \"1944-11-22\", \"id_provincia\": 9, \"cobertura_medica\": \"Mixta\"}\n",
      "persona:100130: {\"nombre\": \"Bel\\u00e9n\", \"apellido\": \"Bertr\\u00e1n\", \"segundo_nombre\": \"NULL\", \"segundo_apellido\": \"Sureda\", \"tipo_documento\": \"DNI\", \"numero_documento\": 15100055, \"sexo\": \"X\", \"fecha_nacimiento\": \"1953-06-15\", \"id_provincia\": 9, \"cobertura_medica\": \"CPE\"}\n",
      "persona:100131: {\"nombre\": \"Mar\\u00eda Dolores\", \"apellido\": \"Pombo\", \"segundo_nombre\": \"NULL\", \"segundo_apellido\": \"V\\u00e9lez\", \"tipo_documento\": \"LC\", \"numero_documento\": 34258632, \"sexo\": \"F\", \"fecha_nacimiento\": \"2009-01-25\", \"id_provincia\": 9, \"cobertura_medica\": \"Mixta\"}\n",
      "persona:100132: {\"nombre\": \"Bienvenida\", \"apellido\": \"Hierro\", \"segundo_nombre\": \"NULL\", \"segundo_apellido\": \"NULL\", \"tipo_documento\": \"LC\", \"numero_documento\": 49224923, \"sexo\": \"M\", \"fecha_nacimiento\": \"2016-10-25\", \"id_provincia\": 9, \"cobertura_medica\": \"CPE\"}\n",
      "persona:100133: {\"nombre\": \"Marcial\", \"apellido\": \"Hoz\", \"segundo_nombre\": \"Carolina\", \"segundo_apellido\": \"Nicolau\", \"tipo_documento\": \"LE\", \"numero_documento\": 10373320, \"sexo\": \"M\", \"fecha_nacimiento\": \"2025-05-06\", \"id_provincia\": 9, \"cobertura_medica\": \"Mixta\"}\n",
      "persona:100134: {\"nombre\": \"Evita\", \"apellido\": \"Izaguirre\", \"segundo_nombre\": \"Cipriano\", \"segundo_apellido\": \"Nebot\", \"tipo_documento\": \"LE\", \"numero_documento\": 48531547, \"sexo\": \"F\", \"fecha_nacimiento\": \"2011-12-12\", \"id_provincia\": 9, \"cobertura_medica\": \"CPE\"}\n",
      "persona:100135: {\"nombre\": \"Graciano\", \"apellido\": \"Moliner\", \"segundo_nombre\": \"Pepe\", \"segundo_apellido\": \"NULL\", \"tipo_documento\": \"DNI\", \"numero_documento\": 37427709, \"sexo\": \"M\", \"fecha_nacimiento\": \"1988-10-07\", \"id_provincia\": 9, \"cobertura_medica\": \"Mixta\"}\n",
      "persona:100136: {\"nombre\": \"Teresita\", \"apellido\": \"Larra\\u00f1aga\", \"segundo_nombre\": \"NULL\", \"segundo_apellido\": \"NULL\", \"tipo_documento\": \"LE\", \"numero_documento\": 20841405, \"sexo\": \"X\", \"fecha_nacimiento\": \"2022-01-23\", \"id_provincia\": 9, \"cobertura_medica\": \"CPE\"}\n",
      "persona:100137: {\"nombre\": \"Natalia\", \"apellido\": \"Marin\", \"segundo_nombre\": \"Rosaura\", \"segundo_apellido\": \"Barrio\", \"tipo_documento\": \"DNI\", \"numero_documento\": 41390832, \"sexo\": \"X\", \"fecha_nacimiento\": \"2012-02-10\", \"id_provincia\": 10, \"cobertura_medica\": \"CPE\"}\n",
      "persona:100138: {\"nombre\": \"Heliodoro\", \"apellido\": \"Pou\", \"segundo_nombre\": \"NULL\", \"segundo_apellido\": \"NULL\", \"tipo_documento\": \"LC\", \"numero_documento\": 47295408, \"sexo\": \"F\", \"fecha_nacimiento\": \"1971-03-12\", \"id_provincia\": 10, \"cobertura_medica\": \"CPE\"}\n",
      "persona:100139: {\"nombre\": \"Prudencio\", \"apellido\": \"Sancho\", \"segundo_nombre\": \"NULL\", \"segundo_apellido\": \"NULL\", \"tipo_documento\": \"LC\", \"numero_documento\": 28720176, \"sexo\": \"X\", \"fecha_nacimiento\": \"1995-01-08\", \"id_provincia\": 10, \"cobertura_medica\": \"Mixta\"}\n",
      "persona:100140: {\"nombre\": \"Paola\", \"apellido\": \"Pomares\", \"segundo_nombre\": \"NULL\", \"segundo_apellido\": \"NULL\", \"tipo_documento\": \"DNI\", \"numero_documento\": 24568121, \"sexo\": \"F\", \"fecha_nacimiento\": \"2004-06-03\", \"id_provincia\": 10, \"cobertura_medica\": \"CPE\"}\n",
      "persona:100141: {\"nombre\": \"Josep\", \"apellido\": \"Verdejo\", \"segundo_nombre\": \"Eulalia\", \"segundo_apellido\": \"Parra\", \"tipo_documento\": \"LE\", \"numero_documento\": 46413943, \"sexo\": \"F\", \"fecha_nacimiento\": \"1950-08-03\", \"id_provincia\": 10, \"cobertura_medica\": \"CPE\"}\n",
      "persona:100142: {\"nombre\": \"M\\u00e1xima\", \"apellido\": \"Quir\\u00f3s\", \"segundo_nombre\": \"NULL\", \"segundo_apellido\": \"NULL\", \"tipo_documento\": \"LC\", \"numero_documento\": 37788211, \"sexo\": \"M\", \"fecha_nacimiento\": \"1988-10-24\", \"id_provincia\": 10, \"cobertura_medica\": \"CPE\"}\n",
      "persona:100143: {\"nombre\": \"Celia\", \"apellido\": \"Rebollo\", \"segundo_nombre\": \"NULL\", \"segundo_apellido\": \"Bertr\\u00e1n\", \"tipo_documento\": \"LE\", \"numero_documento\": 31139900, \"sexo\": \"F\", \"fecha_nacimiento\": \"1975-09-26\", \"id_provincia\": 10, \"cobertura_medica\": \"CPE\"}\n",
      "persona:100144: {\"nombre\": \"Gerardo\", \"apellido\": \"Ayll\\u00f3n\", \"segundo_nombre\": \"Priscila\", \"segundo_apellido\": \"NULL\", \"tipo_documento\": \"LC\", \"numero_documento\": 28059769, \"sexo\": \"X\", \"fecha_nacimiento\": \"1992-05-11\", \"id_provincia\": 10, \"cobertura_medica\": \"CPE\"}\n",
      "persona:100145: {\"nombre\": \"Luna\", \"apellido\": \"Sala\", \"segundo_nombre\": \"Lupita\", \"segundo_apellido\": \"NULL\", \"tipo_documento\": \"DNI\", \"numero_documento\": 48364685, \"sexo\": \"X\", \"fecha_nacimiento\": \"1963-12-14\", \"id_provincia\": 10, \"cobertura_medica\": \"Mixta\"}\n",
      "persona:100146: {\"nombre\": \"Consuela\", \"apellido\": \"Alegre\", \"segundo_nombre\": \"Teodosio\", \"segundo_apellido\": \"NULL\", \"tipo_documento\": \"LC\", \"numero_documento\": 29995863, \"sexo\": \"X\", \"fecha_nacimiento\": \"1930-10-21\", \"id_provincia\": 10, \"cobertura_medica\": \"Mixta\"}\n",
      "persona:100147: {\"nombre\": \"Poncio\", \"apellido\": \"Cabeza\", \"segundo_nombre\": \"NULL\", \"segundo_apellido\": \"NULL\", \"tipo_documento\": \"DNI\", \"numero_documento\": 39581721, \"sexo\": \"F\", \"fecha_nacimiento\": \"1944-09-26\", \"id_provincia\": 10, \"cobertura_medica\": \"Mixta\"}\n",
      "persona:100148: {\"nombre\": \"Flavia\", \"apellido\": \"Gilabert\", \"segundo_nombre\": \"Anunciaci\\u00f3n\", \"segundo_apellido\": \"NULL\", \"tipo_documento\": \"DNI\", \"numero_documento\": 12909674, \"sexo\": \"F\", \"fecha_nacimiento\": \"1932-03-01\", \"id_provincia\": 11, \"cobertura_medica\": \"CPE\"}\n",
      "persona:100149: {\"nombre\": \"Abilio\", \"apellido\": \"Jara\", \"segundo_nombre\": \"Marcia\", \"segundo_apellido\": \"NULL\", \"tipo_documento\": \"LC\", \"numero_documento\": 16771477, \"sexo\": \"M\", \"fecha_nacimiento\": \"1990-05-23\", \"id_provincia\": 11, \"cobertura_medica\": \"Mixta\"}\n",
      "persona:100150: {\"nombre\": \"Isaac\", \"apellido\": \"Iglesias\", \"segundo_nombre\": \"Rosario\", \"segundo_apellido\": \"Sanmiguel\", \"tipo_documento\": \"DNI\", \"numero_documento\": 17840149, \"sexo\": \"X\", \"fecha_nacimiento\": \"1999-03-06\", \"id_provincia\": 11, \"cobertura_medica\": \"CPE\"}\n",
      "persona:100151: {\"nombre\": \"Asunci\\u00f3n\", \"apellido\": \"Daza\", \"segundo_nombre\": \"Pancho\", \"segundo_apellido\": \"Nu\\u00f1ez\", \"tipo_documento\": \"LC\", \"numero_documento\": 19317764, \"sexo\": \"M\", \"fecha_nacimiento\": \"1970-10-06\", \"id_provincia\": 11, \"cobertura_medica\": \"CPE\"}\n",
      "persona:100152: {\"nombre\": \"Odalys\", \"apellido\": \"V\\u00e9lez\", \"segundo_nombre\": \"NULL\", \"segundo_apellido\": \"NULL\", \"tipo_documento\": \"LC\", \"numero_documento\": 27555106, \"sexo\": \"F\", \"fecha_nacimiento\": \"1957-09-28\", \"id_provincia\": 11, \"cobertura_medica\": \"CPE\"}\n",
      "persona:100153: {\"nombre\": \"Julia\", \"apellido\": \"Arias\", \"segundo_nombre\": \"NULL\", \"segundo_apellido\": \"Luz\", \"tipo_documento\": \"LC\", \"numero_documento\": 33812102, \"sexo\": \"M\", \"fecha_nacimiento\": \"2012-10-13\", \"id_provincia\": 11, \"cobertura_medica\": \"Mixta\"}\n",
      "persona:100154: {\"nombre\": \"Julieta\", \"apellido\": \"Madrigal\", \"segundo_nombre\": \"Araceli\", \"segundo_apellido\": \"Mulet\", \"tipo_documento\": \"LC\", \"numero_documento\": 27321674, \"sexo\": \"M\", \"fecha_nacimiento\": \"2008-06-08\", \"id_provincia\": 11, \"cobertura_medica\": \"Mixta\"}\n",
      "persona:100155: {\"nombre\": \"Angelita\", \"apellido\": \"Requena\", \"segundo_nombre\": \"NULL\", \"segundo_apellido\": \"NULL\", \"tipo_documento\": \"LE\", \"numero_documento\": 27617682, \"sexo\": \"M\", \"fecha_nacimiento\": \"1976-02-19\", \"id_provincia\": 11, \"cobertura_medica\": \"Mixta\"}\n",
      "persona:100156: {\"nombre\": \"Charo\", \"apellido\": \"Esparza\", \"segundo_nombre\": \"NULL\", \"segundo_apellido\": \"NULL\", \"tipo_documento\": \"LC\", \"numero_documento\": 35340952, \"sexo\": \"F\", \"fecha_nacimiento\": \"2013-01-21\", \"id_provincia\": 11, \"cobertura_medica\": \"Mixta\"}\n",
      "persona:100157: {\"nombre\": \"Mariano\", \"apellido\": \"Carro\", \"segundo_nombre\": \"NULL\", \"segundo_apellido\": \"NULL\", \"tipo_documento\": \"DNI\", \"numero_documento\": 36947788, \"sexo\": \"X\", \"fecha_nacimiento\": \"2011-07-12\", \"id_provincia\": 11, \"cobertura_medica\": \"CPE\"}\n",
      "persona:100158: {\"nombre\": \"Manuel\", \"apellido\": \"Roldan\", \"segundo_nombre\": \"NULL\", \"segundo_apellido\": \"Escolano\", \"tipo_documento\": \"LE\", \"numero_documento\": 34014507, \"sexo\": \"F\", \"fecha_nacimiento\": \"1965-01-20\", \"id_provincia\": 11, \"cobertura_medica\": \"CPE\"}\n",
      "persona:100159: {\"nombre\": \"Conrado\", \"apellido\": \"Verdugo\", \"segundo_nombre\": \"NULL\", \"segundo_apellido\": \"Viana\", \"tipo_documento\": \"LE\", \"numero_documento\": 22133215, \"sexo\": \"F\", \"fecha_nacimiento\": \"2024-06-30\", \"id_provincia\": 11, \"cobertura_medica\": \"Mixta\"}\n",
      "persona:100160: {\"nombre\": \"Irene\", \"apellido\": \"Llorente\", \"segundo_nombre\": \"NULL\", \"segundo_apellido\": \"Noriega\", \"tipo_documento\": \"LC\", \"numero_documento\": 16757432, \"sexo\": \"F\", \"fecha_nacimiento\": \"2007-10-15\", \"id_provincia\": 11, \"cobertura_medica\": \"Mixta\"}\n",
      "persona:100161: {\"nombre\": \"Felicidad\", \"apellido\": \"Bar\\u00f3\", \"segundo_nombre\": \"NULL\", \"segundo_apellido\": \"Rosales\", \"tipo_documento\": \"LE\", \"numero_documento\": 42007828, \"sexo\": \"M\", \"fecha_nacimiento\": \"1953-05-11\", \"id_provincia\": 11, \"cobertura_medica\": \"CPE\"}\n",
      "persona:100162: {\"nombre\": \"\\u00cdngrid\", \"apellido\": \"Iglesia\", \"segundo_nombre\": \"NULL\", \"segundo_apellido\": \"NULL\", \"tipo_documento\": \"LC\", \"numero_documento\": 39041823, \"sexo\": \"X\", \"fecha_nacimiento\": \"1954-01-04\", \"id_provincia\": 11, \"cobertura_medica\": \"CPE\"}\n",
      "persona:100163: {\"nombre\": \"Hernando\", \"apellido\": \"Pozo\", \"segundo_nombre\": \"NULL\", \"segundo_apellido\": \"Baquero\", \"tipo_documento\": \"DNI\", \"numero_documento\": 17229219, \"sexo\": \"F\", \"fecha_nacimiento\": \"1979-06-27\", \"id_provincia\": 11, \"cobertura_medica\": \"CPE\"}\n",
      "persona:100164: {\"nombre\": \"Flavia\", \"apellido\": \"Conesa\", \"segundo_nombre\": \"NULL\", \"segundo_apellido\": \"Bl\\u00e1zquez\", \"tipo_documento\": \"LC\", \"numero_documento\": 29940240, \"sexo\": \"X\", \"fecha_nacimiento\": \"2009-01-07\", \"id_provincia\": 11, \"cobertura_medica\": \"Mixta\"}\n",
      "persona:100165: {\"nombre\": \"Yaiza\", \"apellido\": \"Montalb\\u00e1n\", \"segundo_nombre\": \"Consuelo\", \"segundo_apellido\": \"Teruel\", \"tipo_documento\": \"LC\", \"numero_documento\": 41829287, \"sexo\": \"F\", \"fecha_nacimiento\": \"1976-07-06\", \"id_provincia\": 11, \"cobertura_medica\": \"Mixta\"}\n",
      "persona:100166: {\"nombre\": \"Roxana\", \"apellido\": \"Pedro\", \"segundo_nombre\": \"Juan Carlos\", \"segundo_apellido\": \"Poza\", \"tipo_documento\": \"LC\", \"numero_documento\": 36151306, \"sexo\": \"F\", \"fecha_nacimiento\": \"1945-09-08\", \"id_provincia\": 12, \"cobertura_medica\": \"CPE\"}\n",
      "persona:100167: {\"nombre\": \"Abiga\\u00edl\", \"apellido\": \"Pont\", \"segundo_nombre\": \"Vanesa\", \"segundo_apellido\": \"NULL\", \"tipo_documento\": \"LE\", \"numero_documento\": 11150880, \"sexo\": \"X\", \"fecha_nacimiento\": \"2023-07-12\", \"id_provincia\": 12, \"cobertura_medica\": \"Mixta\"}\n",
      "persona:100168: {\"nombre\": \"Dorita\", \"apellido\": \"Collado\", \"segundo_nombre\": \"Cruz\", \"segundo_apellido\": \"NULL\", \"tipo_documento\": \"LC\", \"numero_documento\": 42658033, \"sexo\": \"F\", \"fecha_nacimiento\": \"1947-07-18\", \"id_provincia\": 12, \"cobertura_medica\": \"Mixta\"}\n",
      "persona:100169: {\"nombre\": \"Alma\", \"apellido\": \"Pozuelo\", \"segundo_nombre\": \"Rodrigo\", \"segundo_apellido\": \"Arteaga\", \"tipo_documento\": \"LC\", \"numero_documento\": 23027646, \"sexo\": \"F\", \"fecha_nacimiento\": \"2004-01-03\", \"id_provincia\": 12, \"cobertura_medica\": \"CPE\"}\n",
      "persona:100170: {\"nombre\": \"Eladio\", \"apellido\": \"Abella\", \"segundo_nombre\": \"NULL\", \"segundo_apellido\": \"NULL\", \"tipo_documento\": \"LC\", \"numero_documento\": 11701262, \"sexo\": \"M\", \"fecha_nacimiento\": \"1954-10-16\", \"id_provincia\": 12, \"cobertura_medica\": \"CPE\"}\n",
      "persona:100171: {\"nombre\": \"Francisco Javier\", \"apellido\": \"Higueras\", \"segundo_nombre\": \"Benigna\", \"segundo_apellido\": \"Osorio\", \"tipo_documento\": \"LE\", \"numero_documento\": 45055966, \"sexo\": \"X\", \"fecha_nacimiento\": \"1990-01-02\", \"id_provincia\": 12, \"cobertura_medica\": \"Mixta\"}\n",
      "persona:100172: {\"nombre\": \"Nacio\", \"apellido\": \"Andres\", \"segundo_nombre\": \"NULL\", \"segundo_apellido\": \"NULL\", \"tipo_documento\": \"LE\", \"numero_documento\": 48238626, \"sexo\": \"M\", \"fecha_nacimiento\": \"2018-04-09\", \"id_provincia\": 12, \"cobertura_medica\": \"CPE\"}\n",
      "persona:100173: {\"nombre\": \"Paula\", \"apellido\": \"Rius\", \"segundo_nombre\": \"NULL\", \"segundo_apellido\": \"NULL\", \"tipo_documento\": \"DNI\", \"numero_documento\": 40308771, \"sexo\": \"M\", \"fecha_nacimiento\": \"2017-10-01\", \"id_provincia\": 12, \"cobertura_medica\": \"CPE\"}\n",
      "persona:100174: {\"nombre\": \"Carmela\", \"apellido\": \"Gomis\", \"segundo_nombre\": \"Vilma\", \"segundo_apellido\": \"Cazorla\", \"tipo_documento\": \"DNI\", \"numero_documento\": 27184395, \"sexo\": \"F\", \"fecha_nacimiento\": \"1969-09-03\", \"id_provincia\": 12, \"cobertura_medica\": \"Mixta\"}\n",
      "persona:100175: {\"nombre\": \"Toribio\", \"apellido\": \"Bilbao\", \"segundo_nombre\": \"NULL\", \"segundo_apellido\": \"NULL\", \"tipo_documento\": \"LE\", \"numero_documento\": 40845126, \"sexo\": \"M\", \"fecha_nacimiento\": \"1947-01-05\", \"id_provincia\": 12, \"cobertura_medica\": \"Mixta\"}\n",
      "persona:100176: {\"nombre\": \"Elisa\", \"apellido\": \"Mancebo\", \"segundo_nombre\": \"NULL\", \"segundo_apellido\": \"Manuel\", \"tipo_documento\": \"DNI\", \"numero_documento\": 32766948, \"sexo\": \"F\", \"fecha_nacimiento\": \"1992-06-18\", \"id_provincia\": 12, \"cobertura_medica\": \"CPE\"}\n",
      "persona:100177: {\"nombre\": \"Maricruz\", \"apellido\": \"Prado\", \"segundo_nombre\": \"\\u00c1gata\", \"segundo_apellido\": \"NULL\", \"tipo_documento\": \"LC\", \"numero_documento\": 22112482, \"sexo\": \"X\", \"fecha_nacimiento\": \"1929-09-02\", \"id_provincia\": 12, \"cobertura_medica\": \"CPE\"}\n",
      "persona:100178: {\"nombre\": \"Jord\\u00e1n\", \"apellido\": \"Gil\", \"segundo_nombre\": \"NULL\", \"segundo_apellido\": \"Bayona\", \"tipo_documento\": \"DNI\", \"numero_documento\": 14015113, \"sexo\": \"M\", \"fecha_nacimiento\": \"2000-01-30\", \"id_provincia\": 12, \"cobertura_medica\": \"CPE\"}\n",
      "persona:100179: {\"nombre\": \"Crist\\u00f3bal\", \"apellido\": \"Di\\u00e9guez\", \"segundo_nombre\": \"Serafina\", \"segundo_apellido\": \"NULL\", \"tipo_documento\": \"LE\", \"numero_documento\": 37059728, \"sexo\": \"F\", \"fecha_nacimiento\": \"2002-03-16\", \"id_provincia\": 12, \"cobertura_medica\": \"Mixta\"}\n",
      "persona:100180: {\"nombre\": \"Faustino\", \"apellido\": \"Capdevila\", \"segundo_nombre\": \"NULL\", \"segundo_apellido\": \"Romero\", \"tipo_documento\": \"LC\", \"numero_documento\": 48807871, \"sexo\": \"F\", \"fecha_nacimiento\": \"2016-09-28\", \"id_provincia\": 13, \"cobertura_medica\": \"CPE\"}\n",
      "persona:100181: {\"nombre\": \"Manuelita\", \"apellido\": \"Vallejo\", \"segundo_nombre\": \"NULL\", \"segundo_apellido\": \"NULL\", \"tipo_documento\": \"LC\", \"numero_documento\": 30740988, \"sexo\": \"X\", \"fecha_nacimiento\": \"2024-11-07\", \"id_provincia\": 13, \"cobertura_medica\": \"CPE\"}\n",
      "persona:100182: {\"nombre\": \"Bartolom\\u00e9\", \"apellido\": \"Bosch\", \"segundo_nombre\": \"NULL\", \"segundo_apellido\": \"NULL\", \"tipo_documento\": \"LC\", \"numero_documento\": 43675161, \"sexo\": \"M\", \"fecha_nacimiento\": \"1952-08-26\", \"id_provincia\": 13, \"cobertura_medica\": \"CPE\"}\n",
      "persona:100183: {\"nombre\": \"Olivia\", \"apellido\": \"Teruel\", \"segundo_nombre\": \"NULL\", \"segundo_apellido\": \"NULL\", \"tipo_documento\": \"DNI\", \"numero_documento\": 33486301, \"sexo\": \"F\", \"fecha_nacimiento\": \"1960-12-25\", \"id_provincia\": 13, \"cobertura_medica\": \"Mixta\"}\n",
      "persona:100184: {\"nombre\": \"Hernando\", \"apellido\": \"Oliveras\", \"segundo_nombre\": \"Eligio\", \"segundo_apellido\": \"Talavera\", \"tipo_documento\": \"DNI\", \"numero_documento\": 11508356, \"sexo\": \"F\", \"fecha_nacimiento\": \"1979-09-13\", \"id_provincia\": 13, \"cobertura_medica\": \"Mixta\"}\n",
      "persona:100185: {\"nombre\": \"Marcelo\", \"apellido\": \"Azcona\", \"segundo_nombre\": \"NULL\", \"segundo_apellido\": \"Ballesteros\", \"tipo_documento\": \"DNI\", \"numero_documento\": 14126578, \"sexo\": \"F\", \"fecha_nacimiento\": \"2014-07-12\", \"id_provincia\": 13, \"cobertura_medica\": \"CPE\"}\n",
      "persona:100186: {\"nombre\": \"Tiburcio\", \"apellido\": \"Leiva\", \"segundo_nombre\": \"Pepita\", \"segundo_apellido\": \"NULL\", \"tipo_documento\": \"LE\", \"numero_documento\": 24547935, \"sexo\": \"F\", \"fecha_nacimiento\": \"1938-08-18\", \"id_provincia\": 13, \"cobertura_medica\": \"CPE\"}\n",
      "persona:100187: {\"nombre\": \"Virgilio\", \"apellido\": \"Merino\", \"segundo_nombre\": \"Gertrudis\", \"segundo_apellido\": \"Pino\", \"tipo_documento\": \"LC\", \"numero_documento\": 32925648, \"sexo\": \"F\", \"fecha_nacimiento\": \"1934-02-10\", \"id_provincia\": 13, \"cobertura_medica\": \"Mixta\"}\n",
      "persona:100188: {\"nombre\": \"Amor\", \"apellido\": \"Cant\\u00f3n\", \"segundo_nombre\": \"NULL\", \"segundo_apellido\": \"NULL\", \"tipo_documento\": \"LC\", \"numero_documento\": 20439645, \"sexo\": \"M\", \"fecha_nacimiento\": \"1979-05-11\", \"id_provincia\": 13, \"cobertura_medica\": \"CPE\"}\n",
      "persona:100189: {\"nombre\": \"Abiga\\u00edl\", \"apellido\": \"Baeza\", \"segundo_nombre\": \"NULL\", \"segundo_apellido\": \"Gibert\", \"tipo_documento\": \"DNI\", \"numero_documento\": 21063729, \"sexo\": \"F\", \"fecha_nacimiento\": \"1990-10-03\", \"id_provincia\": 13, \"cobertura_medica\": \"Mixta\"}\n",
      "persona:100190: {\"nombre\": \"Artemio\", \"apellido\": \"Vall\\u00e9s\", \"segundo_nombre\": \"M\\u00f3nica\", \"segundo_apellido\": \"Robledo\", \"tipo_documento\": \"LE\", \"numero_documento\": 42765064, \"sexo\": \"X\", \"fecha_nacimiento\": \"1985-06-30\", \"id_provincia\": 13, \"cobertura_medica\": \"Mixta\"}\n",
      "persona:100191: {\"nombre\": \"Haroldo\", \"apellido\": \"Alc\\u00e1ntara\", \"segundo_nombre\": \"Timoteo\", \"segundo_apellido\": \"Gil\", \"tipo_documento\": \"LE\", \"numero_documento\": 38556053, \"sexo\": \"M\", \"fecha_nacimiento\": \"1935-08-28\", \"id_provincia\": 13, \"cobertura_medica\": \"Mixta\"}\n",
      "persona:100192: {\"nombre\": \"Paula\", \"apellido\": \"Varela\", \"segundo_nombre\": \"NULL\", \"segundo_apellido\": \"Peral\", \"tipo_documento\": \"LE\", \"numero_documento\": 19612990, \"sexo\": \"M\", \"fecha_nacimiento\": \"1931-06-09\", \"id_provincia\": 13, \"cobertura_medica\": \"Mixta\"}\n",
      "persona:100193: {\"nombre\": \"Gabino\", \"apellido\": \"Mata\", \"segundo_nombre\": \"Florentina\", \"segundo_apellido\": \"NULL\", \"tipo_documento\": \"LC\", \"numero_documento\": 20309638, \"sexo\": \"F\", \"fecha_nacimiento\": \"1951-02-09\", \"id_provincia\": 13, \"cobertura_medica\": \"CPE\"}\n",
      "persona:100194: {\"nombre\": \"Quique\", \"apellido\": \"Agullo\", \"segundo_nombre\": \"Agapito\", \"segundo_apellido\": \"Infante\", \"tipo_documento\": \"LE\", \"numero_documento\": 41295558, \"sexo\": \"M\", \"fecha_nacimiento\": \"1985-09-16\", \"id_provincia\": 13, \"cobertura_medica\": \"CPE\"}\n",
      "persona:100195: {\"nombre\": \"Calixta\", \"apellido\": \"Sans\", \"segundo_nombre\": \"NULL\", \"segundo_apellido\": \"G\\u00f3mez\", \"tipo_documento\": \"LC\", \"numero_documento\": 15301358, \"sexo\": \"M\", \"fecha_nacimiento\": \"2016-07-11\", \"id_provincia\": 13, \"cobertura_medica\": \"Mixta\"}\n",
      "persona:100196: {\"nombre\": \"Estela\", \"apellido\": \"Lozano\", \"segundo_nombre\": \"Emma\", \"segundo_apellido\": \"Laguna\", \"tipo_documento\": \"DNI\", \"numero_documento\": 26966102, \"sexo\": \"F\", \"fecha_nacimiento\": \"1958-08-24\", \"id_provincia\": 13, \"cobertura_medica\": \"Mixta\"}\n",
      "persona:100197: {\"nombre\": \"Consuelo\", \"apellido\": \"Garmendia\", \"segundo_nombre\": \"Baudelio\", \"segundo_apellido\": \"NULL\", \"tipo_documento\": \"LE\", \"numero_documento\": 45068470, \"sexo\": \"F\", \"fecha_nacimiento\": \"2021-12-09\", \"id_provincia\": 13, \"cobertura_medica\": \"Mixta\"}\n",
      "persona:100198: {\"nombre\": \"Manolo\", \"apellido\": \"Agudo\", \"segundo_nombre\": \"NULL\", \"segundo_apellido\": \"NULL\", \"tipo_documento\": \"LE\", \"numero_documento\": 11428411, \"sexo\": \"F\", \"fecha_nacimiento\": \"2024-10-20\", \"id_provincia\": 14, \"cobertura_medica\": \"Mixta\"}\n",
      "persona:100199: {\"nombre\": \"Luna\", \"apellido\": \"Franch\", \"segundo_nombre\": \"Narciso\", \"segundo_apellido\": \"Gargallo\", \"tipo_documento\": \"LE\", \"numero_documento\": 36233412, \"sexo\": \"X\", \"fecha_nacimiento\": \"2021-04-28\", \"id_provincia\": 14, \"cobertura_medica\": \"CPE\"}\n",
      "persona:100200: {\"nombre\": \"Melisa\", \"apellido\": \"Colomer\", \"segundo_nombre\": \"NULL\", \"segundo_apellido\": \"Hoz\", \"tipo_documento\": \"LC\", \"numero_documento\": 35130198, \"sexo\": \"M\", \"fecha_nacimiento\": \"1977-04-22\", \"id_provincia\": 14, \"cobertura_medica\": \"CPE\"}\n",
      "persona:100201: {\"nombre\": \"Le\\u00f3n\", \"apellido\": \"Polo\", \"segundo_nombre\": \"Felicidad\", \"segundo_apellido\": \"NULL\", \"tipo_documento\": \"LC\", \"numero_documento\": 42058088, \"sexo\": \"F\", \"fecha_nacimiento\": \"1945-05-28\", \"id_provincia\": 14, \"cobertura_medica\": \"Mixta\"}\n",
      "persona:100202: {\"nombre\": \"Nacho\", \"apellido\": \"Mariscal\", \"segundo_nombre\": \"Jose Ignacio\", \"segundo_apellido\": \"NULL\", \"tipo_documento\": \"LC\", \"numero_documento\": 21426768, \"sexo\": \"X\", \"fecha_nacimiento\": \"2021-02-13\", \"id_provincia\": 14, \"cobertura_medica\": \"Mixta\"}\n",
      "persona:100203: {\"nombre\": \"Emma\", \"apellido\": \"Coca\", \"segundo_nombre\": \"NULL\", \"segundo_apellido\": \"Torre\", \"tipo_documento\": \"LE\", \"numero_documento\": 31735097, \"sexo\": \"X\", \"fecha_nacimiento\": \"1998-08-12\", \"id_provincia\": 14, \"cobertura_medica\": \"Mixta\"}\n",
      "persona:100204: {\"nombre\": \"Telmo\", \"apellido\": \"Di\\u00e9guez\", \"segundo_nombre\": \"NULL\", \"segundo_apellido\": \"NULL\", \"tipo_documento\": \"LE\", \"numero_documento\": 47147954, \"sexo\": \"X\", \"fecha_nacimiento\": \"1988-05-15\", \"id_provincia\": 14, \"cobertura_medica\": \"Mixta\"}\n",
      "persona:100205: {\"nombre\": \"Manu\", \"apellido\": \"Albero\", \"segundo_nombre\": \"Plinio\", \"segundo_apellido\": \"NULL\", \"tipo_documento\": \"DNI\", \"numero_documento\": 30205020, \"sexo\": \"X\", \"fecha_nacimiento\": \"1987-07-08\", \"id_provincia\": 14, \"cobertura_medica\": \"Mixta\"}\n",
      "persona:100206: {\"nombre\": \"\\u00c1ngeles\", \"apellido\": \"Garcia\", \"segundo_nombre\": \"NULL\", \"segundo_apellido\": \"NULL\", \"tipo_documento\": \"LE\", \"numero_documento\": 25836566, \"sexo\": \"F\", \"fecha_nacimiento\": \"1949-01-17\", \"id_provincia\": 14, \"cobertura_medica\": \"CPE\"}\n",
      "persona:100207: {\"nombre\": \"Clemente\", \"apellido\": \"Lara\", \"segundo_nombre\": \"Carmen\", \"segundo_apellido\": \"NULL\", \"tipo_documento\": \"DNI\", \"numero_documento\": 15857477, \"sexo\": \"X\", \"fecha_nacimiento\": \"2013-02-17\", \"id_provincia\": 14, \"cobertura_medica\": \"Mixta\"}\n",
      "persona:100208: {\"nombre\": \"Daniel\", \"apellido\": \"Lucena\", \"segundo_nombre\": \"Samu\", \"segundo_apellido\": \"Chaves\", \"tipo_documento\": \"DNI\", \"numero_documento\": 41992686, \"sexo\": \"M\", \"fecha_nacimiento\": \"2023-06-17\", \"id_provincia\": 14, \"cobertura_medica\": \"Mixta\"}\n",
      "persona:100209: {\"nombre\": \"Diana\", \"apellido\": \"Luque\", \"segundo_nombre\": \"Delfina\", \"segundo_apellido\": \"NULL\", \"tipo_documento\": \"DNI\", \"numero_documento\": 30913896, \"sexo\": \"X\", \"fecha_nacimiento\": \"1981-12-23\", \"id_provincia\": 14, \"cobertura_medica\": \"CPE\"}\n",
      "persona:100210: {\"nombre\": \"Consuelo\", \"apellido\": \"Canals\", \"segundo_nombre\": \"Rafa\", \"segundo_apellido\": \"Catal\\u00e1n\", \"tipo_documento\": \"LC\", \"numero_documento\": 40229579, \"sexo\": \"M\", \"fecha_nacimiento\": \"1930-08-22\", \"id_provincia\": 14, \"cobertura_medica\": \"CPE\"}\n",
      "persona:100211: {\"nombre\": \"Fabricio\", \"apellido\": \"Huguet\", \"segundo_nombre\": \"Diego\", \"segundo_apellido\": \"Quiroga\", \"tipo_documento\": \"LE\", \"numero_documento\": 20176911, \"sexo\": \"F\", \"fecha_nacimiento\": \"1955-03-11\", \"id_provincia\": 14, \"cobertura_medica\": \"CPE\"}\n",
      "persona:100212: {\"nombre\": \"Hector\", \"apellido\": \"Prieto\", \"segundo_nombre\": \"Victorino\", \"segundo_apellido\": \"Capdevila\", \"tipo_documento\": \"DNI\", \"numero_documento\": 45680023, \"sexo\": \"X\", \"fecha_nacimiento\": \"2024-03-30\", \"id_provincia\": 14, \"cobertura_medica\": \"CPE\"}\n",
      "persona:100213: {\"nombre\": \"Mauricio\", \"apellido\": \"Viana\", \"segundo_nombre\": \"NULL\", \"segundo_apellido\": \"Mora\", \"tipo_documento\": \"LE\", \"numero_documento\": 23250360, \"sexo\": \"M\", \"fecha_nacimiento\": \"1944-08-09\", \"id_provincia\": 14, \"cobertura_medica\": \"Mixta\"}\n",
      "persona:100214: {\"nombre\": \"Fausto\", \"apellido\": \"L\\u00f3pez\", \"segundo_nombre\": \"NULL\", \"segundo_apellido\": \"NULL\", \"tipo_documento\": \"LC\", \"numero_documento\": 45008387, \"sexo\": \"M\", \"fecha_nacimiento\": \"1976-11-09\", \"id_provincia\": 14, \"cobertura_medica\": \"Mixta\"}\n",
      "persona:100215: {\"nombre\": \"Mois\\u00e9s\", \"apellido\": \"Parejo\", \"segundo_nombre\": \"NULL\", \"segundo_apellido\": \"Ferrera\", \"tipo_documento\": \"LE\", \"numero_documento\": 38321372, \"sexo\": \"M\", \"fecha_nacimiento\": \"2000-01-15\", \"id_provincia\": 15, \"cobertura_medica\": \"CPE\"}\n",
      "persona:100216: {\"nombre\": \"Mar\", \"apellido\": \"Catal\\u00e1n\", \"segundo_nombre\": \"Alejandro\", \"segundo_apellido\": \"NULL\", \"tipo_documento\": \"LC\", \"numero_documento\": 27111247, \"sexo\": \"F\", \"fecha_nacimiento\": \"1968-04-12\", \"id_provincia\": 15, \"cobertura_medica\": \"Mixta\"}\n",
      "persona:100217: {\"nombre\": \"Octavio\", \"apellido\": \"Oliv\\u00e9\", \"segundo_nombre\": \"NULL\", \"segundo_apellido\": \"Mari\\u00f1o\", \"tipo_documento\": \"LE\", \"numero_documento\": 41782015, \"sexo\": \"M\", \"fecha_nacimiento\": \"1943-09-08\", \"id_provincia\": 15, \"cobertura_medica\": \"Mixta\"}\n",
      "persona:100218: {\"nombre\": \"Jose Ram\\u00f3n\", \"apellido\": \"Ortiz\", \"segundo_nombre\": \"NULL\", \"segundo_apellido\": \"NULL\", \"tipo_documento\": \"LE\", \"numero_documento\": 12135402, \"sexo\": \"X\", \"fecha_nacimiento\": \"2002-02-08\", \"id_provincia\": 15, \"cobertura_medica\": \"Mixta\"}\n",
      "persona:100219: {\"nombre\": \"Alondra\", \"apellido\": \"Valenzuela\", \"segundo_nombre\": \"Galo\", \"segundo_apellido\": \"NULL\", \"tipo_documento\": \"DNI\", \"numero_documento\": 43333500, \"sexo\": \"M\", \"fecha_nacimiento\": \"1975-11-09\", \"id_provincia\": 15, \"cobertura_medica\": \"CPE\"}\n",
      "persona:100220: {\"nombre\": \"Mar\\u00eda Luisa\", \"apellido\": \"Gilabert\", \"segundo_nombre\": \"NULL\", \"segundo_apellido\": \"NULL\", \"tipo_documento\": \"DNI\", \"numero_documento\": 10781703, \"sexo\": \"F\", \"fecha_nacimiento\": \"1988-02-03\", \"id_provincia\": 15, \"cobertura_medica\": \"CPE\"}\n",
      "persona:100221: {\"nombre\": \"Jose Ram\\u00f3n\", \"apellido\": \"Pol\", \"segundo_nombre\": \"NULL\", \"segundo_apellido\": \"NULL\", \"tipo_documento\": \"LE\", \"numero_documento\": 47468191, \"sexo\": \"M\", \"fecha_nacimiento\": \"2000-11-06\", \"id_provincia\": 15, \"cobertura_medica\": \"Mixta\"}\n",
      "persona:100222: {\"nombre\": \"Baltasar\", \"apellido\": \"Ropero\", \"segundo_nombre\": \"Flavia\", \"segundo_apellido\": \"Losa\", \"tipo_documento\": \"LE\", \"numero_documento\": 11478859, \"sexo\": \"M\", \"fecha_nacimiento\": \"1975-03-06\", \"id_provincia\": 15, \"cobertura_medica\": \"CPE\"}\n",
      "persona:100223: {\"nombre\": \"Olegario\", \"apellido\": \"Salcedo\", \"segundo_nombre\": \"NULL\", \"segundo_apellido\": \"Blanco\", \"tipo_documento\": \"LE\", \"numero_documento\": 36253549, \"sexo\": \"F\", \"fecha_nacimiento\": \"2007-09-29\", \"id_provincia\": 15, \"cobertura_medica\": \"Mixta\"}\n",
      "persona:100224: {\"nombre\": \"Sandalio\", \"apellido\": \"Rom\\u00e1n\", \"segundo_nombre\": \"Aurelia\", \"segundo_apellido\": \"Borja\", \"tipo_documento\": \"DNI\", \"numero_documento\": 16236628, \"sexo\": \"X\", \"fecha_nacimiento\": \"1987-05-22\", \"id_provincia\": 15, \"cobertura_medica\": \"Mixta\"}\n",
      "persona:100225: {\"nombre\": \"Priscila\", \"apellido\": \"Guti\\u00e9rrez\", \"segundo_nombre\": \"Marino\", \"segundo_apellido\": \"NULL\", \"tipo_documento\": \"DNI\", \"numero_documento\": 41647355, \"sexo\": \"M\", \"fecha_nacimiento\": \"2019-08-01\", \"id_provincia\": 15, \"cobertura_medica\": \"CPE\"}\n",
      "persona:100226: {\"nombre\": \"Josefina\", \"apellido\": \"Trujillo\", \"segundo_nombre\": \"NULL\", \"segundo_apellido\": \"Lobato\", \"tipo_documento\": \"LE\", \"numero_documento\": 40740016, \"sexo\": \"M\", \"fecha_nacimiento\": \"1975-09-26\", \"id_provincia\": 15, \"cobertura_medica\": \"CPE\"}\n",
      "persona:100227: {\"nombre\": \"N\\u00e9lida\", \"apellido\": \"Abell\\u00e1n\", \"segundo_nombre\": \"Manu\", \"segundo_apellido\": \"NULL\", \"tipo_documento\": \"LE\", \"numero_documento\": 37946493, \"sexo\": \"F\", \"fecha_nacimiento\": \"1975-12-01\", \"id_provincia\": 15, \"cobertura_medica\": \"CPE\"}\n",
      "persona:100228: {\"nombre\": \"Graciano\", \"apellido\": \"Escolano\", \"segundo_nombre\": \"NULL\", \"segundo_apellido\": \"NULL\", \"tipo_documento\": \"LC\", \"numero_documento\": 25160683, \"sexo\": \"X\", \"fecha_nacimiento\": \"1932-01-20\", \"id_provincia\": 15, \"cobertura_medica\": \"Mixta\"}\n",
      "persona:100229: {\"nombre\": \"Herberto\", \"apellido\": \"Mulet\", \"segundo_nombre\": \"NULL\", \"segundo_apellido\": \"NULL\", \"tipo_documento\": \"DNI\", \"numero_documento\": 41478002, \"sexo\": \"M\", \"fecha_nacimiento\": \"2019-10-30\", \"id_provincia\": 15, \"cobertura_medica\": \"CPE\"}\n",
      "persona:100230: {\"nombre\": \"Sancho\", \"apellido\": \"Sevillano\", \"segundo_nombre\": \"NULL\", \"segundo_apellido\": \"Salas\", \"tipo_documento\": \"LE\", \"numero_documento\": 28306665, \"sexo\": \"F\", \"fecha_nacimiento\": \"1980-12-08\", \"id_provincia\": 16, \"cobertura_medica\": \"CPE\"}\n",
      "persona:100231: {\"nombre\": \"Ariadna\", \"apellido\": \"Salinas\", \"segundo_nombre\": \"Mar\\u00eda Del Carmen\", \"segundo_apellido\": \"Bejarano\", \"tipo_documento\": \"LC\", \"numero_documento\": 49249763, \"sexo\": \"X\", \"fecha_nacimiento\": \"1962-06-23\", \"id_provincia\": 16, \"cobertura_medica\": \"Mixta\"}\n",
      "persona:100232: {\"nombre\": \"Prudencio\", \"apellido\": \"Manj\\u00f3n\", \"segundo_nombre\": \"Am\\u00e9rica\", \"segundo_apellido\": \"NULL\", \"tipo_documento\": \"LE\", \"numero_documento\": 38696480, \"sexo\": \"F\", \"fecha_nacimiento\": \"1937-10-30\", \"id_provincia\": 16, \"cobertura_medica\": \"Mixta\"}\n",
      "persona:100233: {\"nombre\": \"Edu\", \"apellido\": \"Villena\", \"segundo_nombre\": \"NULL\", \"segundo_apellido\": \"Nicol\\u00e1s\", \"tipo_documento\": \"LE\", \"numero_documento\": 28506907, \"sexo\": \"F\", \"fecha_nacimiento\": \"1930-10-17\", \"id_provincia\": 16, \"cobertura_medica\": \"Mixta\"}\n",
      "persona:100234: {\"nombre\": \"Remedios\", \"apellido\": \"Gargallo\", \"segundo_nombre\": \"Selena\", \"segundo_apellido\": \"NULL\", \"tipo_documento\": \"DNI\", \"numero_documento\": 30227311, \"sexo\": \"M\", \"fecha_nacimiento\": \"1938-11-05\", \"id_provincia\": 16, \"cobertura_medica\": \"CPE\"}\n",
      "persona:100235: {\"nombre\": \"Marta\", \"apellido\": \"P\\u00e1ez\", \"segundo_nombre\": \"D\\u00e9bora\", \"segundo_apellido\": \"Izquierdo\", \"tipo_documento\": \"LE\", \"numero_documento\": 43561240, \"sexo\": \"F\", \"fecha_nacimiento\": \"2016-07-03\", \"id_provincia\": 16, \"cobertura_medica\": \"Mixta\"}\n",
      "persona:100236: {\"nombre\": \"Alondra\", \"apellido\": \"Seco\", \"segundo_nombre\": \"NULL\", \"segundo_apellido\": \"Saavedra\", \"tipo_documento\": \"DNI\", \"numero_documento\": 40263848, \"sexo\": \"X\", \"fecha_nacimiento\": \"1966-06-20\", \"id_provincia\": 16, \"cobertura_medica\": \"Mixta\"}\n",
      "persona:100237: {\"nombre\": \"Adelia\", \"apellido\": \"Capdevila\", \"segundo_nombre\": \"Eugenia\", \"segundo_apellido\": \"Espa\\u00f1ol\", \"tipo_documento\": \"LE\", \"numero_documento\": 32511054, \"sexo\": \"F\", \"fecha_nacimiento\": \"1947-09-19\", \"id_provincia\": 16, \"cobertura_medica\": \"CPE\"}\n",
      "persona:100238: {\"nombre\": \"Herminia\", \"apellido\": \"Vendrell\", \"segundo_nombre\": \"NULL\", \"segundo_apellido\": \"NULL\", \"tipo_documento\": \"LC\", \"numero_documento\": 35970388, \"sexo\": \"M\", \"fecha_nacimiento\": \"1961-08-09\", \"id_provincia\": 16, \"cobertura_medica\": \"CPE\"}\n",
      "persona:100239: {\"nombre\": \"Isaac\", \"apellido\": \"Quesada\", \"segundo_nombre\": \"NULL\", \"segundo_apellido\": \"Cueto\", \"tipo_documento\": \"LC\", \"numero_documento\": 20499353, \"sexo\": \"M\", \"fecha_nacimiento\": \"2004-06-02\", \"id_provincia\": 16, \"cobertura_medica\": \"Mixta\"}\n",
      "persona:100240: {\"nombre\": \"Corona\", \"apellido\": \"Huertas\", \"segundo_nombre\": \"NULL\", \"segundo_apellido\": \"Contreras\", \"tipo_documento\": \"DNI\", \"numero_documento\": 25068617, \"sexo\": \"F\", \"fecha_nacimiento\": \"1967-08-05\", \"id_provincia\": 16, \"cobertura_medica\": \"CPE\"}\n",
      "persona:100241: {\"nombre\": \"Dora\", \"apellido\": \"Herrero\", \"segundo_nombre\": \"Buenaventura\", \"segundo_apellido\": \"NULL\", \"tipo_documento\": \"LC\", \"numero_documento\": 22997749, \"sexo\": \"X\", \"fecha_nacimiento\": \"1944-10-23\", \"id_provincia\": 16, \"cobertura_medica\": \"CPE\"}\n",
      "persona:100242: {\"nombre\": \"Amor\", \"apellido\": \"Prat\", \"segundo_nombre\": \"NULL\", \"segundo_apellido\": \"NULL\", \"tipo_documento\": \"LC\", \"numero_documento\": 38388333, \"sexo\": \"X\", \"fecha_nacimiento\": \"1941-04-10\", \"id_provincia\": 16, \"cobertura_medica\": \"CPE\"}\n",
      "persona:100243: {\"nombre\": \"Oriana\", \"apellido\": \"Macias\", \"segundo_nombre\": \"NULL\", \"segundo_apellido\": \"Boada\", \"tipo_documento\": \"LE\", \"numero_documento\": 46377471, \"sexo\": \"M\", \"fecha_nacimiento\": \"1991-04-14\", \"id_provincia\": 16, \"cobertura_medica\": \"Mixta\"}\n",
      "persona:100244: {\"nombre\": \"Humberto\", \"apellido\": \"Cerro\", \"segundo_nombre\": \"Rosario\", \"segundo_apellido\": \"Corbacho\", \"tipo_documento\": \"DNI\", \"numero_documento\": 12419211, \"sexo\": \"M\", \"fecha_nacimiento\": \"1988-09-24\", \"id_provincia\": 16, \"cobertura_medica\": \"CPE\"}\n",
      "persona:100245: {\"nombre\": \"Mercedes\", \"apellido\": \"Fajardo\", \"segundo_nombre\": \"Nacho\", \"segundo_apellido\": \"Vilanova\", \"tipo_documento\": \"LE\", \"numero_documento\": 36995166, \"sexo\": \"F\", \"fecha_nacimiento\": \"1989-04-04\", \"id_provincia\": 16, \"cobertura_medica\": \"CPE\"}\n",
      "persona:100246: {\"nombre\": \"Carmelo\", \"apellido\": \"Portillo\", \"segundo_nombre\": \"Mercedes\", \"segundo_apellido\": \"Guardia\", \"tipo_documento\": \"LE\", \"numero_documento\": 27433138, \"sexo\": \"F\", \"fecha_nacimiento\": \"1936-04-05\", \"id_provincia\": 16, \"cobertura_medica\": \"Mixta\"}\n",
      "persona:100247: {\"nombre\": \"Charo\", \"apellido\": \"Manj\\u00f3n\", \"segundo_nombre\": \"Rodrigo\", \"segundo_apellido\": \"Casado\", \"tipo_documento\": \"LE\", \"numero_documento\": 25036897, \"sexo\": \"X\", \"fecha_nacimiento\": \"1960-09-11\", \"id_provincia\": 17, \"cobertura_medica\": \"Mixta\"}\n",
      "persona:100248: {\"nombre\": \"Juan Manuel\", \"apellido\": \"Prada\", \"segundo_nombre\": \"NULL\", \"segundo_apellido\": \"Borrego\", \"tipo_documento\": \"DNI\", \"numero_documento\": 46261334, \"sexo\": \"F\", \"fecha_nacimiento\": \"1963-06-29\", \"id_provincia\": 17, \"cobertura_medica\": \"CPE\"}\n",
      "persona:100249: {\"nombre\": \"Herberto\", \"apellido\": \"Vara\", \"segundo_nombre\": \"NULL\", \"segundo_apellido\": \"Valent\\u00edn\", \"tipo_documento\": \"DNI\", \"numero_documento\": 30590751, \"sexo\": \"F\", \"fecha_nacimiento\": \"1942-03-15\", \"id_provincia\": 17, \"cobertura_medica\": \"CPE\"}\n",
      "persona:100250: {\"nombre\": \"Aurelia\", \"apellido\": \"Echevarr\\u00eda\", \"segundo_nombre\": \"NULL\", \"segundo_apellido\": \"Salinas\", \"tipo_documento\": \"DNI\", \"numero_documento\": 18254798, \"sexo\": \"M\", \"fecha_nacimiento\": \"2000-02-22\", \"id_provincia\": 17, \"cobertura_medica\": \"Mixta\"}\n",
      "persona:100251: {\"nombre\": \"Benjam\\u00edn\", \"apellido\": \"Carri\\u00f3n\", \"segundo_nombre\": \"NULL\", \"segundo_apellido\": \"NULL\", \"tipo_documento\": \"LC\", \"numero_documento\": 33548719, \"sexo\": \"X\", \"fecha_nacimiento\": \"1939-08-19\", \"id_provincia\": 17, \"cobertura_medica\": \"Mixta\"}\n",
      "persona:100252: {\"nombre\": \"Nazario\", \"apellido\": \"Rebollo\", \"segundo_nombre\": \"NULL\", \"segundo_apellido\": \"Mendoza\", \"tipo_documento\": \"DNI\", \"numero_documento\": 17227303, \"sexo\": \"M\", \"fecha_nacimiento\": \"1951-01-17\", \"id_provincia\": 17, \"cobertura_medica\": \"CPE\"}\n",
      "persona:100253: {\"nombre\": \"Manuela\", \"apellido\": \"Pujol\", \"segundo_nombre\": \"NULL\", \"segundo_apellido\": \"Carnero\", \"tipo_documento\": \"DNI\", \"numero_documento\": 45031087, \"sexo\": \"M\", \"fecha_nacimiento\": \"1964-05-13\", \"id_provincia\": 17, \"cobertura_medica\": \"CPE\"}\n",
      "persona:100254: {\"nombre\": \"Manuela\", \"apellido\": \"Larra\\u00f1aga\", \"segundo_nombre\": \"Ang\\u00e9lica\", \"segundo_apellido\": \"Pati\\u00f1o\", \"tipo_documento\": \"DNI\", \"numero_documento\": 46576437, \"sexo\": \"X\", \"fecha_nacimiento\": \"1975-11-07\", \"id_provincia\": 17, \"cobertura_medica\": \"CPE\"}\n",
      "persona:100255: {\"nombre\": \"Luna\", \"apellido\": \"Mar\\u00edn\", \"segundo_nombre\": \"Octavia\", \"segundo_apellido\": \"NULL\", \"tipo_documento\": \"DNI\", \"numero_documento\": 39338388, \"sexo\": \"M\", \"fecha_nacimiento\": \"2008-03-31\", \"id_provincia\": 17, \"cobertura_medica\": \"CPE\"}\n",
      "persona:100256: {\"nombre\": \"Lucho\", \"apellido\": \"Esteban\", \"segundo_nombre\": \"NULL\", \"segundo_apellido\": \"Lago\", \"tipo_documento\": \"DNI\", \"numero_documento\": 42728649, \"sexo\": \"M\", \"fecha_nacimiento\": \"2022-06-04\", \"id_provincia\": 17, \"cobertura_medica\": \"Mixta\"}\n",
      "persona:100257: {\"nombre\": \"Mart\\u00edn\", \"apellido\": \"Arjona\", \"segundo_nombre\": \"Nicol\\u00e1s\", \"segundo_apellido\": \"Mata\", \"tipo_documento\": \"LC\", \"numero_documento\": 16425085, \"sexo\": \"X\", \"fecha_nacimiento\": \"1930-12-08\", \"id_provincia\": 17, \"cobertura_medica\": \"Mixta\"}\n",
      "persona:100258: {\"nombre\": \"Eusebia\", \"apellido\": \"D\\u00edez\", \"segundo_nombre\": \"NULL\", \"segundo_apellido\": \"NULL\", \"tipo_documento\": \"DNI\", \"numero_documento\": 15341220, \"sexo\": \"X\", \"fecha_nacimiento\": \"1971-11-13\", \"id_provincia\": 17, \"cobertura_medica\": \"Mixta\"}\n",
      "persona:100259: {\"nombre\": \"Leire\", \"apellido\": \"Pablo\", \"segundo_nombre\": \"NULL\", \"segundo_apellido\": \"Nogu\\u00e9s\", \"tipo_documento\": \"LE\", \"numero_documento\": 48921432, \"sexo\": \"F\", \"fecha_nacimiento\": \"1930-02-16\", \"id_provincia\": 18, \"cobertura_medica\": \"Mixta\"}\n",
      "persona:100260: {\"nombre\": \"Sandra\", \"apellido\": \"Morata\", \"segundo_nombre\": \"NULL\", \"segundo_apellido\": \"Cifuentes\", \"tipo_documento\": \"DNI\", \"numero_documento\": 31750385, \"sexo\": \"F\", \"fecha_nacimiento\": \"2001-02-27\", \"id_provincia\": 18, \"cobertura_medica\": \"CPE\"}\n",
      "persona:100261: {\"nombre\": \"Rosendo\", \"apellido\": \"Mart\\u00ed\", \"segundo_nombre\": \"NULL\", \"segundo_apellido\": \"Torres\", \"tipo_documento\": \"LC\", \"numero_documento\": 28784345, \"sexo\": \"F\", \"fecha_nacimiento\": \"1957-05-15\", \"id_provincia\": 18, \"cobertura_medica\": \"Mixta\"}\n",
      "persona:100262: {\"nombre\": \"Adoraci\\u00f3n\", \"apellido\": \"N\\u00fa\\u00f1ez\", \"segundo_nombre\": \"Alexandra\", \"segundo_apellido\": \"Estrada\", \"tipo_documento\": \"DNI\", \"numero_documento\": 14462181, \"sexo\": \"M\", \"fecha_nacimiento\": \"1945-03-26\", \"id_provincia\": 18, \"cobertura_medica\": \"CPE\"}\n",
      "persona:100263: {\"nombre\": \"Zoraida\", \"apellido\": \"Cueto\", \"segundo_nombre\": \"NULL\", \"segundo_apellido\": \"NULL\", \"tipo_documento\": \"DNI\", \"numero_documento\": 21778200, \"sexo\": \"F\", \"fecha_nacimiento\": \"1960-10-21\", \"id_provincia\": 18, \"cobertura_medica\": \"CPE\"}\n",
      "persona:100264: {\"nombre\": \"Julio C\\u00e9sar\", \"apellido\": \"Villalobos\", \"segundo_nombre\": \"Demetrio\", \"segundo_apellido\": \"Sarmiento\", \"tipo_documento\": \"LC\", \"numero_documento\": 28719120, \"sexo\": \"X\", \"fecha_nacimiento\": \"2024-07-09\", \"id_provincia\": 18, \"cobertura_medica\": \"Mixta\"}\n",
      "persona:100265: {\"nombre\": \"Dafne\", \"apellido\": \"Camps\", \"segundo_nombre\": \"Hernando\", \"segundo_apellido\": \"NULL\", \"tipo_documento\": \"DNI\", \"numero_documento\": 32490318, \"sexo\": \"F\", \"fecha_nacimiento\": \"1956-10-07\", \"id_provincia\": 18, \"cobertura_medica\": \"Mixta\"}\n",
      "persona:100266: {\"nombre\": \"Soledad\", \"apellido\": \"Guerra\", \"segundo_nombre\": \"NULL\", \"segundo_apellido\": \"NULL\", \"tipo_documento\": \"DNI\", \"numero_documento\": 18731642, \"sexo\": \"M\", \"fecha_nacimiento\": \"1995-08-09\", \"id_provincia\": 18, \"cobertura_medica\": \"CPE\"}\n",
      "persona:100267: {\"nombre\": \"Mercedes\", \"apellido\": \"Ca\\u00f1as\", \"segundo_nombre\": \"NULL\", \"segundo_apellido\": \"Salas\", \"tipo_documento\": \"LE\", \"numero_documento\": 19524842, \"sexo\": \"X\", \"fecha_nacimiento\": \"2015-02-09\", \"id_provincia\": 18, \"cobertura_medica\": \"CPE\"}\n",
      "persona:100268: {\"nombre\": \"Gilberto\", \"apellido\": \"Alem\\u00e1n\", \"segundo_nombre\": \"Gast\\u00f3n\", \"segundo_apellido\": \"NULL\", \"tipo_documento\": \"LE\", \"numero_documento\": 33992852, \"sexo\": \"F\", \"fecha_nacimiento\": \"1975-01-27\", \"id_provincia\": 18, \"cobertura_medica\": \"CPE\"}\n",
      "persona:100269: {\"nombre\": \"Teodora\", \"apellido\": \"Vera\", \"segundo_nombre\": \"Josu\\u00e9\", \"segundo_apellido\": \"NULL\", \"tipo_documento\": \"DNI\", \"numero_documento\": 11257534, \"sexo\": \"M\", \"fecha_nacimiento\": \"2019-10-04\", \"id_provincia\": 18, \"cobertura_medica\": \"Mixta\"}\n",
      "persona:100270: {\"nombre\": \"Maricruz\", \"apellido\": \"Sastre\", \"segundo_nombre\": \"NULL\", \"segundo_apellido\": \"NULL\", \"tipo_documento\": \"DNI\", \"numero_documento\": 36415116, \"sexo\": \"X\", \"fecha_nacimiento\": \"1985-04-20\", \"id_provincia\": 18, \"cobertura_medica\": \"Mixta\"}\n",
      "persona:100271: {\"nombre\": \"Dora\", \"apellido\": \"Santamaria\", \"segundo_nombre\": \"Lupita\", \"segundo_apellido\": \"Anaya\", \"tipo_documento\": \"LC\", \"numero_documento\": 45384286, \"sexo\": \"X\", \"fecha_nacimiento\": \"2004-11-09\", \"id_provincia\": 18, \"cobertura_medica\": \"CPE\"}\n",
      "persona:100272: {\"nombre\": \"Agustina\", \"apellido\": \"Vall\\u00e9s\", \"segundo_nombre\": \"NULL\", \"segundo_apellido\": \"NULL\", \"tipo_documento\": \"DNI\", \"numero_documento\": 44845010, \"sexo\": \"X\", \"fecha_nacimiento\": \"2007-11-08\", \"id_provincia\": 18, \"cobertura_medica\": \"Mixta\"}\n",
      "persona:100273: {\"nombre\": \"Susana\", \"apellido\": \"Aguil\\u00f3\", \"segundo_nombre\": \"Rufino\", \"segundo_apellido\": \"Iniesta\", \"tipo_documento\": \"LC\", \"numero_documento\": 35616286, \"sexo\": \"X\", \"fecha_nacimiento\": \"1965-03-14\", \"id_provincia\": 18, \"cobertura_medica\": \"CPE\"}\n",
      "persona:100274: {\"nombre\": \"Renato\", \"apellido\": \"Pi\\u00f1a\", \"segundo_nombre\": \"Melchor\", \"segundo_apellido\": \"NULL\", \"tipo_documento\": \"LC\", \"numero_documento\": 25906155, \"sexo\": \"X\", \"fecha_nacimiento\": \"2015-12-10\", \"id_provincia\": 18, \"cobertura_medica\": \"Mixta\"}\n",
      "persona:100275: {\"nombre\": \"Florinda\", \"apellido\": \"Albero\", \"segundo_nombre\": \"NULL\", \"segundo_apellido\": \"NULL\", \"tipo_documento\": \"LC\", \"numero_documento\": 39400229, \"sexo\": \"M\", \"fecha_nacimiento\": \"1998-09-05\", \"id_provincia\": 19, \"cobertura_medica\": \"Mixta\"}\n",
      "persona:100276: {\"nombre\": \"Nerea\", \"apellido\": \"Canales\", \"segundo_nombre\": \"Chus\", \"segundo_apellido\": \"NULL\", \"tipo_documento\": \"DNI\", \"numero_documento\": 24648780, \"sexo\": \"X\", \"fecha_nacimiento\": \"1948-04-29\", \"id_provincia\": 19, \"cobertura_medica\": \"Mixta\"}\n",
      "persona:100277: {\"nombre\": \"Hayd\\u00e9e\", \"apellido\": \"Jove\", \"segundo_nombre\": \"Maristela\", \"segundo_apellido\": \"Lu\\u00eds\", \"tipo_documento\": \"DNI\", \"numero_documento\": 31292065, \"sexo\": \"X\", \"fecha_nacimiento\": \"2019-02-11\", \"id_provincia\": 19, \"cobertura_medica\": \"Mixta\"}\n",
      "persona:100278: {\"nombre\": \"Miguela\", \"apellido\": \"Rozas\", \"segundo_nombre\": \"NULL\", \"segundo_apellido\": \"Gomila\", \"tipo_documento\": \"DNI\", \"numero_documento\": 32976077, \"sexo\": \"F\", \"fecha_nacimiento\": \"1985-06-26\", \"id_provincia\": 19, \"cobertura_medica\": \"CPE\"}\n",
      "persona:100279: {\"nombre\": \"Ernesto\", \"apellido\": \"Quiroga\", \"segundo_nombre\": \"NULL\", \"segundo_apellido\": \"Sarabia\", \"tipo_documento\": \"DNI\", \"numero_documento\": 28039933, \"sexo\": \"F\", \"fecha_nacimiento\": \"1948-02-05\", \"id_provincia\": 19, \"cobertura_medica\": \"CPE\"}\n",
      "persona:100280: {\"nombre\": \"Victorino\", \"apellido\": \"Hidalgo\", \"segundo_nombre\": \"Silvestre\", \"segundo_apellido\": \"Palomino\", \"tipo_documento\": \"LE\", \"numero_documento\": 31020511, \"sexo\": \"F\", \"fecha_nacimiento\": \"1945-08-05\", \"id_provincia\": 19, \"cobertura_medica\": \"CPE\"}\n",
      "persona:100281: {\"nombre\": \"Rodrigo\", \"apellido\": \"Requena\", \"segundo_nombre\": \"NULL\", \"segundo_apellido\": \"Cruz\", \"tipo_documento\": \"DNI\", \"numero_documento\": 18537575, \"sexo\": \"M\", \"fecha_nacimiento\": \"2009-05-30\", \"id_provincia\": 19, \"cobertura_medica\": \"Mixta\"}\n",
      "persona:100282: {\"nombre\": \"Evaristo\", \"apellido\": \"Llorente\", \"segundo_nombre\": \"Aura\", \"segundo_apellido\": \"Arana\", \"tipo_documento\": \"DNI\", \"numero_documento\": 39097121, \"sexo\": \"M\", \"fecha_nacimiento\": \"1964-06-22\", \"id_provincia\": 19, \"cobertura_medica\": \"CPE\"}\n",
      "persona:100283: {\"nombre\": \"Juan Manuel\", \"apellido\": \"Prieto\", \"segundo_nombre\": \"Reinaldo\", \"segundo_apellido\": \"NULL\", \"tipo_documento\": \"LE\", \"numero_documento\": 24315524, \"sexo\": \"M\", \"fecha_nacimiento\": \"1972-11-28\", \"id_provincia\": 19, \"cobertura_medica\": \"Mixta\"}\n",
      "persona:100284: {\"nombre\": \"Eufemia\", \"apellido\": \"Esparza\", \"segundo_nombre\": \"NULL\", \"segundo_apellido\": \"Porras\", \"tipo_documento\": \"LE\", \"numero_documento\": 20196940, \"sexo\": \"M\", \"fecha_nacimiento\": \"1939-01-05\", \"id_provincia\": 19, \"cobertura_medica\": \"Mixta\"}\n",
      "persona:100285: {\"nombre\": \"Kike\", \"apellido\": \"F\\u00e1bregas\", \"segundo_nombre\": \"Valero\", \"segundo_apellido\": \"Iglesias\", \"tipo_documento\": \"LE\", \"numero_documento\": 34438822, \"sexo\": \"X\", \"fecha_nacimiento\": \"1977-05-08\", \"id_provincia\": 19, \"cobertura_medica\": \"CPE\"}\n",
      "persona:100286: {\"nombre\": \"Miriam\", \"apellido\": \"Maestre\", \"segundo_nombre\": \"\\u00c1mbar\", \"segundo_apellido\": \"Verd\\u00fa\", \"tipo_documento\": \"LE\", \"numero_documento\": 16487915, \"sexo\": \"F\", \"fecha_nacimiento\": \"2024-07-08\", \"id_provincia\": 19, \"cobertura_medica\": \"Mixta\"}\n",
      "persona:100287: {\"nombre\": \"Morena\", \"apellido\": \"Camino\", \"segundo_nombre\": \"Jes\\u00fas\", \"segundo_apellido\": \"V\\u00e1zquez\", \"tipo_documento\": \"LC\", \"numero_documento\": 34396833, \"sexo\": \"X\", \"fecha_nacimiento\": \"1973-12-20\", \"id_provincia\": 19, \"cobertura_medica\": \"Mixta\"}\n",
      "persona:100288: {\"nombre\": \"Hilda\", \"apellido\": \"Cordero\", \"segundo_nombre\": \"NULL\", \"segundo_apellido\": \"NULL\", \"tipo_documento\": \"DNI\", \"numero_documento\": 36774592, \"sexo\": \"M\", \"fecha_nacimiento\": \"1949-09-19\", \"id_provincia\": 19, \"cobertura_medica\": \"CPE\"}\n",
      "persona:100289: {\"nombre\": \"Mar\", \"apellido\": \"Aznar\", \"segundo_nombre\": \"NULL\", \"segundo_apellido\": \"NULL\", \"tipo_documento\": \"LE\", \"numero_documento\": 11052719, \"sexo\": \"F\", \"fecha_nacimiento\": \"2003-10-02\", \"id_provincia\": 20, \"cobertura_medica\": \"Mixta\"}\n",
      "persona:100290: {\"nombre\": \"Pastora\", \"apellido\": \"Ar\\u00e9valo\", \"segundo_nombre\": \"Eladio\", \"segundo_apellido\": \"NULL\", \"tipo_documento\": \"LE\", \"numero_documento\": 12128941, \"sexo\": \"F\", \"fecha_nacimiento\": \"2011-09-03\", \"id_provincia\": 20, \"cobertura_medica\": \"Mixta\"}\n",
      "persona:100291: {\"nombre\": \"Fortunata\", \"apellido\": \"Jimenez\", \"segundo_nombre\": \"Amelia\", \"segundo_apellido\": \"Peir\\u00f3\", \"tipo_documento\": \"LE\", \"numero_documento\": 48453614, \"sexo\": \"X\", \"fecha_nacimiento\": \"2023-02-16\", \"id_provincia\": 20, \"cobertura_medica\": \"CPE\"}\n",
      "persona:100292: {\"nombre\": \"\\u00c1mbar\", \"apellido\": \"Quiroga\", \"segundo_nombre\": \"NULL\", \"segundo_apellido\": \"Fajardo\", \"tipo_documento\": \"LC\", \"numero_documento\": 40783038, \"sexo\": \"F\", \"fecha_nacimiento\": \"1988-07-15\", \"id_provincia\": 20, \"cobertura_medica\": \"CPE\"}\n",
      "persona:100293: {\"nombre\": \"\\u00c1ngela\", \"apellido\": \"C\\u00f3zar\", \"segundo_nombre\": \"Jos\\u00e9\", \"segundo_apellido\": \"Torrent\", \"tipo_documento\": \"LE\", \"numero_documento\": 10978291, \"sexo\": \"X\", \"fecha_nacimiento\": \"1982-08-16\", \"id_provincia\": 20, \"cobertura_medica\": \"Mixta\"}\n",
      "persona:100294: {\"nombre\": \"Amor\", \"apellido\": \"Mill\\u00e1n\", \"segundo_nombre\": \"Omar\", \"segundo_apellido\": \"Casal\", \"tipo_documento\": \"LC\", \"numero_documento\": 27451648, \"sexo\": \"F\", \"fecha_nacimiento\": \"1971-05-21\", \"id_provincia\": 20, \"cobertura_medica\": \"CPE\"}\n",
      "persona:100295: {\"nombre\": \"Javier\", \"apellido\": \"Santamar\\u00eda\", \"segundo_nombre\": \"NULL\", \"segundo_apellido\": \"Ortiz\", \"tipo_documento\": \"LC\", \"numero_documento\": 20261108, \"sexo\": \"X\", \"fecha_nacimiento\": \"2009-05-07\", \"id_provincia\": 20, \"cobertura_medica\": \"Mixta\"}\n",
      "persona:100296: {\"nombre\": \"Pascuala\", \"apellido\": \"Pardo\", \"segundo_nombre\": \"NULL\", \"segundo_apellido\": \"NULL\", \"tipo_documento\": \"DNI\", \"numero_documento\": 36725238, \"sexo\": \"M\", \"fecha_nacimiento\": \"2009-03-05\", \"id_provincia\": 20, \"cobertura_medica\": \"CPE\"}\n",
      "persona:100297: {\"nombre\": \"\\u00c1ngel\", \"apellido\": \"Aragon\\u00e9s\", \"segundo_nombre\": \"Alberto\", \"segundo_apellido\": \"NULL\", \"tipo_documento\": \"LC\", \"numero_documento\": 11517718, \"sexo\": \"X\", \"fecha_nacimiento\": \"1932-05-28\", \"id_provincia\": 20, \"cobertura_medica\": \"CPE\"}\n",
      "persona:100298: {\"nombre\": \"Salom\\u00f3n\", \"apellido\": \"Espejo\", \"segundo_nombre\": \"H\\u00e9ctor\", \"segundo_apellido\": \"Cuevas\", \"tipo_documento\": \"DNI\", \"numero_documento\": 26034768, \"sexo\": \"M\", \"fecha_nacimiento\": \"1990-05-12\", \"id_provincia\": 20, \"cobertura_medica\": \"CPE\"}\n",
      "persona:100299: {\"nombre\": \"Heliodoro\", \"apellido\": \"Villalba\", \"segundo_nombre\": \"Seve\", \"segundo_apellido\": \"NULL\", \"tipo_documento\": \"DNI\", \"numero_documento\": 44490002, \"sexo\": \"F\", \"fecha_nacimiento\": \"1963-08-11\", \"id_provincia\": 20, \"cobertura_medica\": \"Mixta\"}\n",
      "persona:100300: {\"nombre\": \"Tecla\", \"apellido\": \"Sarmiento\", \"segundo_nombre\": \"NULL\", \"segundo_apellido\": \"NULL\", \"tipo_documento\": \"DNI\", \"numero_documento\": 32481691, \"sexo\": \"X\", \"fecha_nacimiento\": \"1989-10-10\", \"id_provincia\": 20, \"cobertura_medica\": \"Mixta\"}\n",
      "persona:100301: {\"nombre\": \"N\\u00e9lida\", \"apellido\": \"Miguel\", \"segundo_nombre\": \"Ale\", \"segundo_apellido\": \"Pulido\", \"tipo_documento\": \"LC\", \"numero_documento\": 44575344, \"sexo\": \"X\", \"fecha_nacimiento\": \"1984-07-02\", \"id_provincia\": 20, \"cobertura_medica\": \"Mixta\"}\n",
      "persona:100302: {\"nombre\": \"Marcial\", \"apellido\": \"Calvo\", \"segundo_nombre\": \"Maite\", \"segundo_apellido\": \"Cabrera\", \"tipo_documento\": \"DNI\", \"numero_documento\": 41085650, \"sexo\": \"M\", \"fecha_nacimiento\": \"2023-09-20\", \"id_provincia\": 20, \"cobertura_medica\": \"CPE\"}\n",
      "persona:100303: {\"nombre\": \"Fito\", \"apellido\": \"Ayala\", \"segundo_nombre\": \"Cornelio\", \"segundo_apellido\": \"NULL\", \"tipo_documento\": \"DNI\", \"numero_documento\": 40015074, \"sexo\": \"M\", \"fecha_nacimiento\": \"1977-08-24\", \"id_provincia\": 20, \"cobertura_medica\": \"Mixta\"}\n",
      "persona:100304: {\"nombre\": \"Horacio\", \"apellido\": \"Tovar\", \"segundo_nombre\": \"Brunilda\", \"segundo_apellido\": \"Olmo\", \"tipo_documento\": \"DNI\", \"numero_documento\": 20190411, \"sexo\": \"X\", \"fecha_nacimiento\": \"1970-10-07\", \"id_provincia\": 20, \"cobertura_medica\": \"CPE\"}\n",
      "persona:100305: {\"nombre\": \"An\\u00edbal\", \"apellido\": \"Alcaraz\", \"segundo_nombre\": \"NULL\", \"segundo_apellido\": \"NULL\", \"tipo_documento\": \"LE\", \"numero_documento\": 42017743, \"sexo\": \"X\", \"fecha_nacimiento\": \"1974-07-12\", \"id_provincia\": 20, \"cobertura_medica\": \"CPE\"}\n",
      "persona:100306: {\"nombre\": \"Maxi\", \"apellido\": \"Duarte\", \"segundo_nombre\": \"NULL\", \"segundo_apellido\": \"NULL\", \"tipo_documento\": \"LE\", \"numero_documento\": 14525308, \"sexo\": \"M\", \"fecha_nacimiento\": \"2015-07-04\", \"id_provincia\": 20, \"cobertura_medica\": \"CPE\"}\n",
      "persona:100307: {\"nombre\": \"Diana\", \"apellido\": \"Vaquero\", \"segundo_nombre\": \"Mamen\", \"segundo_apellido\": \"Anglada\", \"tipo_documento\": \"DNI\", \"numero_documento\": 11817067, \"sexo\": \"X\", \"fecha_nacimiento\": \"1960-03-22\", \"id_provincia\": 20, \"cobertura_medica\": \"CPE\"}\n",
      "persona:100308: {\"nombre\": \"Jos\\u00e9 Luis\", \"apellido\": \"Arnau\", \"segundo_nombre\": \"Laura\", \"segundo_apellido\": \"NULL\", \"tipo_documento\": \"DNI\", \"numero_documento\": 49959283, \"sexo\": \"F\", \"fecha_nacimiento\": \"2021-01-29\", \"id_provincia\": 21, \"cobertura_medica\": \"CPE\"}\n",
      "persona:100309: {\"nombre\": \"Leticia\", \"apellido\": \"Armas\", \"segundo_nombre\": \"NULL\", \"segundo_apellido\": \"Zurita\", \"tipo_documento\": \"LC\", \"numero_documento\": 23510400, \"sexo\": \"M\", \"fecha_nacimiento\": \"2004-06-07\", \"id_provincia\": 21, \"cobertura_medica\": \"Mixta\"}\n",
      "persona:100310: {\"nombre\": \"Zaira\", \"apellido\": \"Taboada\", \"segundo_nombre\": \"Febe\", \"segundo_apellido\": \"NULL\", \"tipo_documento\": \"LC\", \"numero_documento\": 24561556, \"sexo\": \"F\", \"fecha_nacimiento\": \"1969-05-20\", \"id_provincia\": 21, \"cobertura_medica\": \"CPE\"}\n",
      "persona:100311: {\"nombre\": \"Emelina\", \"apellido\": \"Mill\\u00e1n\", \"segundo_nombre\": \"Pepe\", \"segundo_apellido\": \"Borrell\", \"tipo_documento\": \"DNI\", \"numero_documento\": 36058036, \"sexo\": \"M\", \"fecha_nacimiento\": \"1974-06-08\", \"id_provincia\": 21, \"cobertura_medica\": \"Mixta\"}\n",
      "persona:100312: {\"nombre\": \"Ad\\u00e1n\", \"apellido\": \"Fabra\", \"segundo_nombre\": \"NULL\", \"segundo_apellido\": \"NULL\", \"tipo_documento\": \"LC\", \"numero_documento\": 22437227, \"sexo\": \"X\", \"fecha_nacimiento\": \"1998-07-30\", \"id_provincia\": 21, \"cobertura_medica\": \"Mixta\"}\n",
      "persona:100313: {\"nombre\": \"Palmira\", \"apellido\": \"Aguilar\", \"segundo_nombre\": \"NULL\", \"segundo_apellido\": \"NULL\", \"tipo_documento\": \"LC\", \"numero_documento\": 47280882, \"sexo\": \"X\", \"fecha_nacimiento\": \"2010-03-20\", \"id_provincia\": 21, \"cobertura_medica\": \"CPE\"}\n",
      "persona:100314: {\"nombre\": \"Rodrigo\", \"apellido\": \"Contreras\", \"segundo_nombre\": \"NULL\", \"segundo_apellido\": \"NULL\", \"tipo_documento\": \"LE\", \"numero_documento\": 47134533, \"sexo\": \"F\", \"fecha_nacimiento\": \"2000-01-29\", \"id_provincia\": 21, \"cobertura_medica\": \"CPE\"}\n",
      "persona:100315: {\"nombre\": \"Camila\", \"apellido\": \"Soriano\", \"segundo_nombre\": \"Gervasio\", \"segundo_apellido\": \"NULL\", \"tipo_documento\": \"LC\", \"numero_documento\": 39635705, \"sexo\": \"X\", \"fecha_nacimiento\": \"1946-10-04\", \"id_provincia\": 21, \"cobertura_medica\": \"CPE\"}\n",
      "persona:100316: {\"nombre\": \"Norberto\", \"apellido\": \"Sim\\u00f3\", \"segundo_nombre\": \"NULL\", \"segundo_apellido\": \"NULL\", \"tipo_documento\": \"LE\", \"numero_documento\": 10847081, \"sexo\": \"M\", \"fecha_nacimiento\": \"1962-11-27\", \"id_provincia\": 21, \"cobertura_medica\": \"Mixta\"}\n",
      "persona:100317: {\"nombre\": \"Lidia\", \"apellido\": \"Cepeda\", \"segundo_nombre\": \"NULL\", \"segundo_apellido\": \"Pi\\u00f1a\", \"tipo_documento\": \"LC\", \"numero_documento\": 44302114, \"sexo\": \"X\", \"fecha_nacimiento\": \"1959-12-20\", \"id_provincia\": 21, \"cobertura_medica\": \"CPE\"}\n",
      "persona:100318: {\"nombre\": \"Virgilio\", \"apellido\": \"Molina\", \"segundo_nombre\": \"Reyes\", \"segundo_apellido\": \"Falc\\u00f3\", \"tipo_documento\": \"DNI\", \"numero_documento\": 30140640, \"sexo\": \"F\", \"fecha_nacimiento\": \"1998-02-09\", \"id_provincia\": 21, \"cobertura_medica\": \"Mixta\"}\n",
      "persona:100319: {\"nombre\": \"N\\u00e9lida\", \"apellido\": \"Arce\", \"segundo_nombre\": \"Trinidad\", \"segundo_apellido\": \"Fuentes\", \"tipo_documento\": \"LC\", \"numero_documento\": 43518163, \"sexo\": \"F\", \"fecha_nacimiento\": \"1987-06-21\", \"id_provincia\": 21, \"cobertura_medica\": \"CPE\"}\n",
      "persona:100320: {\"nombre\": \"Milagros\", \"apellido\": \"Mill\\u00e1n\", \"segundo_nombre\": \"Julia\", \"segundo_apellido\": \"Puig\", \"tipo_documento\": \"LE\", \"numero_documento\": 30739526, \"sexo\": \"X\", \"fecha_nacimiento\": \"2019-11-16\", \"id_provincia\": 22, \"cobertura_medica\": \"CPE\"}\n",
      "persona:100321: {\"nombre\": \"Esther\", \"apellido\": \"Berrocal\", \"segundo_nombre\": \"Alicia\", \"segundo_apellido\": \"Guerra\", \"tipo_documento\": \"DNI\", \"numero_documento\": 16350696, \"sexo\": \"M\", \"fecha_nacimiento\": \"1971-08-23\", \"id_provincia\": 22, \"cobertura_medica\": \"CPE\"}\n",
      "persona:100322: {\"nombre\": \"Tecla\", \"apellido\": \"Carrillo\", \"segundo_nombre\": \"Aureliano\", \"segundo_apellido\": \"NULL\", \"tipo_documento\": \"LC\", \"numero_documento\": 40548443, \"sexo\": \"X\", \"fecha_nacimiento\": \"1974-11-11\", \"id_provincia\": 22, \"cobertura_medica\": \"Mixta\"}\n",
      "persona:100323: {\"nombre\": \"Lupe\", \"apellido\": \"Gonz\\u00e1lez\", \"segundo_nombre\": \"Vanesa\", \"segundo_apellido\": \"Cazorla\", \"tipo_documento\": \"LC\", \"numero_documento\": 35526260, \"sexo\": \"M\", \"fecha_nacimiento\": \"1969-01-13\", \"id_provincia\": 22, \"cobertura_medica\": \"CPE\"}\n",
      "persona:100324: {\"nombre\": \"Camila\", \"apellido\": \"Roura\", \"segundo_nombre\": \"NULL\", \"segundo_apellido\": \"Andrade\", \"tipo_documento\": \"LE\", \"numero_documento\": 45533017, \"sexo\": \"X\", \"fecha_nacimiento\": \"1936-03-20\", \"id_provincia\": 22, \"cobertura_medica\": \"CPE\"}\n",
      "persona:100325: {\"nombre\": \"Marita\", \"apellido\": \"Enr\\u00edquez\", \"segundo_nombre\": \"Lope\", \"segundo_apellido\": \"NULL\", \"tipo_documento\": \"LC\", \"numero_documento\": 24190120, \"sexo\": \"M\", \"fecha_nacimiento\": \"1996-10-26\", \"id_provincia\": 22, \"cobertura_medica\": \"CPE\"}\n",
      "persona:100326: {\"nombre\": \"Sebasti\\u00e1n\", \"apellido\": \"Salinas\", \"segundo_nombre\": \"NULL\", \"segundo_apellido\": \"NULL\", \"tipo_documento\": \"DNI\", \"numero_documento\": 26806012, \"sexo\": \"F\", \"fecha_nacimiento\": \"1978-04-13\", \"id_provincia\": 22, \"cobertura_medica\": \"CPE\"}\n",
      "persona:100327: {\"nombre\": \"Rita\", \"apellido\": \"Perales\", \"segundo_nombre\": \"NULL\", \"segundo_apellido\": \"NULL\", \"tipo_documento\": \"DNI\", \"numero_documento\": 19668657, \"sexo\": \"F\", \"fecha_nacimiento\": \"2015-07-28\", \"id_provincia\": 22, \"cobertura_medica\": \"CPE\"}\n",
      "persona:100328: {\"nombre\": \"Bonifacio\", \"apellido\": \"Valenzuela\", \"segundo_nombre\": \"NULL\", \"segundo_apellido\": \"NULL\", \"tipo_documento\": \"LC\", \"numero_documento\": 15729657, \"sexo\": \"F\", \"fecha_nacimiento\": \"1952-02-24\", \"id_provincia\": 22, \"cobertura_medica\": \"CPE\"}\n",
      "persona:100329: {\"nombre\": \"Bibiana\", \"apellido\": \"Jaume\", \"segundo_nombre\": \"Chelo\", \"segundo_apellido\": \"NULL\", \"tipo_documento\": \"DNI\", \"numero_documento\": 42153099, \"sexo\": \"M\", \"fecha_nacimiento\": \"1986-03-19\", \"id_provincia\": 22, \"cobertura_medica\": \"Mixta\"}\n",
      "persona:100330: {\"nombre\": \"Adalberto\", \"apellido\": \"Ram\\u00edrez\", \"segundo_nombre\": \"Mart\\u00edn\", \"segundo_apellido\": \"NULL\", \"tipo_documento\": \"DNI\", \"numero_documento\": 25110006, \"sexo\": \"F\", \"fecha_nacimiento\": \"1982-09-14\", \"id_provincia\": 22, \"cobertura_medica\": \"Mixta\"}\n",
      "persona:100331: {\"nombre\": \"Reynaldo\", \"apellido\": \"Nogueira\", \"segundo_nombre\": \"NULL\", \"segundo_apellido\": \"Tudela\", \"tipo_documento\": \"LC\", \"numero_documento\": 18257732, \"sexo\": \"M\", \"fecha_nacimiento\": \"1997-04-13\", \"id_provincia\": 22, \"cobertura_medica\": \"Mixta\"}\n",
      "persona:100332: {\"nombre\": \"Eutropio\", \"apellido\": \"Caballero\", \"segundo_nombre\": \"NULL\", \"segundo_apellido\": \"NULL\", \"tipo_documento\": \"LE\", \"numero_documento\": 49737521, \"sexo\": \"X\", \"fecha_nacimiento\": \"1931-03-24\", \"id_provincia\": 22, \"cobertura_medica\": \"CPE\"}\n",
      "persona:100333: {\"nombre\": \"Ezequiel\", \"apellido\": \"Carb\\u00f3\", \"segundo_nombre\": \"Teo\", \"segundo_apellido\": \"Juli\\u00e1\", \"tipo_documento\": \"DNI\", \"numero_documento\": 47772450, \"sexo\": \"X\", \"fecha_nacimiento\": \"2006-12-14\", \"id_provincia\": 22, \"cobertura_medica\": \"Mixta\"}\n",
      "persona:100334: {\"nombre\": \"Reyes\", \"apellido\": \"Bernal\", \"segundo_nombre\": \"NULL\", \"segundo_apellido\": \"M\\u00ednguez\", \"tipo_documento\": \"LE\", \"numero_documento\": 19089318, \"sexo\": \"X\", \"fecha_nacimiento\": \"1952-11-13\", \"id_provincia\": 22, \"cobertura_medica\": \"CPE\"}\n",
      "persona:100335: {\"nombre\": \"Nacho\", \"apellido\": \"Pedrosa\", \"segundo_nombre\": \"Otilia\", \"segundo_apellido\": \"Quesada\", \"tipo_documento\": \"LC\", \"numero_documento\": 39288705, \"sexo\": \"M\", \"fecha_nacimiento\": \"1955-12-05\", \"id_provincia\": 22, \"cobertura_medica\": \"CPE\"}\n",
      "persona:100336: {\"nombre\": \"Eutimio\", \"apellido\": \"Jara\", \"segundo_nombre\": \"Baldomero\", \"segundo_apellido\": \"Pina\", \"tipo_documento\": \"DNI\", \"numero_documento\": 19867381, \"sexo\": \"F\", \"fecha_nacimiento\": \"1941-12-29\", \"id_provincia\": 22, \"cobertura_medica\": \"CPE\"}\n",
      "persona:100337: {\"nombre\": \"Lucas\", \"apellido\": \"Carrillo\", \"segundo_nombre\": \"NULL\", \"segundo_apellido\": \"NULL\", \"tipo_documento\": \"LE\", \"numero_documento\": 13922520, \"sexo\": \"F\", \"fecha_nacimiento\": \"1963-06-30\", \"id_provincia\": 23, \"cobertura_medica\": \"CPE\"}\n",
      "persona:100338: {\"nombre\": \"Nacho\", \"apellido\": \"Torrent\", \"segundo_nombre\": \"NULL\", \"segundo_apellido\": \"Chaparro\", \"tipo_documento\": \"DNI\", \"numero_documento\": 44849386, \"sexo\": \"F\", \"fecha_nacimiento\": \"2022-05-05\", \"id_provincia\": 23, \"cobertura_medica\": \"CPE\"}\n",
      "persona:100339: {\"nombre\": \"Juan Antonio\", \"apellido\": \"Borrego\", \"segundo_nombre\": \"Calixto\", \"segundo_apellido\": \"Milla\", \"tipo_documento\": \"DNI\", \"numero_documento\": 19696042, \"sexo\": \"F\", \"fecha_nacimiento\": \"1963-04-27\", \"id_provincia\": 23, \"cobertura_medica\": \"Mixta\"}\n",
      "persona:100340: {\"nombre\": \"Carina\", \"apellido\": \"C\\u00f3rdoba\", \"segundo_nombre\": \"NULL\", \"segundo_apellido\": \"NULL\", \"tipo_documento\": \"DNI\", \"numero_documento\": 24450184, \"sexo\": \"X\", \"fecha_nacimiento\": \"1948-01-16\", \"id_provincia\": 23, \"cobertura_medica\": \"Mixta\"}\n",
      "persona:100341: {\"nombre\": \"Pl\\u00e1cido\", \"apellido\": \"Hernandez\", \"segundo_nombre\": \"Jos\\u00e9 Manuel\", \"segundo_apellido\": \"NULL\", \"tipo_documento\": \"LE\", \"numero_documento\": 40782403, \"sexo\": \"F\", \"fecha_nacimiento\": \"1969-10-16\", \"id_provincia\": 23, \"cobertura_medica\": \"Mixta\"}\n",
      "persona:100342: {\"nombre\": \"Dafne\", \"apellido\": \"Escudero\", \"segundo_nombre\": \"Rita\", \"segundo_apellido\": \"Iba\\u00f1ez\", \"tipo_documento\": \"LC\", \"numero_documento\": 36073123, \"sexo\": \"F\", \"fecha_nacimiento\": \"1945-04-03\", \"id_provincia\": 23, \"cobertura_medica\": \"CPE\"}\n",
      "persona:100343: {\"nombre\": \"Anselmo\", \"apellido\": \"Falc\\u00f3n\", \"segundo_nombre\": \"Ileana\", \"segundo_apellido\": \"NULL\", \"tipo_documento\": \"LC\", \"numero_documento\": 49055651, \"sexo\": \"F\", \"fecha_nacimiento\": \"2019-08-17\", \"id_provincia\": 23, \"cobertura_medica\": \"CPE\"}\n",
      "persona:100344: {\"nombre\": \"Mario\", \"apellido\": \"Arribas\", \"segundo_nombre\": \"NULL\", \"segundo_apellido\": \"Garc\\u00e9s\", \"tipo_documento\": \"DNI\", \"numero_documento\": 18409795, \"sexo\": \"F\", \"fecha_nacimiento\": \"1941-09-14\", \"id_provincia\": 23, \"cobertura_medica\": \"Mixta\"}\n",
      "persona:100345: {\"nombre\": \"Basilio\", \"apellido\": \"R\\u00edos\", \"segundo_nombre\": \"Bruno\", \"segundo_apellido\": \"Esparza\", \"tipo_documento\": \"LE\", \"numero_documento\": 45885672, \"sexo\": \"M\", \"fecha_nacimiento\": \"1966-07-21\", \"id_provincia\": 23, \"cobertura_medica\": \"CPE\"}\n",
      "persona:100346: {\"nombre\": \"Lupita\", \"apellido\": \"Medina\", \"segundo_nombre\": \"Flavia\", \"segundo_apellido\": \"Mar\\u00ed\", \"tipo_documento\": \"LE\", \"numero_documento\": 23221922, \"sexo\": \"X\", \"fecha_nacimiento\": \"2001-05-09\", \"id_provincia\": 23, \"cobertura_medica\": \"CPE\"}\n",
      "persona:100347: {\"nombre\": \"Natalio\", \"apellido\": \"Agullo\", \"segundo_nombre\": \"Juanito\", \"segundo_apellido\": \"NULL\", \"tipo_documento\": \"DNI\", \"numero_documento\": 44595986, \"sexo\": \"F\", \"fecha_nacimiento\": \"1980-01-26\", \"id_provincia\": 23, \"cobertura_medica\": \"CPE\"}\n",
      "persona:100348: {\"nombre\": \"Leticia\", \"apellido\": \"Plaza\", \"segundo_nombre\": \"NULL\", \"segundo_apellido\": \"NULL\", \"tipo_documento\": \"DNI\", \"numero_documento\": 26896226, \"sexo\": \"F\", \"fecha_nacimiento\": \"1999-02-22\", \"id_provincia\": 23, \"cobertura_medica\": \"CPE\"}\n",
      "persona:100349: {\"nombre\": \"Carlos\", \"apellido\": \"Sanmart\\u00edn\", \"segundo_nombre\": \"NULL\", \"segundo_apellido\": \"NULL\", \"tipo_documento\": \"LC\", \"numero_documento\": 16971735, \"sexo\": \"F\", \"fecha_nacimiento\": \"1957-06-06\", \"id_provincia\": 23, \"cobertura_medica\": \"CPE\"}\n",
      "persona:100350: {\"nombre\": \"Jordi\", \"apellido\": \"Pujadas\", \"segundo_nombre\": \"In\\u00e9s\", \"segundo_apellido\": \"NULL\", \"tipo_documento\": \"DNI\", \"numero_documento\": 28714475, \"sexo\": \"F\", \"fecha_nacimiento\": \"1952-11-26\", \"id_provincia\": 23, \"cobertura_medica\": \"CPE\"}\n",
      "persona:100351: {\"nombre\": \"Miguel \\u00c1ngel\", \"apellido\": \"Conesa\", \"segundo_nombre\": \"NULL\", \"segundo_apellido\": \"Manso\", \"tipo_documento\": \"LE\", \"numero_documento\": 29669753, \"sexo\": \"M\", \"fecha_nacimiento\": \"1971-11-19\", \"id_provincia\": 23, \"cobertura_medica\": \"CPE\"}\n",
      "persona:100352: {\"nombre\": \"Jacobo\", \"apellido\": \"Reig\", \"segundo_nombre\": \"Gala\", \"segundo_apellido\": \"NULL\", \"tipo_documento\": \"LE\", \"numero_documento\": 23553629, \"sexo\": \"M\", \"fecha_nacimiento\": \"2017-01-19\", \"id_provincia\": 23, \"cobertura_medica\": \"CPE\"}\n",
      "persona:100353: {\"nombre\": \"Basilio\", \"apellido\": \"Pomares\", \"segundo_nombre\": \"Tito\", \"segundo_apellido\": \"NULL\", \"tipo_documento\": \"LC\", \"numero_documento\": 45510313, \"sexo\": \"F\", \"fecha_nacimiento\": \"1972-04-09\", \"id_provincia\": 23, \"cobertura_medica\": \"Mixta\"}\n",
      "persona:100354: {\"nombre\": \"Moreno\", \"apellido\": \"Mayo\", \"segundo_nombre\": \"Isa\\u00edas\", \"segundo_apellido\": \"NULL\", \"tipo_documento\": \"DNI\", \"numero_documento\": 13206411, \"sexo\": \"X\", \"fecha_nacimiento\": \"1994-04-05\", \"id_provincia\": 23, \"cobertura_medica\": \"CPE\"}\n",
      "persona:100355: {\"nombre\": \"Cloe\", \"apellido\": \"Quintero\", \"segundo_nombre\": \"NULL\", \"segundo_apellido\": \"Olmo\", \"tipo_documento\": \"DNI\", \"numero_documento\": 49402701, \"sexo\": \"M\", \"fecha_nacimiento\": \"1992-08-11\", \"id_provincia\": 23, \"cobertura_medica\": \"Mixta\"}\n",
      "persona:100356: {\"nombre\": \"Lorena\", \"apellido\": \"Porta\", \"segundo_nombre\": \"Encarnaci\\u00f3n\", \"segundo_apellido\": \"NULL\", \"tipo_documento\": \"LE\", \"numero_documento\": 42140872, \"sexo\": \"M\", \"fecha_nacimiento\": \"1977-04-08\", \"id_provincia\": 23, \"cobertura_medica\": \"Mixta\"}\n"
     ]
    }
   ],
   "source": [
    "personas_retrieved = r.hgetall(\"personas\")\n",
    "sorted_personas_retrieved = sorted(personas_retrieved.items(), key=lambda x: int(x[0].split(':')[1]))\n",
    "\n",
    "# Mostrar ordenado\n",
    "for key, value in sorted_personas_retrieved:\n",
    "    print(f\"{key}: {value}\")"
   ]
  },
  {
   "cell_type": "code",
   "execution_count": 15,
   "id": "8fba0c63",
   "metadata": {},
   "outputs": [
    {
     "name": "stdout",
     "output_type": "stream",
     "text": [
      "Persona 1002: {'nombre': 'Juan', 'apellido': 'Castore', 'segundo_nombre': 'Ignacio', 'segundo_apellido': 'Bergioli', 'tipo_documento': 'DNI', 'numero_documento': 42017743, 'sexo': 'M', 'fecha_nacimiento': '1978-07-12', 'id_provincia': 4, 'cobertura_medica': 'CPE'}\n"
     ]
    }
   ],
   "source": [
    "new_person = {\"nombre\": \"Juan\", \"apellido\": \"Castore\", \"segundo_nombre\": \"Ignacio\", \"segundo_apellido\": \"Bergioli\", \"tipo_documento\": \"DNI\", \"numero_documento\": 42017743, \"sexo\": \"M\", \"fecha_nacimiento\": \"1978-07-12\", \"id_provincia\": 4, \"cobertura_medica\": \"CPE\"}\n",
    "r.hset(\"personas\", \"persona:1002\", json.dumps(new_person))\n",
    "print(\"Persona 1002:\", json.loads(r.hget(\"personas\", \"persona:1002\")))"
   ]
  },
  {
   "cell_type": "markdown",
   "id": "dab06c9d",
   "metadata": {},
   "source": [
    "## 2"
   ]
  },
  {
   "cell_type": "markdown",
   "id": "69ce8955",
   "metadata": {},
   "source": [
    "#### Lista de HCEs que no gestionan recetas digitales:\n",
    "Nuestra \"lista de tareas\" contiene los HCE que no generan receta digitales, representando los que quedan por adaptar y modernizar a esta tecnología."
   ]
  },
  {
   "cell_type": "code",
   "execution_count": 17,
   "id": "c6bbe33b",
   "metadata": {},
   "outputs": [
    {
     "data": {
      "text/plain": [
       "21"
      ]
     },
     "execution_count": 17,
     "metadata": {},
     "output_type": "execute_result"
    }
   ],
   "source": [
    "import pandas as pd\n",
    "\n",
    "path = 'https://raw.githubusercontent.com/Dafydd8/TP2-TDVII/main/data/hce.csv'\n",
    "df_hce = pd.read_csv(path)\n",
    "\n",
    "hce_no_gestiona = df_hce[df_hce['generacion_receta_digital'] == 'No genera']['nombre'].tolist()\n",
    "\n",
    "r.delete('hce_no_genera_recetas')\n",
    "r.rpush('hce_no_genera_recetas', *hce_no_gestiona)"
   ]
  },
  {
   "cell_type": "code",
   "execution_count": 18,
   "id": "283df97f",
   "metadata": {},
   "outputs": [
    {
     "name": "stdout",
     "output_type": "stream",
     "text": [
      "['HCE Parra', 'HCE Blanco', 'HCE Royo', 'HCE Catalán', 'HCE Arana', 'HCE Almeida', 'HCE Montesinos', 'HCE Rocamora', 'HCE Villena', 'HCE Chaparro', 'HCE Alegria', 'HCE Nicolás', 'HCE Sebastián', 'HCE Esparza', 'HCE Morata', 'HCE Vilar', 'HCE Alcázar', 'HCE Falcó', 'HCE Jover', 'HCE Lobato', 'HCE Ferrándiz']\n"
     ]
    }
   ],
   "source": [
    "#recuperar la lista de hces que no generan recetas digitales (puede ser util, por ejemplo, para un area de modernizacion)\n",
    "print(r.lrange('hce_no_genera_recetas', 0, -1))"
   ]
  },
  {
   "cell_type": "code",
   "execution_count": 19,
   "id": "368a0451",
   "metadata": {},
   "outputs": [
    {
     "name": "stdout",
     "output_type": "stream",
     "text": [
      "['HCE Parra', 'HCE Blanco', 'HCE Catalán', 'HCE Arana', 'HCE Almeida', 'HCE Montesinos', 'HCE Rocamora', 'HCE Villena', 'HCE Chaparro', 'HCE Alegria', 'HCE Nicolás', 'HCE Sebastián', 'HCE Esparza', 'HCE Morata', 'HCE Vilar', 'HCE Alcázar', 'HCE Falcó', 'HCE Jover', 'HCE Lobato', 'HCE Ferrándiz']\n"
     ]
    }
   ],
   "source": [
    "#eliminar una determinada HCE (por ejemplo, si se moderniza)\n",
    "r.lrem('hce_no_genera_recetas', 1, 'HCE Royo')  # Elimina una ocurrencia de 'Hospital Italiano' (la única en este caso)\n",
    "print(r.lrange('hce_no_genera_recetas', 0, -1))  # Verifica que se haya eliminado"
   ]
  },
  {
   "cell_type": "markdown",
   "id": "0cc33272",
   "metadata": {},
   "source": [
    "## 3"
   ]
  },
  {
   "cell_type": "markdown",
   "id": "67fb01b4",
   "metadata": {},
   "source": [
    "Uso de claves temporales para detectar cuando un problema lleva mucho tiempo sin ser atendido"
   ]
  },
  {
   "cell_type": "code",
   "execution_count": 67,
   "id": "8312eda7",
   "metadata": {},
   "outputs": [
    {
     "data": {
      "text/plain": [
       "True"
      ]
     },
     "execution_count": 67,
     "metadata": {},
     "output_type": "execute_result"
    }
   ],
   "source": [
    "problema1 = {\n",
    "    \"cod_problema\":1,\n",
    "    \"cod_refes\":11,\n",
    "    \"tipo\":\"Infraestructura\",\n",
    "    \"descripcion\":\"Techo con filtraciones en sala de espera\"\n",
    "}\n",
    "\n",
    "problema2 = {\n",
    "    \"cod_problema\":11,\n",
    "    \"cod_refes\":1,\n",
    "    \"tipo\":\"Infraestructura\",\n",
    "    \"descripcion\":\"Fallas eléctricas en quirófano\"\n",
    "}\n",
    "\n",
    "problema3 = {\n",
    "    \"cod_problema\":11,\n",
    "    \"cod_refes\":1,\n",
    "    \"tipo\":\"Infraestructura\",\n",
    "    \"descripcion\":\"INCENDIO!\"\n",
    "}\n",
    "\n",
    "#r.setex(\"problema:100\", 86400, json.dumps(problema1))  # Guarda el problema con una caducidad de 24 horas\n",
    "#r.setex(\"problema:101\", 7200, json.dumps(problema2))  # Guarda el problema con una caducidad de 2 horas (es más urgente)\n",
    "r.setex(\"problema:102\", 10, json.dumps(problema3))  # Guarda el problema con una caducidad de 30 segundos (es muy urgente) (y nos sirve para testear :) )"
   ]
  },
  {
   "cell_type": "code",
   "execution_count": null,
   "id": "c85b48a0",
   "metadata": {},
   "outputs": [
    {
     "name": "stdout",
     "output_type": "stream",
     "text": [
      "Queda menos de 1 hora para resolver el problema: {'cod_problema': 11, 'cod_refes': 1, 'tipo': 'Infraestructura', 'descripcion': 'INCENDIO!'}\n",
      "Problema expirado! Info: {'cod_problema': 11, 'cod_refes': 1, 'tipo': 'Infraestructura', 'descripcion': 'INCENDIO!'}\n",
      "[]\n"
     ]
    }
   ],
   "source": [
    "# Imprimir un mensje por pantalla cuando a algún problema le quede menos de 1 hora de vida (se lo pasa a considerar urgente)\n",
    "# y cuando expire\n",
    "\n",
    "#problemas = [(\"problema:100\", True), (\"problema:101\", True), (\"problema:102\", True)]  # Lista de problemas con su estado de mostrar mensaje\n",
    "problemas = [(\"problema:102\", True)] # Un solo problema para probar el código\n",
    "while (len(problemas) > 0):\n",
    "    for problema in problemas:\n",
    "        cod = problema[0]\n",
    "        mostrar = problema[1]\n",
    "        ttl = r.ttl(cod)  # Obtiene el tiempo de vida restante de cada problema\n",
    "        if mostrar and ttl <= 3600 :\n",
    "            print(\"Queda menos de 1 hora para resolver el problema:\", json.loads(r.get(cod)))\n",
    "            problemas[problemas.index(problema)] = (cod, False) # Actualiza el estado para no mostrar el mensaje nuevamente\n",
    "        elif ttl == 0:\n",
    "            print(\"Problema expirado! Info:\", json.loads(r.get(cod)))\n",
    "            problemas.pop(problemas.index(problema))"
   ]
  }
 ],
 "metadata": {
  "kernelspec": {
   "display_name": "td7",
   "language": "python",
   "name": "python3"
  },
  "language_info": {
   "codemirror_mode": {
    "name": "ipython",
    "version": 3
   },
   "file_extension": ".py",
   "mimetype": "text/x-python",
   "name": "python",
   "nbconvert_exporter": "python",
   "pygments_lexer": "ipython3",
   "version": "3.11.11"
  }
 },
 "nbformat": 4,
 "nbformat_minor": 5
}
